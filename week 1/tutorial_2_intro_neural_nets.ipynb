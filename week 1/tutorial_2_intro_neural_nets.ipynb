{
  "cells": [
    {
      "cell_type": "markdown",
      "metadata": {
        "id": "cYMn54Cb4g6q"
      },
      "source": [
        "# Thinking with Deep Learning: Week 1 Part 2\n",
        "# Introducing Deep Learning\n",
        "\n",
        "__Instructor:__ James Evans\n",
        "\n",
        "__Notebook Author:__ Bhargav Srinivasa Desikan\n",
        "\n",
        "__Teaching Assistants:__ Junsol Kim"
      ]
    },
    {
      "cell_type": "markdown",
      "metadata": {
        "id": "GJ1K0PGs843F"
      },
      "source": [
        "This notebook will demonstrate how to whip up simple shallow and deep neural networks in both Keras and PyTorch, and how these fit into our larger machine learning pipelines. The purpose of this tutorial is to get you up and running in building a simple neural network for classification in Keras and PyTorch, two popular deep learning packages. We will focus on constructing a network, and performing inference using the network.\n",
        "\n",
        "### Why Keras AND PyTorch\n",
        "\n",
        "**Keras** is a high-level package and enables rapid plug & play. It elegantly represents the building blocks of a neural network, so we will lead with it in this section. Developed by an ex-Google engineer, its emphasis is its ability to rapidly prototype neural networks while also being integrated into the second-generation Tensorflow ecosystem (described below). Unlike other packages which might have their own computational engine, Keras runs on top of others, such as Tensorflow, Theano or MXNet. While it shines in its ability deep learning newbies to start right away, it loses points for lack of low-level flexibility.\n",
        "\n",
        "**PyTorch** offers a lower-level approach with more flexibility, surfacing more controls for the mature user. Because we focus on the representations learned during training, we prefer PyTorch because it gives us customized control over these representations… but for a simple classification task, keras can often do the trick. We will include PyTorch examples of the same network, side-by-side, to introduce its syntax. Developed by Facebook AI, PyTorch has quickly become one of the most used and supported deep learning packages, particularly by the deep learning research community for its ease of debugging and ability to easily conjure up complex models. Deep learning frameworks require a “computational engine” to function, specifically to train deep learning models. PyTorch does this with a dynamic computational graph that uses a “define-by-run” logic, which connects all parts of a neural model in terms of the data objects passed and computations done on them. You’ll see examples of this throughout.\n",
        "\n",
        "### imports and data\n",
        "\n",
        "For our examples, we will be using toy, generated data. This helps us in being more precise with what our models are doing. A common machine learning paradigm is classification, where we are given labelled data: an input, and an output class. We will be making such a classification dataset using scikit-learns make dataset functionality."
      ]
    },
    {
      "cell_type": "code",
      "execution_count": 1,
      "metadata": {
        "id": "UhQJA3pM843O"
      },
      "outputs": [],
      "source": [
        "import sklearn.datasets\n",
        "import sklearn.model_selection"
      ]
    },
    {
      "cell_type": "code",
      "execution_count": 2,
      "metadata": {
        "id": "OWfgaaU0ID9p"
      },
      "outputs": [],
      "source": [
        "import matplotlib.pyplot as plt\n"
      ]
    },
    {
      "cell_type": "code",
      "execution_count": 3,
      "metadata": {
        "colab": {
          "base_uri": "https://localhost:8080/",
          "height": 227
        },
        "id": "3T2uX3kMH5qo",
        "outputId": "48434b52-cb32-47b7-9274-af8832baf252"
      },
      "outputs": [
        {
          "output_type": "display_data",
          "data": {
            "text/plain": [
              "<Figure size 1000x300 with 4 Axes>"
            ],
            "image/png": "[encoded data removed]"
          },
          "metadata": {}
        }
      ],
      "source": [
        "digits = sklearn.datasets.load_digits()\n",
        "\n",
        "_, axes = plt.subplots(nrows=1, ncols=4, figsize=(10, 3))\n",
        "for ax, image, label in zip(axes, digits.images, digits.target):\n",
        "    ax.set_axis_off()\n",
        "    ax.imshow(image, cmap=plt.cm.gray_r, interpolation='nearest')\n",
        "    ax.set_title('Training: %i' % label)"
      ]
    },
    {
      "cell_type": "code",
      "execution_count": 4,
      "metadata": {
        "id": "jNjOW5ynIJe4"
      },
      "outputs": [],
      "source": [
        "# flatten the images\n",
        "n_samples = len(digits.images)\n",
        "data = digits.images.reshape((n_samples, -1))\n",
        "\n",
        "# Split data into 50% train and 50% test subsets\n",
        "X_train, X_test, y_train, y_test = sklearn.model_selection.train_test_split(\n",
        "    data, digits.target, test_size=0.5, shuffle=False)"
      ]
    },
    {
      "cell_type": "markdown",
      "metadata": {
        "id": "ZX9evr8f843T"
      },
      "source": [
        "Here, we generated a dataset of size 100, with 20 fearures, based on a Gaussian process where there are two 'classes'.\n",
        "Our machine learning algorithm is performing well if it can correctly identify if an input belongs to the class it is labelled as.\n",
        "\n",
        "For our models to train, it needs to be split into a training and testing dataset."
      ]
    },
    {
      "cell_type": "code",
      "execution_count": null,
      "metadata": {
        "id": "oVHFW8zJ843T"
      },
      "outputs": [],
      "source": [
        "# X_train, X_test, y_train, y_test = sklearn.model_selection.train_test_split(X, y)"
      ]
    },
    {
      "cell_type": "markdown",
      "metadata": {
        "id": "p8eefRdN843U"
      },
      "source": [
        "Let us train a simple model and see how well it does on this task. Logistic regression is a popular task for classification."
      ]
    },
    {
      "cell_type": "code",
      "execution_count": 5,
      "metadata": {
        "id": "AP4HLQc_843U"
      },
      "outputs": [],
      "source": [
        "import sklearn.linear_model"
      ]
    },
    {
      "cell_type": "code",
      "execution_count": 6,
      "metadata": {
        "id": "Ui0KHHLe843U"
      },
      "outputs": [],
      "source": [
        "logreg = sklearn.linear_model.LogisticRegression()"
      ]
    },
    {
      "cell_type": "code",
      "execution_count": 7,
      "metadata": {
        "colab": {
          "base_uri": "https://localhost:8080/",
          "height": 242
        },
        "id": "8wHlzfoa843U",
        "outputId": "09247c14-0036-47aa-d516-4c4cd79610ae"
      },
      "outputs": [
        {
          "output_type": "stream",
          "name": "stderr",
          "text": [
            "/usr/local/lib/python3.10/dist-packages/sklearn/linear_model/_logistic.py:458: ConvergenceWarning: lbfgs failed to converge (status=1):\n",
            "STOP: TOTAL NO. of ITERATIONS REACHED LIMIT.\n",
            "\n",
            "Increase the number of iterations (max_iter) or scale the data as shown in:\n",
            "    https://scikit-learn.org/stable/modules/preprocessing.html\n",
            "Please also refer to the documentation for alternative solver options:\n",
            "    https://scikit-learn.org/stable/modules/linear_model.html#logistic-regression\n",
            "  n_iter_i = _check_optimize_result(\n"
          ]
        },
        {
          "output_type": "execute_result",
          "data": {
            "text/plain": [
              "LogisticRegression()"
            ],
            "text/html": [
              "<style>#sk-container-id-1 {color: black;background-color: white;}#sk-container-id-1 pre{padding: 0;}#sk-container-id-1 div.sk-toggleable {background-color: white;}#sk-container-id-1 label.sk-toggleable__label {cursor: pointer;display: block;width: 100%;margin-bottom: 0;padding: 0.3em;box-sizing: border-box;text-align: center;}#sk-container-id-1 label.sk-toggleable__label-arrow:before {content: \"▸\";float: left;margin-right: 0.25em;color: #696969;}#sk-container-id-1 label.sk-toggleable__label-arrow:hover:before {color: black;}#sk-container-id-1 div.sk-estimator:hover label.sk-toggleable__label-arrow:before {color: black;}#sk-container-id-1 div.sk-toggleable__content {max-height: 0;max-width: 0;overflow: hidden;text-align: left;background-color: #f0f8ff;}#sk-container-id-1 div.sk-toggleable__content pre {margin: 0.2em;color: black;border-radius: 0.25em;background-color: #f0f8ff;}#sk-container-id-1 input.sk-toggleable__control:checked~div.sk-toggleable__content {max-height: 200px;max-width: 100%;overflow: auto;}#sk-container-id-1 input.sk-toggleable__control:checked~label.sk-toggleable__label-arrow:before {content: \"▾\";}#sk-container-id-1 div.sk-estimator input.sk-toggleable__control:checked~label.sk-toggleable__label {background-color: #d4ebff;}#sk-container-id-1 div.sk-label input.sk-toggleable__control:checked~label.sk-toggleable__label {background-color: #d4ebff;}#sk-container-id-1 input.sk-hidden--visually {border: 0;clip: rect(1px 1px 1px 1px);clip: rect(1px, 1px, 1px, 1px);height: 1px;margin: -1px;overflow: hidden;padding: 0;position: absolute;width: 1px;}#sk-container-id-1 div.sk-estimator {font-family: monospace;background-color: #f0f8ff;border: 1px dotted black;border-radius: 0.25em;box-sizing: border-box;margin-bottom: 0.5em;}#sk-container-id-1 div.sk-estimator:hover {background-color: #d4ebff;}#sk-container-id-1 div.sk-parallel-item::after {content: \"\";width: 100%;border-bottom: 1px solid gray;flex-grow: 1;}#sk-container-id-1 div.sk-label:hover label.sk-toggleable__label {background-color: #d4ebff;}#sk-container-id-1 div.sk-serial::before {content: \"\";position: absolute;border-left: 1px solid gray;box-sizing: border-box;top: 0;bottom: 0;left: 50%;z-index: 0;}#sk-container-id-1 div.sk-serial {display: flex;flex-direction: column;align-items: center;background-color: white;padding-right: 0.2em;padding-left: 0.2em;position: relative;}#sk-container-id-1 div.sk-item {position: relative;z-index: 1;}#sk-container-id-1 div.sk-parallel {display: flex;align-items: stretch;justify-content: center;background-color: white;position: relative;}#sk-container-id-1 div.sk-item::before, #sk-container-id-1 div.sk-parallel-item::before {content: \"\";position: absolute;border-left: 1px solid gray;box-sizing: border-box;top: 0;bottom: 0;left: 50%;z-index: -1;}#sk-container-id-1 div.sk-parallel-item {display: flex;flex-direction: column;z-index: 1;position: relative;background-color: white;}#sk-container-id-1 div.sk-parallel-item:first-child::after {align-self: flex-end;width: 50%;}#sk-container-id-1 div.sk-parallel-item:last-child::after {align-self: flex-start;width: 50%;}#sk-container-id-1 div.sk-parallel-item:only-child::after {width: 0;}#sk-container-id-1 div.sk-dashed-wrapped {border: 1px dashed gray;margin: 0 0.4em 0.5em 0.4em;box-sizing: border-box;padding-bottom: 0.4em;background-color: white;}#sk-container-id-1 div.sk-label label {font-family: monospace;font-weight: bold;display: inline-block;line-height: 1.2em;}#sk-container-id-1 div.sk-label-container {text-align: center;}#sk-container-id-1 div.sk-container {/* jupyter's `normalize.less` sets `[hidden] { display: none; }` but bootstrap.min.css set `[hidden] { display: none !important; }` so we also need the `!important` here to be able to override the default hidden behavior on the sphinx rendered scikit-learn.org. See: https://github.com/scikit-learn/scikit-learn/issues/21755 */display: inline-block !important;position: relative;}#sk-container-id-1 div.sk-text-repr-fallback {display: none;}</style><div id=\"sk-container-id-1\" class=\"sk-top-container\"><div class=\"sk-text-repr-fallback\"><pre>LogisticRegression()</pre><b>In a Jupyter environment, please rerun this cell to show the HTML representation or trust the notebook. <br />On GitHub, the HTML representation is unable to render, please try loading this page with nbviewer.org.</b></div><div class=\"sk-container\" hidden><div class=\"sk-item\"><div class=\"sk-estimator sk-toggleable\"><input class=\"sk-toggleable__control sk-hidden--visually\" id=\"sk-estimator-id-1\" type=\"checkbox\" checked><label for=\"sk-estimator-id-1\" class=\"sk-toggleable__label sk-toggleable__label-arrow\">LogisticRegression</label><div class=\"sk-toggleable__content\"><pre>LogisticRegression()</pre></div></div></div></div></div>"
            ]
          },
          "metadata": {},
          "execution_count": 7
        }
      ],
      "source": [
        "logreg.fit(X_train, y_train)"
      ]
    },
    {
      "cell_type": "code",
      "execution_count": 8,
      "metadata": {
        "colab": {
          "base_uri": "https://localhost:8080/"
        },
        "id": "le8Lot2y843V",
        "outputId": "2567c244-097a-468a-ee58-b88fa4a95f20"
      },
      "outputs": [
        {
          "output_type": "execute_result",
          "data": {
            "text/plain": [
              "array([8, 6, 4, 8, 0, 8, 9, 1, 1, 2, 3, 4, 5, 6, 7, 8, 9, 0, 1, 2, 3, 4,\n",
              "       5, 6, 5, 8, 9, 0, 1, 2, 3, 4, 9, 6, 7, 8, 9, 0, 9, 5, 5, 6, 5, 0,\n",
              "       9, 8, 9, 8, 4, 1, 7, 7, 3, 9, 1, 2, 7, 8, 2, 0, 1, 2, 6, 3, 3, 7,\n",
              "       3, 3, 4, 6, 6, 6, 4, 9, 1, 5, 0, 9, 5, 2, 8, 2, 0, 0, 1, 7, 6, 3,\n",
              "       2, 1, 4, 6, 3, 1, 3, 9, 1, 7, 6, 8, 4, 3, 1, 4, 0, 5, 3, 6, 9, 6,\n",
              "       1, 7, 5, 4, 4, 7, 2, 8, 2, 2, 9, 7, 9, 5, 4, 4, 9, 0, 8, 9, 8, 0,\n",
              "       1, 2, 3, 4, 5, 6, 7, 8, 9, 0, 1, 2, 3, 4, 5, 6, 7, 8, 9, 0, 1, 2,\n",
              "       3, 4, 5, 6, 7, 8, 9, 0, 9, 5, 5, 6, 5, 0, 9, 8, 9, 8, 4, 1, 7, 7,\n",
              "       3, 5, 1, 0, 0, 7, 8, 2, 0, 1, 2, 6, 3, 3, 7, 3, 3, 4, 6, 6, 6, 9,\n",
              "       9, 1, 5, 0, 9, 5, 2, 8, 2, 0, 0, 1, 7, 6, 3, 2, 1, 7, 4, 6, 3, 1,\n",
              "       9, 9, 1, 7, 6, 8, 4, 9, 1, 4, 0, 5, 3, 6, 9, 6, 1, 7, 5, 4, 4, 7,\n",
              "       2, 8, 2, 2, 5, 7, 9, 5, 4, 1, 8, 4, 9, 0, 8, 9, 8, 0, 1, 2, 3, 4,\n",
              "       5, 6, 7, 8, 9, 0, 1, 2, 3, 4, 5, 6, 7, 8, 9, 0, 1, 2, 3, 4, 5, 6,\n",
              "       7, 8, 9, 0, 9, 5, 5, 6, 5, 0, 9, 5, 9, 5, 4, 1, 7, 7, 5, 5, 1, 0,\n",
              "       0, 2, 2, 7, 8, 2, 0, 1, 2, 6, 3, 3, 7, 3, 3, 4, 6, 6, 6, 4, 9, 1,\n",
              "       5, 0, 9, 5, 2, 8, 2, 0, 0, 1, 7, 6, 3, 2, 1, 7, 4, 6, 3, 1, 3, 9,\n",
              "       1, 7, 6, 8, 4, 3, 8, 4, 0, 5, 3, 6, 9, 6, 8, 7, 5, 4, 4, 7, 2, 8,\n",
              "       2, 2, 5, 7, 9, 5, 4, 8, 8, 4, 9, 0, 8, 9, 8, 0, 5, 2, 3, 4, 5, 6,\n",
              "       7, 8, 9, 0, 1, 2, 3, 6, 5, 6, 7, 8, 9, 0, 1, 2, 3, 6, 5, 6, 7, 8,\n",
              "       9, 0, 9, 5, 5, 6, 5, 0, 9, 8, 9, 8, 4, 1, 7, 7, 3, 5, 1, 0, 0, 2,\n",
              "       3, 7, 8, 2, 0, 1, 2, 6, 3, 3, 7, 3, 3, 6, 6, 6, 6, 4, 9, 1, 5, 0,\n",
              "       9, 6, 2, 8, 3, 0, 0, 1, 7, 6, 3, 2, 1, 7, 4, 6, 3, 1, 3, 9, 1, 7,\n",
              "       6, 8, 6, 3, 1, 4, 0, 5, 3, 6, 9, 6, 1, 7, 5, 4, 4, 7, 2, 8, 2, 2,\n",
              "       5, 7, 9, 5, 4, 8, 8, 4, 0, 0, 8, 0, 1, 2, 3, 4, 5, 6, 7, 8, 9, 0,\n",
              "       1, 2, 3, 4, 5, 6, 7, 8, 9, 0, 1, 2, 3, 4, 5, 6, 7, 8, 9, 0, 9, 5,\n",
              "       5, 6, 5, 0, 9, 8, 9, 8, 4, 1, 7, 7, 3, 5, 1, 0, 0, 2, 2, 7, 8, 2,\n",
              "       0, 9, 2, 6, 3, 3, 7, 3, 3, 4, 6, 6, 6, 4, 9, 9, 5, 0, 9, 5, 2, 2,\n",
              "       2, 0, 0, 9, 7, 6, 3, 2, 3, 7, 4, 6, 3, 1, 3, 9, 1, 7, 6, 8, 4, 3,\n",
              "       9, 4, 0, 5, 3, 6, 9, 6, 9, 7, 5, 4, 4, 7, 2, 5, 2, 2, 5, 7, 9, 5,\n",
              "       4, 8, 8, 4, 9, 0, 8, 9, 8, 0, 1, 2, 3, 4, 5, 1, 9, 1, 9, 0, 1, 2,\n",
              "       3, 4, 5, 6, 9, 0, 1, 2, 3, 4, 5, 6, 7, 5, 9, 4, 9, 1, 5, 6, 5, 0,\n",
              "       9, 8, 5, 8, 4, 1, 7, 7, 3, 5, 1, 6, 0, 2, 2, 7, 8, 2, 6, 1, 2, 6,\n",
              "       8, 7, 7, 7, 8, 4, 6, 6, 6, 9, 9, 1, 5, 6, 9, 5, 2, 8, 0, 1, 7, 6,\n",
              "       3, 2, 1, 7, 9, 6, 3, 1, 3, 9, 1, 9, 6, 8, 4, 3, 1, 4, 0, 5, 3, 6,\n",
              "       3, 6, 1, 7, 5, 4, 4, 7, 2, 2, 5, 7, 3, 5, 9, 4, 5, 0, 8, 9, 8, 0,\n",
              "       1, 2, 3, 4, 5, 6, 7, 8, 9, 0, 1, 2, 8, 4, 5, 6, 7, 8, 9, 0, 1, 2,\n",
              "       5, 4, 5, 6, 7, 8, 9, 0, 9, 5, 5, 6, 5, 0, 9, 8, 9, 8, 4, 1, 7, 7,\n",
              "       8, 5, 1, 0, 0, 2, 2, 7, 8, 2, 0, 1, 2, 6, 8, 8, 7, 5, 8, 4, 6, 6,\n",
              "       6, 4, 9, 1, 5, 0, 9, 5, 2, 8, 2, 0, 0, 1, 7, 6, 3, 2, 1, 4, 4, 6,\n",
              "       3, 1, 3, 9, 1, 7, 6, 8, 4, 5, 1, 4, 0, 5, 3, 6, 9, 6, 1, 7, 5, 4,\n",
              "       4, 7, 2, 8, 2, 2, 5, 7, 9, 5, 4, 8, 8, 4, 9, 0, 8, 9, 8])"
            ]
          },
          "metadata": {},
          "execution_count": 8
        }
      ],
      "source": [
        "logreg.predict(X_test)"
      ]
    },
    {
      "cell_type": "code",
      "execution_count": 9,
      "metadata": {
        "colab": {
          "base_uri": "https://localhost:8080/"
        },
        "id": "hF6tMQ0M843V",
        "outputId": "c8c36b5f-de0d-4cbe-cfd6-90e8aebdd8dc"
      },
      "outputs": [
        {
          "output_type": "execute_result",
          "data": {
            "text/plain": [
              "0.9299221357063404"
            ]
          },
          "metadata": {},
          "execution_count": 9
        }
      ],
      "source": [
        "sklearn.metrics.accuracy_score(y_test, logreg.predict(X_test))"
      ]
    },
    {
      "cell_type": "markdown",
      "metadata": {
        "id": "lfdIxaLl843V"
      },
      "source": [
        "Not terrible, but not exactly a good accuracy score. Let's now turn to neural networks with the hope that added depth can do a better job at approximating the complext function behind the data generation process. We will be using the same dataset.\n",
        "\n",
        "## Single layer net in Keras\n",
        "\n",
        "We will start with Keras for building a neural network. [Keras](https://keras.io/) is a very popular choice for building neural networks which have a high level of abstraction. Keras is also tightly integrated with another popular deep learning package, Tensorflow, which is the core of its computational process. One of the big advantages of Keras is how easy it is to start building a model."
      ]
    },
    {
      "cell_type": "code",
      "execution_count": 10,
      "metadata": {
        "id": "XZGvM6oS843W"
      },
      "outputs": [],
      "source": [
        "## Keras\n",
        "import keras\n",
        "import tensorflow as tf\n",
        "import numpy as np"
      ]
    },
    {
      "cell_type": "code",
      "execution_count": 11,
      "metadata": {
        "id": "Ath_Xbk4iuW3"
      },
      "outputs": [],
      "source": [
        "from keras.layers import Dense"
      ]
    },
    {
      "cell_type": "code",
      "execution_count": 12,
      "metadata": {
        "id": "IhdgRrWCiuW3"
      },
      "outputs": [],
      "source": [
        "from keras.models import Sequential"
      ]
    },
    {
      "cell_type": "markdown",
      "metadata": {
        "id": "MV65ntQn843W"
      },
      "source": [
        "Keras makes creating deep learning models really easy. Here is one with only one hidden layer with 20 units, taking an input with 20 features. It uses relu activation for the first layer, which is often used for hidden layers."
      ]
    },
    {
      "cell_type": "code",
      "execution_count": 13,
      "metadata": {
        "id": "xi1-9Gdj843W"
      },
      "outputs": [],
      "source": [
        "model = Sequential()"
      ]
    },
    {
      "cell_type": "code",
      "execution_count": 14,
      "metadata": {
        "id": "Lhz65J3YiuW4"
      },
      "outputs": [],
      "source": [
        "model.add(Dense(200, input_dim=64, activation='relu'))"
      ]
    },
    {
      "cell_type": "markdown",
      "metadata": {
        "id": "zHFhBOBciuW4"
      },
      "source": [
        "We then use a sigmoid activation for the last layer to make its prediction, because it is a classification problem.\n",
        "\n",
        "For more activation functions: https://keras.io/api/layers/activations/"
      ]
    },
    {
      "cell_type": "code",
      "execution_count": 15,
      "metadata": {
        "id": "nA7SU5WxiuW5"
      },
      "outputs": [],
      "source": [
        "model.add(Dense(10, activation='softmax'))"
      ]
    },
    {
      "cell_type": "markdown",
      "metadata": {
        "id": "48tmjktGiuW5"
      },
      "source": [
        "The loss is binary cross entropy which is commonly used for prediction problems, and the ADAM optimiser.\n",
        "\n",
        "For more losses:https://keras.io/api/losses/\n",
        "\n",
        "For more optimisers: https://keras.io/api/optimizers/"
      ]
    },
    {
      "cell_type": "code",
      "execution_count": 16,
      "metadata": {
        "id": "IMv6E1gF843W"
      },
      "outputs": [],
      "source": [
        "model.compile(loss=keras.losses.SparseCategoricalCrossentropy(from_logits=True), metrics=keras.metrics.SparseCategoricalAccuracy(), optimizer=\"adam\")"
      ]
    },
    {
      "cell_type": "markdown",
      "metadata": {
        "id": "lQE3LC1PiuW6"
      },
      "source": [
        "The compile function configures the model for training, and we fit the model in the next line. The history variable stores information about the training process."
      ]
    },
    {
      "cell_type": "code",
      "execution_count": 17,
      "metadata": {
        "colab": {
          "base_uri": "https://localhost:8080/"
        },
        "id": "65Amy0LGKGUL",
        "outputId": "765060a5-9be2-4f6f-f489-168e5f25a094"
      },
      "outputs": [
        {
          "output_type": "execute_result",
          "data": {
            "text/plain": [
              "64"
            ]
          },
          "metadata": {},
          "execution_count": 17
        }
      ],
      "source": [
        "len(X_train[0])"
      ]
    },
    {
      "cell_type": "code",
      "execution_count": 18,
      "metadata": {
        "colab": {
          "base_uri": "https://localhost:8080/"
        },
        "id": "AWZ4uFxA843X",
        "outputId": "1fb585bc-0ac2-4e24-bfd8-73c844684d53",
        "scrolled": false
      },
      "outputs": [
        {
          "output_type": "stream",
          "name": "stdout",
          "text": [
            "Epoch 1/200\n"
          ]
        },
        {
          "output_type": "stream",
          "name": "stderr",
          "text": [
            "/usr/local/lib/python3.10/dist-packages/keras/src/backend.py:5727: UserWarning: \"`sparse_categorical_crossentropy` received `from_logits=True`, but the `output` argument was produced by a Softmax activation and thus does not represent logits. Was this intended?\n",
            "  output, from_logits = _get_logits(\n"
          ]
        },
        {
          "output_type": "stream",
          "name": "stdout",
          "text": [
            "29/29 [==============================] - 2s 5ms/step - loss: 2.6354 - sparse_categorical_accuracy: 0.4477\n",
            "Epoch 2/200\n",
            "29/29 [==============================] - 0s 3ms/step - loss: 0.3641 - sparse_categorical_accuracy: 0.8898\n",
            "Epoch 3/200\n",
            "29/29 [==============================] - 0s 3ms/step - loss: 0.2177 - sparse_categorical_accuracy: 0.9410\n",
            "Epoch 4/200\n",
            "29/29 [==============================] - 0s 3ms/step - loss: 0.1630 - sparse_categorical_accuracy: 0.9555\n",
            "Epoch 5/200\n",
            "29/29 [==============================] - 0s 3ms/step - loss: 0.1319 - sparse_categorical_accuracy: 0.9566\n",
            "Epoch 6/200\n",
            "29/29 [==============================] - 0s 3ms/step - loss: 0.0717 - sparse_categorical_accuracy: 0.9800\n",
            "Epoch 7/200\n",
            "29/29 [==============================] - 0s 3ms/step - loss: 0.0664 - sparse_categorical_accuracy: 0.9811\n",
            "Epoch 8/200\n",
            "29/29 [==============================] - 0s 3ms/step - loss: 0.0441 - sparse_categorical_accuracy: 0.9911\n",
            "Epoch 9/200\n",
            "29/29 [==============================] - 0s 3ms/step - loss: 0.0348 - sparse_categorical_accuracy: 0.9955\n",
            "Epoch 10/200\n",
            "29/29 [==============================] - 0s 3ms/step - loss: 0.0252 - sparse_categorical_accuracy: 1.0000\n",
            "Epoch 11/200\n",
            "29/29 [==============================] - 0s 3ms/step - loss: 0.0209 - sparse_categorical_accuracy: 1.0000\n",
            "Epoch 12/200\n",
            "29/29 [==============================] - 0s 3ms/step - loss: 0.0186 - sparse_categorical_accuracy: 1.0000\n",
            "Epoch 13/200\n",
            "29/29 [==============================] - 0s 3ms/step - loss: 0.0164 - sparse_categorical_accuracy: 1.0000\n",
            "Epoch 14/200\n",
            "29/29 [==============================] - 0s 3ms/step - loss: 0.0140 - sparse_categorical_accuracy: 1.0000\n",
            "Epoch 15/200\n",
            "29/29 [==============================] - 0s 3ms/step - loss: 0.0124 - sparse_categorical_accuracy: 1.0000\n",
            "Epoch 16/200\n",
            "29/29 [==============================] - 0s 3ms/step - loss: 0.0113 - sparse_categorical_accuracy: 1.0000\n",
            "Epoch 17/200\n",
            "29/29 [==============================] - 0s 3ms/step - loss: 0.0099 - sparse_categorical_accuracy: 1.0000\n",
            "Epoch 18/200\n",
            "29/29 [==============================] - 0s 3ms/step - loss: 0.0089 - sparse_categorical_accuracy: 1.0000\n",
            "Epoch 19/200\n",
            "29/29 [==============================] - 0s 3ms/step - loss: 0.0083 - sparse_categorical_accuracy: 1.0000\n",
            "Epoch 20/200\n",
            "29/29 [==============================] - 0s 3ms/step - loss: 0.0086 - sparse_categorical_accuracy: 1.0000\n",
            "Epoch 21/200\n",
            "29/29 [==============================] - 0s 3ms/step - loss: 0.0129 - sparse_categorical_accuracy: 0.9989\n",
            "Epoch 22/200\n",
            "29/29 [==============================] - 0s 4ms/step - loss: 0.0071 - sparse_categorical_accuracy: 1.0000\n",
            "Epoch 23/200\n",
            "29/29 [==============================] - 0s 3ms/step - loss: 0.0064 - sparse_categorical_accuracy: 1.0000\n",
            "Epoch 24/200\n",
            "29/29 [==============================] - 0s 4ms/step - loss: 0.0059 - sparse_categorical_accuracy: 1.0000\n",
            "Epoch 25/200\n",
            "29/29 [==============================] - 0s 3ms/step - loss: 0.0053 - sparse_categorical_accuracy: 1.0000\n",
            "Epoch 26/200\n",
            "29/29 [==============================] - 0s 3ms/step - loss: 0.0049 - sparse_categorical_accuracy: 1.0000\n",
            "Epoch 27/200\n",
            "29/29 [==============================] - 0s 3ms/step - loss: 0.0048 - sparse_categorical_accuracy: 1.0000\n",
            "Epoch 28/200\n",
            "29/29 [==============================] - 0s 3ms/step - loss: 0.0043 - sparse_categorical_accuracy: 1.0000\n",
            "Epoch 29/200\n",
            "29/29 [==============================] - 0s 4ms/step - loss: 0.0039 - sparse_categorical_accuracy: 1.0000\n",
            "Epoch 30/200\n",
            "29/29 [==============================] - 0s 4ms/step - loss: 0.0037 - sparse_categorical_accuracy: 1.0000\n",
            "Epoch 31/200\n",
            "29/29 [==============================] - 0s 4ms/step - loss: 0.0038 - sparse_categorical_accuracy: 1.0000\n",
            "Epoch 32/200\n",
            "29/29 [==============================] - 0s 4ms/step - loss: 0.0034 - sparse_categorical_accuracy: 1.0000\n",
            "Epoch 33/200\n",
            "29/29 [==============================] - 0s 4ms/step - loss: 0.0032 - sparse_categorical_accuracy: 1.0000\n",
            "Epoch 34/200\n",
            "29/29 [==============================] - 0s 4ms/step - loss: 0.0030 - sparse_categorical_accuracy: 1.0000\n",
            "Epoch 35/200\n",
            "29/29 [==============================] - 0s 4ms/step - loss: 0.0029 - sparse_categorical_accuracy: 1.0000\n",
            "Epoch 36/200\n",
            "29/29 [==============================] - 0s 4ms/step - loss: 0.0028 - sparse_categorical_accuracy: 1.0000\n",
            "Epoch 37/200\n",
            "29/29 [==============================] - 0s 4ms/step - loss: 0.0026 - sparse_categorical_accuracy: 1.0000\n",
            "Epoch 38/200\n",
            "29/29 [==============================] - 0s 4ms/step - loss: 0.0030 - sparse_categorical_accuracy: 1.0000\n",
            "Epoch 39/200\n",
            "29/29 [==============================] - 0s 4ms/step - loss: 0.0024 - sparse_categorical_accuracy: 1.0000\n",
            "Epoch 40/200\n",
            "29/29 [==============================] - 0s 3ms/step - loss: 0.0024 - sparse_categorical_accuracy: 1.0000\n",
            "Epoch 41/200\n",
            "29/29 [==============================] - 0s 3ms/step - loss: 0.0023 - sparse_categorical_accuracy: 1.0000\n",
            "Epoch 42/200\n",
            "29/29 [==============================] - 0s 3ms/step - loss: 0.0022 - sparse_categorical_accuracy: 1.0000\n",
            "Epoch 43/200\n",
            "29/29 [==============================] - 0s 3ms/step - loss: 0.0020 - sparse_categorical_accuracy: 1.0000\n",
            "Epoch 44/200\n",
            "29/29 [==============================] - 0s 3ms/step - loss: 0.0019 - sparse_categorical_accuracy: 1.0000\n",
            "Epoch 45/200\n",
            "29/29 [==============================] - 0s 3ms/step - loss: 0.0018 - sparse_categorical_accuracy: 1.0000\n",
            "Epoch 46/200\n",
            "29/29 [==============================] - 0s 3ms/step - loss: 0.0017 - sparse_categorical_accuracy: 1.0000\n",
            "Epoch 47/200\n",
            "29/29 [==============================] - 0s 3ms/step - loss: 0.0017 - sparse_categorical_accuracy: 1.0000\n",
            "Epoch 48/200\n",
            "29/29 [==============================] - 0s 3ms/step - loss: 0.0016 - sparse_categorical_accuracy: 1.0000\n",
            "Epoch 49/200\n",
            "29/29 [==============================] - 0s 3ms/step - loss: 0.0016 - sparse_categorical_accuracy: 1.0000\n",
            "Epoch 50/200\n",
            "29/29 [==============================] - 0s 3ms/step - loss: 0.0016 - sparse_categorical_accuracy: 1.0000\n",
            "Epoch 51/200\n",
            "29/29 [==============================] - 0s 3ms/step - loss: 0.0021 - sparse_categorical_accuracy: 1.0000\n",
            "Epoch 52/200\n",
            "29/29 [==============================] - 0s 3ms/step - loss: 0.0016 - sparse_categorical_accuracy: 1.0000\n",
            "Epoch 53/200\n",
            "29/29 [==============================] - 0s 3ms/step - loss: 0.0014 - sparse_categorical_accuracy: 1.0000\n",
            "Epoch 54/200\n",
            "29/29 [==============================] - 0s 3ms/step - loss: 0.0013 - sparse_categorical_accuracy: 1.0000\n",
            "Epoch 55/200\n",
            "29/29 [==============================] - 0s 3ms/step - loss: 0.0012 - sparse_categorical_accuracy: 1.0000\n",
            "Epoch 56/200\n",
            "29/29 [==============================] - 0s 3ms/step - loss: 0.0012 - sparse_categorical_accuracy: 1.0000\n",
            "Epoch 57/200\n",
            "29/29 [==============================] - 0s 2ms/step - loss: 0.0012 - sparse_categorical_accuracy: 1.0000\n",
            "Epoch 58/200\n",
            "29/29 [==============================] - 0s 3ms/step - loss: 0.0011 - sparse_categorical_accuracy: 1.0000\n",
            "Epoch 59/200\n",
            "29/29 [==============================] - 0s 3ms/step - loss: 0.0010 - sparse_categorical_accuracy: 1.0000\n",
            "Epoch 60/200\n",
            "29/29 [==============================] - 0s 3ms/step - loss: 9.9630e-04 - sparse_categorical_accuracy: 1.0000\n",
            "Epoch 61/200\n",
            "29/29 [==============================] - 0s 3ms/step - loss: 9.5478e-04 - sparse_categorical_accuracy: 1.0000\n",
            "Epoch 62/200\n",
            "29/29 [==============================] - 0s 3ms/step - loss: 9.2452e-04 - sparse_categorical_accuracy: 1.0000\n",
            "Epoch 63/200\n",
            "29/29 [==============================] - 0s 3ms/step - loss: 9.0264e-04 - sparse_categorical_accuracy: 1.0000\n",
            "Epoch 64/200\n",
            "29/29 [==============================] - 0s 3ms/step - loss: 8.7459e-04 - sparse_categorical_accuracy: 1.0000\n",
            "Epoch 65/200\n",
            "29/29 [==============================] - 0s 3ms/step - loss: 8.5302e-04 - sparse_categorical_accuracy: 1.0000\n",
            "Epoch 66/200\n",
            "29/29 [==============================] - 0s 3ms/step - loss: 8.1470e-04 - sparse_categorical_accuracy: 1.0000\n",
            "Epoch 67/200\n",
            "29/29 [==============================] - 0s 3ms/step - loss: 7.9664e-04 - sparse_categorical_accuracy: 1.0000\n",
            "Epoch 68/200\n",
            "29/29 [==============================] - 0s 3ms/step - loss: 7.6963e-04 - sparse_categorical_accuracy: 1.0000\n",
            "Epoch 69/200\n",
            "29/29 [==============================] - 0s 3ms/step - loss: 7.4265e-04 - sparse_categorical_accuracy: 1.0000\n",
            "Epoch 70/200\n",
            "29/29 [==============================] - 0s 3ms/step - loss: 7.1892e-04 - sparse_categorical_accuracy: 1.0000\n",
            "Epoch 71/200\n",
            "29/29 [==============================] - 0s 2ms/step - loss: 7.1009e-04 - sparse_categorical_accuracy: 1.0000\n",
            "Epoch 72/200\n",
            "29/29 [==============================] - 0s 3ms/step - loss: 6.7576e-04 - sparse_categorical_accuracy: 1.0000\n",
            "Epoch 73/200\n",
            "29/29 [==============================] - 0s 2ms/step - loss: 6.6258e-04 - sparse_categorical_accuracy: 1.0000\n",
            "Epoch 74/200\n",
            "29/29 [==============================] - 0s 2ms/step - loss: 6.4134e-04 - sparse_categorical_accuracy: 1.0000\n",
            "Epoch 75/200\n",
            "29/29 [==============================] - 0s 3ms/step - loss: 6.3075e-04 - sparse_categorical_accuracy: 1.0000\n",
            "Epoch 76/200\n",
            "29/29 [==============================] - 0s 3ms/step - loss: 7.5923e-04 - sparse_categorical_accuracy: 1.0000\n",
            "Epoch 77/200\n",
            "29/29 [==============================] - 0s 3ms/step - loss: 6.0646e-04 - sparse_categorical_accuracy: 1.0000\n",
            "Epoch 78/200\n",
            "29/29 [==============================] - 0s 3ms/step - loss: 5.9383e-04 - sparse_categorical_accuracy: 1.0000\n",
            "Epoch 79/200\n",
            "29/29 [==============================] - 0s 2ms/step - loss: 5.6382e-04 - sparse_categorical_accuracy: 1.0000\n",
            "Epoch 80/200\n",
            "29/29 [==============================] - 0s 2ms/step - loss: 5.5037e-04 - sparse_categorical_accuracy: 1.0000\n",
            "Epoch 81/200\n",
            "29/29 [==============================] - 0s 3ms/step - loss: 5.2991e-04 - sparse_categorical_accuracy: 1.0000\n",
            "Epoch 82/200\n",
            "29/29 [==============================] - 0s 3ms/step - loss: 5.2067e-04 - sparse_categorical_accuracy: 1.0000\n",
            "Epoch 83/200\n",
            "29/29 [==============================] - 0s 3ms/step - loss: 5.4488e-04 - sparse_categorical_accuracy: 1.0000\n",
            "Epoch 84/200\n",
            "29/29 [==============================] - 0s 3ms/step - loss: 4.9619e-04 - sparse_categorical_accuracy: 1.0000\n",
            "Epoch 85/200\n",
            "29/29 [==============================] - 0s 3ms/step - loss: 4.7891e-04 - sparse_categorical_accuracy: 1.0000\n",
            "Epoch 86/200\n",
            "29/29 [==============================] - 0s 3ms/step - loss: 4.5939e-04 - sparse_categorical_accuracy: 1.0000\n",
            "Epoch 87/200\n",
            "29/29 [==============================] - 0s 3ms/step - loss: 4.5301e-04 - sparse_categorical_accuracy: 1.0000\n",
            "Epoch 88/200\n",
            "29/29 [==============================] - 0s 3ms/step - loss: 4.4679e-04 - sparse_categorical_accuracy: 1.0000\n",
            "Epoch 89/200\n",
            "29/29 [==============================] - 0s 3ms/step - loss: 4.3123e-04 - sparse_categorical_accuracy: 1.0000\n",
            "Epoch 90/200\n",
            "29/29 [==============================] - 0s 3ms/step - loss: 4.1931e-04 - sparse_categorical_accuracy: 1.0000\n",
            "Epoch 91/200\n",
            "29/29 [==============================] - 0s 3ms/step - loss: 4.0602e-04 - sparse_categorical_accuracy: 1.0000\n",
            "Epoch 92/200\n",
            "29/29 [==============================] - 0s 3ms/step - loss: 3.9388e-04 - sparse_categorical_accuracy: 1.0000\n",
            "Epoch 93/200\n",
            "29/29 [==============================] - 0s 2ms/step - loss: 4.0206e-04 - sparse_categorical_accuracy: 1.0000\n",
            "Epoch 94/200\n",
            "29/29 [==============================] - 0s 3ms/step - loss: 3.7417e-04 - sparse_categorical_accuracy: 1.0000\n",
            "Epoch 95/200\n",
            "29/29 [==============================] - 0s 3ms/step - loss: 3.6507e-04 - sparse_categorical_accuracy: 1.0000\n",
            "Epoch 96/200\n",
            "29/29 [==============================] - 0s 3ms/step - loss: 3.5720e-04 - sparse_categorical_accuracy: 1.0000\n",
            "Epoch 97/200\n",
            "29/29 [==============================] - 0s 3ms/step - loss: 3.4826e-04 - sparse_categorical_accuracy: 1.0000\n",
            "Epoch 98/200\n",
            "29/29 [==============================] - 0s 3ms/step - loss: 3.3757e-04 - sparse_categorical_accuracy: 1.0000\n",
            "Epoch 99/200\n",
            "29/29 [==============================] - 0s 3ms/step - loss: 3.3034e-04 - sparse_categorical_accuracy: 1.0000\n",
            "Epoch 100/200\n",
            "29/29 [==============================] - 0s 3ms/step - loss: 3.2478e-04 - sparse_categorical_accuracy: 1.0000\n",
            "Epoch 101/200\n",
            "29/29 [==============================] - 0s 3ms/step - loss: 4.2458e-04 - sparse_categorical_accuracy: 1.0000\n",
            "Epoch 102/200\n",
            "29/29 [==============================] - 0s 3ms/step - loss: 3.3724e-04 - sparse_categorical_accuracy: 1.0000\n",
            "Epoch 103/200\n",
            "29/29 [==============================] - 0s 3ms/step - loss: 3.0262e-04 - sparse_categorical_accuracy: 1.0000\n",
            "Epoch 104/200\n",
            "29/29 [==============================] - 0s 3ms/step - loss: 2.9411e-04 - sparse_categorical_accuracy: 1.0000\n",
            "Epoch 105/200\n",
            "29/29 [==============================] - 0s 3ms/step - loss: 2.8917e-04 - sparse_categorical_accuracy: 1.0000\n",
            "Epoch 106/200\n",
            "29/29 [==============================] - 0s 3ms/step - loss: 2.8069e-04 - sparse_categorical_accuracy: 1.0000\n",
            "Epoch 107/200\n",
            "29/29 [==============================] - 0s 3ms/step - loss: 2.7306e-04 - sparse_categorical_accuracy: 1.0000\n",
            "Epoch 108/200\n",
            "29/29 [==============================] - 0s 3ms/step - loss: 2.7204e-04 - sparse_categorical_accuracy: 1.0000\n",
            "Epoch 109/200\n",
            "29/29 [==============================] - 0s 3ms/step - loss: 2.6274e-04 - sparse_categorical_accuracy: 1.0000\n",
            "Epoch 110/200\n",
            "29/29 [==============================] - 0s 3ms/step - loss: 2.5551e-04 - sparse_categorical_accuracy: 1.0000\n",
            "Epoch 111/200\n",
            "29/29 [==============================] - 0s 2ms/step - loss: 2.4875e-04 - sparse_categorical_accuracy: 1.0000\n",
            "Epoch 112/200\n",
            "29/29 [==============================] - 0s 3ms/step - loss: 2.4308e-04 - sparse_categorical_accuracy: 1.0000\n",
            "Epoch 113/200\n",
            "29/29 [==============================] - 0s 3ms/step - loss: 2.3765e-04 - sparse_categorical_accuracy: 1.0000\n",
            "Epoch 114/200\n",
            "29/29 [==============================] - 0s 3ms/step - loss: 2.3281e-04 - sparse_categorical_accuracy: 1.0000\n",
            "Epoch 115/200\n",
            "29/29 [==============================] - 0s 3ms/step - loss: 2.4857e-04 - sparse_categorical_accuracy: 1.0000\n",
            "Epoch 116/200\n",
            "29/29 [==============================] - 0s 3ms/step - loss: 2.2921e-04 - sparse_categorical_accuracy: 1.0000\n",
            "Epoch 117/200\n",
            "29/29 [==============================] - 0s 3ms/step - loss: 2.1713e-04 - sparse_categorical_accuracy: 1.0000\n",
            "Epoch 118/200\n",
            "29/29 [==============================] - 0s 3ms/step - loss: 2.1522e-04 - sparse_categorical_accuracy: 1.0000\n",
            "Epoch 119/200\n",
            "29/29 [==============================] - 0s 3ms/step - loss: 2.0764e-04 - sparse_categorical_accuracy: 1.0000\n",
            "Epoch 120/200\n",
            "29/29 [==============================] - 0s 3ms/step - loss: 2.0351e-04 - sparse_categorical_accuracy: 1.0000\n",
            "Epoch 121/200\n",
            "29/29 [==============================] - 0s 3ms/step - loss: 1.9878e-04 - sparse_categorical_accuracy: 1.0000\n",
            "Epoch 122/200\n",
            "29/29 [==============================] - 0s 3ms/step - loss: 2.0164e-04 - sparse_categorical_accuracy: 1.0000\n",
            "Epoch 123/200\n",
            "29/29 [==============================] - 0s 3ms/step - loss: 1.9154e-04 - sparse_categorical_accuracy: 1.0000\n",
            "Epoch 124/200\n",
            "29/29 [==============================] - 0s 3ms/step - loss: 1.8800e-04 - sparse_categorical_accuracy: 1.0000\n",
            "Epoch 125/200\n",
            "29/29 [==============================] - 0s 3ms/step - loss: 1.8335e-04 - sparse_categorical_accuracy: 1.0000\n",
            "Epoch 126/200\n",
            "29/29 [==============================] - 0s 3ms/step - loss: 1.7859e-04 - sparse_categorical_accuracy: 1.0000\n",
            "Epoch 127/200\n",
            "29/29 [==============================] - 0s 3ms/step - loss: 1.7546e-04 - sparse_categorical_accuracy: 1.0000\n",
            "Epoch 128/200\n",
            "29/29 [==============================] - 0s 3ms/step - loss: 1.7577e-04 - sparse_categorical_accuracy: 1.0000\n",
            "Epoch 129/200\n",
            "29/29 [==============================] - 0s 3ms/step - loss: 1.7074e-04 - sparse_categorical_accuracy: 1.0000\n",
            "Epoch 130/200\n",
            "29/29 [==============================] - 0s 3ms/step - loss: 1.6447e-04 - sparse_categorical_accuracy: 1.0000\n",
            "Epoch 131/200\n",
            "29/29 [==============================] - 0s 3ms/step - loss: 1.6088e-04 - sparse_categorical_accuracy: 1.0000\n",
            "Epoch 132/200\n",
            "29/29 [==============================] - 0s 3ms/step - loss: 1.5894e-04 - sparse_categorical_accuracy: 1.0000\n",
            "Epoch 133/200\n",
            "29/29 [==============================] - 0s 3ms/step - loss: 1.5473e-04 - sparse_categorical_accuracy: 1.0000\n",
            "Epoch 134/200\n",
            "29/29 [==============================] - 0s 3ms/step - loss: 1.5243e-04 - sparse_categorical_accuracy: 1.0000\n",
            "Epoch 135/200\n",
            "29/29 [==============================] - 0s 3ms/step - loss: 1.4906e-04 - sparse_categorical_accuracy: 1.0000\n",
            "Epoch 136/200\n",
            "29/29 [==============================] - 0s 3ms/step - loss: 1.5002e-04 - sparse_categorical_accuracy: 1.0000\n",
            "Epoch 137/200\n",
            "29/29 [==============================] - 0s 3ms/step - loss: 1.4428e-04 - sparse_categorical_accuracy: 1.0000\n",
            "Epoch 138/200\n",
            "29/29 [==============================] - 0s 3ms/step - loss: 1.4085e-04 - sparse_categorical_accuracy: 1.0000\n",
            "Epoch 139/200\n",
            "29/29 [==============================] - 0s 3ms/step - loss: 1.3784e-04 - sparse_categorical_accuracy: 1.0000\n",
            "Epoch 140/200\n",
            "29/29 [==============================] - 0s 3ms/step - loss: 1.3474e-04 - sparse_categorical_accuracy: 1.0000\n",
            "Epoch 141/200\n",
            "29/29 [==============================] - 0s 3ms/step - loss: 1.3160e-04 - sparse_categorical_accuracy: 1.0000\n",
            "Epoch 142/200\n",
            "29/29 [==============================] - 0s 3ms/step - loss: 1.3026e-04 - sparse_categorical_accuracy: 1.0000\n",
            "Epoch 143/200\n",
            "29/29 [==============================] - 0s 3ms/step - loss: 1.2680e-04 - sparse_categorical_accuracy: 1.0000\n",
            "Epoch 144/200\n",
            "29/29 [==============================] - 0s 3ms/step - loss: 1.2437e-04 - sparse_categorical_accuracy: 1.0000\n",
            "Epoch 145/200\n",
            "29/29 [==============================] - 0s 3ms/step - loss: 1.2366e-04 - sparse_categorical_accuracy: 1.0000\n",
            "Epoch 146/200\n",
            "29/29 [==============================] - 0s 3ms/step - loss: 1.1949e-04 - sparse_categorical_accuracy: 1.0000\n",
            "Epoch 147/200\n",
            "29/29 [==============================] - 0s 3ms/step - loss: 1.1657e-04 - sparse_categorical_accuracy: 1.0000\n",
            "Epoch 148/200\n",
            "29/29 [==============================] - 0s 3ms/step - loss: 1.1606e-04 - sparse_categorical_accuracy: 1.0000\n",
            "Epoch 149/200\n",
            "29/29 [==============================] - 0s 3ms/step - loss: 1.1300e-04 - sparse_categorical_accuracy: 1.0000\n",
            "Epoch 150/200\n",
            "29/29 [==============================] - 0s 3ms/step - loss: 1.1074e-04 - sparse_categorical_accuracy: 1.0000\n",
            "Epoch 151/200\n",
            "29/29 [==============================] - 0s 3ms/step - loss: 1.0745e-04 - sparse_categorical_accuracy: 1.0000\n",
            "Epoch 152/200\n",
            "29/29 [==============================] - 0s 3ms/step - loss: 1.0579e-04 - sparse_categorical_accuracy: 1.0000\n",
            "Epoch 153/200\n",
            "29/29 [==============================] - 0s 3ms/step - loss: 1.0439e-04 - sparse_categorical_accuracy: 1.0000\n",
            "Epoch 154/200\n",
            "29/29 [==============================] - 0s 3ms/step - loss: 1.0213e-04 - sparse_categorical_accuracy: 1.0000\n",
            "Epoch 155/200\n",
            "29/29 [==============================] - 0s 3ms/step - loss: 1.0014e-04 - sparse_categorical_accuracy: 1.0000\n",
            "Epoch 156/200\n",
            "29/29 [==============================] - 0s 3ms/step - loss: 9.8018e-05 - sparse_categorical_accuracy: 1.0000\n",
            "Epoch 157/200\n",
            "29/29 [==============================] - 0s 3ms/step - loss: 1.0054e-04 - sparse_categorical_accuracy: 1.0000\n",
            "Epoch 158/200\n",
            "29/29 [==============================] - 0s 3ms/step - loss: 9.5167e-05 - sparse_categorical_accuracy: 1.0000\n",
            "Epoch 159/200\n",
            "29/29 [==============================] - 0s 4ms/step - loss: 9.2837e-05 - sparse_categorical_accuracy: 1.0000\n",
            "Epoch 160/200\n",
            "29/29 [==============================] - 0s 4ms/step - loss: 9.1233e-05 - sparse_categorical_accuracy: 1.0000\n",
            "Epoch 161/200\n",
            "29/29 [==============================] - 0s 4ms/step - loss: 8.9736e-05 - sparse_categorical_accuracy: 1.0000\n",
            "Epoch 162/200\n",
            "29/29 [==============================] - 0s 4ms/step - loss: 8.9070e-05 - sparse_categorical_accuracy: 1.0000\n",
            "Epoch 163/200\n",
            "29/29 [==============================] - 0s 4ms/step - loss: 8.6606e-05 - sparse_categorical_accuracy: 1.0000\n",
            "Epoch 164/200\n",
            "29/29 [==============================] - 0s 4ms/step - loss: 8.4909e-05 - sparse_categorical_accuracy: 1.0000\n",
            "Epoch 165/200\n",
            "29/29 [==============================] - 0s 4ms/step - loss: 8.2731e-05 - sparse_categorical_accuracy: 1.0000\n",
            "Epoch 166/200\n",
            "29/29 [==============================] - 0s 3ms/step - loss: 8.2086e-05 - sparse_categorical_accuracy: 1.0000\n",
            "Epoch 167/200\n",
            "29/29 [==============================] - 0s 3ms/step - loss: 7.9764e-05 - sparse_categorical_accuracy: 1.0000\n",
            "Epoch 168/200\n",
            "29/29 [==============================] - 0s 3ms/step - loss: 7.8882e-05 - sparse_categorical_accuracy: 1.0000\n",
            "Epoch 169/200\n",
            "29/29 [==============================] - 0s 3ms/step - loss: 7.7527e-05 - sparse_categorical_accuracy: 1.0000\n",
            "Epoch 170/200\n",
            "29/29 [==============================] - 0s 4ms/step - loss: 7.5425e-05 - sparse_categorical_accuracy: 1.0000\n",
            "Epoch 171/200\n",
            "29/29 [==============================] - 0s 4ms/step - loss: 7.4675e-05 - sparse_categorical_accuracy: 1.0000\n",
            "Epoch 172/200\n",
            "29/29 [==============================] - 0s 4ms/step - loss: 7.3105e-05 - sparse_categorical_accuracy: 1.0000\n",
            "Epoch 173/200\n",
            "29/29 [==============================] - 0s 4ms/step - loss: 7.1344e-05 - sparse_categorical_accuracy: 1.0000\n",
            "Epoch 174/200\n",
            "29/29 [==============================] - 0s 4ms/step - loss: 7.0224e-05 - sparse_categorical_accuracy: 1.0000\n",
            "Epoch 175/200\n",
            "29/29 [==============================] - 0s 4ms/step - loss: 6.9351e-05 - sparse_categorical_accuracy: 1.0000\n",
            "Epoch 176/200\n",
            "29/29 [==============================] - 0s 4ms/step - loss: 6.8080e-05 - sparse_categorical_accuracy: 1.0000\n",
            "Epoch 177/200\n",
            "29/29 [==============================] - 0s 4ms/step - loss: 6.6377e-05 - sparse_categorical_accuracy: 1.0000\n",
            "Epoch 178/200\n",
            "29/29 [==============================] - 0s 3ms/step - loss: 6.5245e-05 - sparse_categorical_accuracy: 1.0000\n",
            "Epoch 179/200\n",
            "29/29 [==============================] - 0s 3ms/step - loss: 6.4962e-05 - sparse_categorical_accuracy: 1.0000\n",
            "Epoch 180/200\n",
            "29/29 [==============================] - 0s 3ms/step - loss: 6.3756e-05 - sparse_categorical_accuracy: 1.0000\n",
            "Epoch 181/200\n",
            "29/29 [==============================] - 0s 3ms/step - loss: 6.2204e-05 - sparse_categorical_accuracy: 1.0000\n",
            "Epoch 182/200\n",
            "29/29 [==============================] - 0s 3ms/step - loss: 6.1252e-05 - sparse_categorical_accuracy: 1.0000\n",
            "Epoch 183/200\n",
            "29/29 [==============================] - 0s 3ms/step - loss: 5.9722e-05 - sparse_categorical_accuracy: 1.0000\n",
            "Epoch 184/200\n",
            "29/29 [==============================] - 0s 3ms/step - loss: 5.8900e-05 - sparse_categorical_accuracy: 1.0000\n",
            "Epoch 185/200\n",
            "29/29 [==============================] - 0s 3ms/step - loss: 5.7983e-05 - sparse_categorical_accuracy: 1.0000\n",
            "Epoch 186/200\n",
            "29/29 [==============================] - 0s 3ms/step - loss: 5.7296e-05 - sparse_categorical_accuracy: 1.0000\n",
            "Epoch 187/200\n",
            "29/29 [==============================] - 0s 3ms/step - loss: 6.4650e-05 - sparse_categorical_accuracy: 1.0000\n",
            "Epoch 188/200\n",
            "29/29 [==============================] - 0s 3ms/step - loss: 5.6349e-05 - sparse_categorical_accuracy: 1.0000\n",
            "Epoch 189/200\n",
            "29/29 [==============================] - 0s 3ms/step - loss: 5.4038e-05 - sparse_categorical_accuracy: 1.0000\n",
            "Epoch 190/200\n",
            "29/29 [==============================] - 0s 3ms/step - loss: 5.2927e-05 - sparse_categorical_accuracy: 1.0000\n",
            "Epoch 191/200\n",
            "29/29 [==============================] - 0s 3ms/step - loss: 5.2759e-05 - sparse_categorical_accuracy: 1.0000\n",
            "Epoch 192/200\n",
            "29/29 [==============================] - 0s 3ms/step - loss: 5.2180e-05 - sparse_categorical_accuracy: 1.0000\n",
            "Epoch 193/200\n",
            "29/29 [==============================] - 0s 3ms/step - loss: 4.9951e-05 - sparse_categorical_accuracy: 1.0000\n",
            "Epoch 194/200\n",
            "29/29 [==============================] - 0s 3ms/step - loss: 4.8880e-05 - sparse_categorical_accuracy: 1.0000\n",
            "Epoch 195/200\n",
            "29/29 [==============================] - 0s 3ms/step - loss: 4.7835e-05 - sparse_categorical_accuracy: 1.0000\n",
            "Epoch 196/200\n",
            "29/29 [==============================] - 0s 3ms/step - loss: 4.7196e-05 - sparse_categorical_accuracy: 1.0000\n",
            "Epoch 197/200\n",
            "29/29 [==============================] - 0s 3ms/step - loss: 4.7297e-05 - sparse_categorical_accuracy: 1.0000\n",
            "Epoch 198/200\n",
            "29/29 [==============================] - 0s 3ms/step - loss: 4.6506e-05 - sparse_categorical_accuracy: 1.0000\n",
            "Epoch 199/200\n",
            "29/29 [==============================] - 0s 3ms/step - loss: 4.5020e-05 - sparse_categorical_accuracy: 1.0000\n",
            "Epoch 200/200\n",
            "29/29 [==============================] - 0s 3ms/step - loss: 4.3965e-05 - sparse_categorical_accuracy: 1.0000\n"
          ]
        }
      ],
      "source": [
        "history = model.fit(X_train, y_train, epochs=200)"
      ]
    },
    {
      "cell_type": "code",
      "execution_count": 19,
      "metadata": {
        "id": "PMmDQ8AuzYCA",
        "outputId": "830851bb-e78b-4597-c811-cde7690e9565",
        "colab": {
          "base_uri": "https://localhost:8080/"
        }
      },
      "outputs": [
        {
          "output_type": "stream",
          "name": "stdout",
          "text": [
            "29/29 [==============================] - 0s 1ms/step\n"
          ]
        }
      ],
      "source": [
        "preds = model.predict(X_test)"
      ]
    },
    {
      "cell_type": "code",
      "execution_count": 20,
      "metadata": {
        "id": "7A2HF42-0O2G"
      },
      "outputs": [],
      "source": [
        "y_classes = preds.argmax(axis=-1)"
      ]
    },
    {
      "cell_type": "code",
      "execution_count": 21,
      "metadata": {
        "colab": {
          "base_uri": "https://localhost:8080/"
        },
        "id": "NjYxI9jY843X",
        "outputId": "fc13aa9e-2216-40ad-f4ae-31505979183b"
      },
      "outputs": [
        {
          "output_type": "execute_result",
          "data": {
            "text/plain": [
              "0.9388209121245829"
            ]
          },
          "metadata": {},
          "execution_count": 21
        }
      ],
      "source": [
        "sklearn.metrics.accuracy_score(y_test, y_classes)"
      ]
    },
    {
      "cell_type": "markdown",
      "metadata": {
        "id": "bSQMCegO843X"
      },
      "source": [
        "We see our model performs... just as well. Because we are not dealing with a massive dataset, logistic regression and a single layer neural network perform about just about the same. What should be noted here is how easily we could use Keras to build a single layer neural network.\n",
        "\n",
        "### Single Layer Net in PyTorch\n",
        "\n",
        "[PyTorch](https://pytorch.org/) is another widely used deep learning package, and one with high usage in both academia and industry. While Keras slotted in easily as an extension of the machine learning topics we saw yesterday (such as with its use of numpy, and the fit function), PyTorch runs on Tensors. Tensors are essentially a multi-dimensional matrix, and operate similarly to numpy arrays.\n",
        "\n",
        "In the following lines of code, we will quickly look at some basic tensor operations, such as generating an empty tensor, basic operations on tensors, and converting between numpy arrays and tensors. While you will not be tested on your ability to manipulate tensors, it is useful to know how to play with them. The final line of code in this section converts our previously used numpy based data to tensors."
      ]
    },
    {
      "cell_type": "code",
      "execution_count": 22,
      "metadata": {
        "id": "1I4UoIYJ843X"
      },
      "outputs": [],
      "source": [
        "## Pytorch\n",
        "import torch\n",
        "import torch.nn as nn\n",
        "from torch.autograd import Variable\n",
        "import torch.optim as optim"
      ]
    },
    {
      "cell_type": "markdown",
      "metadata": {
        "id": "7eVWcRafiuW8"
      },
      "source": [
        "### Tensors and Data"
      ]
    },
    {
      "cell_type": "code",
      "execution_count": 23,
      "metadata": {
        "colab": {
          "base_uri": "https://localhost:8080/"
        },
        "id": "cRO8D-FsiuW8",
        "outputId": "e6559e78-e79e-4672-c790-14ab849ec4d0"
      },
      "outputs": [
        {
          "output_type": "stream",
          "name": "stdout",
          "text": [
            "tensor([[6.8608e+22, 1.7667e+22, 1.8177e+31],\n",
            "        [1.7332e+25, 1.2709e+31, 2.7489e+26],\n",
            "        [5.0830e+31, 7.2701e+31, 2.0532e-19],\n",
            "        [7.7155e+31, 1.9430e-19, 1.9432e-19],\n",
            "        [7.0062e+22, 1.8591e+34, 7.6185e+31]])\n"
          ]
        }
      ],
      "source": [
        "#pytorch tensors calculation\n",
        "x = torch.empty(5, 3)\n",
        "print(x)"
      ]
    },
    {
      "cell_type": "markdown",
      "metadata": {
        "id": "CVc7dPSI6xAM"
      },
      "source": [
        "torch.empty() allocates memory space for the array but does not initialize the values in this space--you get whatever uninitialized values are set to those cells in the memory!"
      ]
    },
    {
      "cell_type": "code",
      "execution_count": 24,
      "metadata": {
        "colab": {
          "base_uri": "https://localhost:8080/"
        },
        "id": "NFowPB2TiuW8",
        "outputId": "95a6711b-5af3-4eb8-fff0-0f38e8e56ea0"
      },
      "outputs": [
        {
          "output_type": "stream",
          "name": "stdout",
          "text": [
            "tensor([[0.7933, 0.0348, 0.6902],\n",
            "        [0.2983, 0.3080, 0.3343],\n",
            "        [0.7894, 0.7593, 0.2458],\n",
            "        [0.7900, 0.7749, 0.7558],\n",
            "        [0.1771, 0.5699, 0.4351]])\n"
          ]
        }
      ],
      "source": [
        "x = torch.rand(5, 3)\n",
        "print(x)"
      ]
    },
    {
      "cell_type": "markdown",
      "metadata": {
        "id": "6qdkY7Gi68JJ"
      },
      "source": [
        "torch.rand() produces random values [0,1]"
      ]
    },
    {
      "cell_type": "code",
      "execution_count": 25,
      "metadata": {
        "colab": {
          "base_uri": "https://localhost:8080/"
        },
        "id": "Ude_3HtPiuW9",
        "outputId": "f583de15-02b4-4f3b-d00c-4fa4dd39a41b"
      },
      "outputs": [
        {
          "output_type": "stream",
          "name": "stdout",
          "text": [
            "tensor([[0, 0, 0],\n",
            "        [0, 0, 0],\n",
            "        [0, 0, 0],\n",
            "        [0, 0, 0],\n",
            "        [0, 0, 0]])\n"
          ]
        }
      ],
      "source": [
        "x = torch.zeros(5, 3, dtype=torch.long)\n",
        "print(x)"
      ]
    },
    {
      "cell_type": "code",
      "execution_count": 26,
      "metadata": {
        "colab": {
          "base_uri": "https://localhost:8080/"
        },
        "id": "EaKZjGDgiuW9",
        "outputId": "ca3ec453-5b93-4a3e-b672-f9d4a023c540"
      },
      "outputs": [
        {
          "output_type": "stream",
          "name": "stdout",
          "text": [
            "tensor([[0.0033, 0.8455, 0.9583],\n",
            "        [0.9049, 0.2528, 0.7683],\n",
            "        [0.6783, 0.1975, 0.7494],\n",
            "        [0.9530, 0.4983, 0.5390],\n",
            "        [0.1657, 0.4637, 0.3052]])\n"
          ]
        }
      ],
      "source": [
        "y = torch.rand(5, 3)\n",
        "print(x + y)"
      ]
    },
    {
      "cell_type": "code",
      "execution_count": 27,
      "metadata": {
        "colab": {
          "base_uri": "https://localhost:8080/"
        },
        "id": "IWZvt-ImiuW9",
        "outputId": "971da7d4-0b94-4bba-e71e-4c5b2bc51b8b"
      },
      "outputs": [
        {
          "output_type": "stream",
          "name": "stdout",
          "text": [
            "tensor([[0.0033, 0.8455, 0.9583],\n",
            "        [0.9049, 0.2528, 0.7683],\n",
            "        [0.6783, 0.1975, 0.7494],\n",
            "        [0.9530, 0.4983, 0.5390],\n",
            "        [0.1657, 0.4637, 0.3052]])\n"
          ]
        }
      ],
      "source": [
        "print(torch.add(x, y))"
      ]
    },
    {
      "cell_type": "code",
      "execution_count": 28,
      "metadata": {
        "colab": {
          "base_uri": "https://localhost:8080/"
        },
        "id": "45_cMiobiuW9",
        "outputId": "2781afcb-1944-4cd2-bb71-ed52fa6ab156"
      },
      "outputs": [
        {
          "output_type": "stream",
          "name": "stdout",
          "text": [
            "tensor([[0.0033, 0.8455, 0.9583],\n",
            "        [0.9049, 0.2528, 0.7683],\n",
            "        [0.6783, 0.1975, 0.7494],\n",
            "        [0.9530, 0.4983, 0.5390],\n",
            "        [0.1657, 0.4637, 0.3052]])\n"
          ]
        }
      ],
      "source": [
        "y.add_(x) # the `_` sign at end means the operation mutates tensor y in-place\n",
        "print(y)"
      ]
    },
    {
      "cell_type": "code",
      "execution_count": 29,
      "metadata": {
        "colab": {
          "base_uri": "https://localhost:8080/"
        },
        "id": "jcsYRHM5iuW-",
        "outputId": "9a39abe5-582b-46ed-e534-ef979ab02516"
      },
      "outputs": [
        {
          "output_type": "stream",
          "name": "stdout",
          "text": [
            "A = tensor([[20, 24],\n",
            "        [31, 27]])\n"
          ]
        }
      ],
      "source": [
        "# to_remove solution\n",
        "a1 = torch.tensor([[2, 4], [5, 7]])\n",
        "a2 = torch.tensor([[1, 1], [2, 3]])\n",
        "a3 = torch.tensor([[10, 10], [12, 1]])\n",
        "A = torch.add(a1 @ a2, a3)\n",
        "print(\"A =\", A)"
      ]
    },
    {
      "cell_type": "code",
      "execution_count": 30,
      "metadata": {
        "colab": {
          "base_uri": "https://localhost:8080/"
        },
        "id": "GF8RzPvriuW-",
        "outputId": "a9df1c44-28a0-4966-d367-d4fc7cdf63d7"
      },
      "outputs": [
        {
          "output_type": "stream",
          "name": "stdout",
          "text": [
            "b = tensor([[82]])\n"
          ]
        }
      ],
      "source": [
        "# @ and torch.matmul return a multidimensional tensor\n",
        "b1 = torch.tensor([[3], [5], [7]])\n",
        "b2 = torch.tensor([[2], [4], [8]])\n",
        "b = b1.T @ b2\n",
        "print(\"b =\", b)"
      ]
    },
    {
      "cell_type": "code",
      "execution_count": 31,
      "metadata": {
        "colab": {
          "base_uri": "https://localhost:8080/"
        },
        "id": "YtQmjUB4iuW-",
        "outputId": "38dbc80b-80f9-4118-a6ab-cd899c35f209"
      },
      "outputs": [
        {
          "output_type": "stream",
          "name": "stdout",
          "text": [
            "b = tensor(82)\n"
          ]
        }
      ],
      "source": [
        "# dot function returns a scalar tensor\n",
        "b1 = torch.tensor([3, 5, 7])\n",
        "b2 = torch.tensor([2, 4, 8])\n",
        "b = torch.dot(b1, b2)\n",
        "print(\"b =\", b)"
      ]
    },
    {
      "cell_type": "markdown",
      "metadata": {
        "id": "VVfilRNtiuW_"
      },
      "source": [
        "We now look at converting between tensors and numpy arrays."
      ]
    },
    {
      "cell_type": "code",
      "execution_count": 32,
      "metadata": {
        "colab": {
          "base_uri": "https://localhost:8080/"
        },
        "id": "T-lrMcKbiuW_",
        "outputId": "91e85a8d-8841-4e4d-90b9-6c25e1fda604"
      },
      "outputs": [
        {
          "output_type": "stream",
          "name": "stdout",
          "text": [
            "tensor([1., 1., 1., 1., 1.])\n"
          ]
        }
      ],
      "source": [
        "a = torch.ones(5)\n",
        "print(a)"
      ]
    },
    {
      "cell_type": "code",
      "execution_count": 33,
      "metadata": {
        "colab": {
          "base_uri": "https://localhost:8080/"
        },
        "id": "T8vJU89ViuW_",
        "outputId": "29bd02dd-87eb-4c4f-c7a8-b0cd2e548de5"
      },
      "outputs": [
        {
          "output_type": "stream",
          "name": "stdout",
          "text": [
            "[1. 1. 1. 1. 1.]\n"
          ]
        }
      ],
      "source": [
        "b = a.numpy()\n",
        "print(b)"
      ]
    },
    {
      "cell_type": "code",
      "execution_count": 34,
      "metadata": {
        "colab": {
          "base_uri": "https://localhost:8080/"
        },
        "id": "V-UvLOLoiuXA",
        "outputId": "c8ed772d-b7e7-4cba-ab84-b8ee7bcdce39"
      },
      "outputs": [
        {
          "output_type": "stream",
          "name": "stdout",
          "text": [
            "tensor([2., 2., 2., 2., 2.])\n"
          ]
        }
      ],
      "source": [
        "a.add_(1)\n",
        "print(a)"
      ]
    },
    {
      "cell_type": "code",
      "execution_count": 35,
      "metadata": {
        "colab": {
          "base_uri": "https://localhost:8080/"
        },
        "id": "EyZmiY31iuXA",
        "outputId": "92f6b78a-4f30-4c37-b860-6df40cac54bf"
      },
      "outputs": [
        {
          "output_type": "stream",
          "name": "stdout",
          "text": [
            "[2. 2. 2. 2. 2.]\n"
          ]
        }
      ],
      "source": [
        "print(b)"
      ]
    },
    {
      "cell_type": "code",
      "execution_count": 36,
      "metadata": {
        "colab": {
          "base_uri": "https://localhost:8080/"
        },
        "id": "5j5COhSEiuXA",
        "outputId": "a49e632e-4d25-415d-fd49-46c182a59754"
      },
      "outputs": [
        {
          "output_type": "stream",
          "name": "stdout",
          "text": [
            "[2. 2. 2. 2. 2.]\n",
            "tensor([2., 2., 2., 2., 2.], dtype=torch.float64)\n"
          ]
        }
      ],
      "source": [
        "a = np.ones(5)\n",
        "b = torch.from_numpy(a)\n",
        "np.add(a, 1, out=a)\n",
        "print(a)\n",
        "print(b)"
      ]
    },
    {
      "cell_type": "markdown",
      "metadata": {
        "id": "gJMkVNg_iuXA"
      },
      "source": [
        "We now get our training data ready."
      ]
    },
    {
      "cell_type": "code",
      "execution_count": 37,
      "metadata": {
        "id": "QXpNq6zpiuXB"
      },
      "outputs": [],
      "source": [
        "X_train_tensor = torch.tensor(X_train)\n",
        "y_train_tensor = torch.tensor(y_train).type(torch.LongTensor)"
      ]
    },
    {
      "cell_type": "markdown",
      "metadata": {
        "id": "HtbqB1rriuXB"
      },
      "source": [
        "### Constructing a Neural Network with PyTorch\n",
        "\n",
        "PyTorch is a little more involved than Keras. We need to initialise our network with the various parts we will be using. We are using the same parameters as the Keras example. We then define what a forward pass looks like, which is kind of similar to the way we stacked networks in Keras.\n",
        "\n",
        "[Pytorch's nn module](https://pytorch.org/docs/stable/nn.html) is the basic unit for building neural networks (or computational graphs, as it is sometimes referred to in pytroch). For example, for a hidden layer, we use the Linear layer."
      ]
    },
    {
      "cell_type": "code",
      "execution_count": 38,
      "metadata": {
        "id": "fb9jEVet7FpA"
      },
      "outputs": [],
      "source": [
        "import torch.nn.functional as F"
      ]
    },
    {
      "cell_type": "code",
      "execution_count": 39,
      "metadata": {
        "colab": {
          "base_uri": "https://localhost:8080/"
        },
        "id": "LDJ87iXdiuXB",
        "outputId": "881d860d-883d-4c71-d0f1-f99410b6de88"
      },
      "outputs": [
        {
          "output_type": "execute_result",
          "data": {
            "text/plain": [
              "Linear(in_features=20, out_features=20, bias=True)"
            ]
          },
          "metadata": {},
          "execution_count": 39
        }
      ],
      "source": [
        "nn.Linear(20, 20)"
      ]
    },
    {
      "cell_type": "markdown",
      "metadata": {
        "id": "8QQ_VFXEiuXC"
      },
      "source": [
        "The module also includes activation functions."
      ]
    },
    {
      "cell_type": "code",
      "execution_count": 40,
      "metadata": {
        "colab": {
          "base_uri": "https://localhost:8080/"
        },
        "id": "rrsejrMTiuXC",
        "outputId": "018903fe-a797-4846-d038-5f7e99c43e35"
      },
      "outputs": [
        {
          "output_type": "execute_result",
          "data": {
            "text/plain": [
              "ReLU()"
            ]
          },
          "metadata": {},
          "execution_count": 40
        }
      ],
      "source": [
        "nn.ReLU()"
      ]
    },
    {
      "cell_type": "markdown",
      "metadata": {
        "id": "zvrw_SqFiuXC"
      },
      "source": [
        "We usually encapsulate the network by defining the hidden layers and activation functions we will be needing, which you can see in the initialisation. You can then see the forward passes the input tensor through each of the operations."
      ]
    },
    {
      "cell_type": "code",
      "execution_count": 41,
      "metadata": {
        "id": "TtwcjMap843Y"
      },
      "outputs": [],
      "source": [
        "class Network(nn.Module):\n",
        "    def __init__(self):\n",
        "        super().__init__()\n",
        "        # Inputs to hidden layer linear transformation\n",
        "        self.hidden = nn.Linear(64, 200)\n",
        "        # Output layer, 1 output for the classification\n",
        "        self.output = nn.Linear(200, 10)\n",
        "        # Define sigmoid activation and softmax output\n",
        "        self.relu = nn.ReLU()\n",
        "        self.softmax = nn.Softmax()\n",
        "\n",
        "    def forward(self, x):\n",
        "        # Pass the input tensor through each of our operations\n",
        "        x = self.hidden(x)\n",
        "        x = self.relu(x)\n",
        "        x = self.output(x)\n",
        "        x = self.softmax(x)\n",
        "        return x"
      ]
    },
    {
      "cell_type": "code",
      "execution_count": 42,
      "metadata": {
        "id": "U3o0hwRFiuXC"
      },
      "outputs": [],
      "source": [
        "net = Network()"
      ]
    },
    {
      "cell_type": "markdown",
      "metadata": {
        "id": "aN6b9zt8iuXD"
      },
      "source": [
        "We then define the optimiser and loss function."
      ]
    },
    {
      "cell_type": "code",
      "execution_count": 43,
      "metadata": {
        "id": "kYto8Y2biuXD"
      },
      "outputs": [],
      "source": [
        "opt = optim.Adam(net.parameters(), lr=0.001, betas=(0.9, 0.999))"
      ]
    },
    {
      "cell_type": "code",
      "execution_count": 44,
      "metadata": {
        "id": "1Hp4PkB1iuXD"
      },
      "outputs": [],
      "source": [
        "criterion = F.nll_loss"
      ]
    },
    {
      "cell_type": "markdown",
      "metadata": {
        "id": "GDKyIAd4843Y"
      },
      "source": [
        "Unlike Keras where we hit fit and the training happens, we have to define a training epoch, where we set our gradients to zero, run the test data, do a backward pass, and then update the weights. This is actually how a neural network trains, so its useful to see it broken down like this."
      ]
    },
    {
      "cell_type": "code",
      "execution_count": 45,
      "metadata": {
        "id": "uG579lYv843Z"
      },
      "outputs": [],
      "source": [
        "def train_epoch(model, opt, criterion, X_train, y_train):\n",
        "    model.train()\n",
        "    losses = []\n",
        "    opt.zero_grad()\n",
        "    # (1) Forward\n",
        "    y_hat = model(X_train)\n",
        "    # (2) Compute diff\n",
        "    loss = criterion(y_hat, y_train)\n",
        "    # (3) Compute gradients, this is the backprop step\n",
        "    loss.backward()\n",
        "    # (4) update weights\n",
        "    opt.step()\n",
        "    losses.append(loss.data.numpy())\n",
        "    return losses"
      ]
    },
    {
      "cell_type": "code",
      "execution_count": 46,
      "metadata": {
        "id": "ZfPJDqCT843Z"
      },
      "outputs": [],
      "source": [
        "import matplotlib.pyplot as plt"
      ]
    },
    {
      "cell_type": "code",
      "execution_count": 47,
      "metadata": {
        "colab": {
          "base_uri": "https://localhost:8080/"
        },
        "id": "_bFmIc2J6k7i",
        "outputId": "48fade1f-35ce-4431-cb68-764a64a12448"
      },
      "outputs": [
        {
          "output_type": "execute_result",
          "data": {
            "text/plain": [
              "tensor([[ 0.,  0.,  5.,  ...,  0.,  0.,  0.],\n",
              "        [ 0.,  0.,  0.,  ..., 10.,  0.,  0.],\n",
              "        [ 0.,  0.,  0.,  ..., 16.,  9.,  0.],\n",
              "        ...,\n",
              "        [ 0.,  0.,  2.,  ..., 14.,  0.,  0.],\n",
              "        [ 0.,  1., 12.,  ...,  0.,  0.,  0.],\n",
              "        [ 0.,  0.,  0.,  ...,  3.,  0.,  0.]])"
            ]
          },
          "metadata": {},
          "execution_count": 47
        }
      ],
      "source": [
        "X_train_tensor.float()"
      ]
    },
    {
      "cell_type": "code",
      "execution_count": 48,
      "metadata": {
        "colab": {
          "base_uri": "https://localhost:8080/"
        },
        "id": "bkjzdxN0843Z",
        "outputId": "1cc320d1-0bc1-4731-9cb8-2e182c07ab98"
      },
      "outputs": [
        {
          "output_type": "stream",
          "name": "stderr",
          "text": [
            "/usr/local/lib/python3.10/dist-packages/torch/nn/modules/module.py:1511: UserWarning: Implicit dimension choice for softmax has been deprecated. Change the call to include dim=X as an argument.\n",
            "  return self._call_impl(*args, **kwargs)\n"
          ]
        }
      ],
      "source": [
        "e_losses = []\n",
        "num_epochs = 200\n",
        "for e in range(num_epochs):\n",
        "    e_losses += train_epoch(net, opt, criterion, X_train_tensor.float(), y_train_tensor)"
      ]
    },
    {
      "cell_type": "code",
      "execution_count": 49,
      "metadata": {
        "colab": {
          "base_uri": "https://localhost:8080/",
          "height": 472
        },
        "id": "wz2hWSeaiuXE",
        "outputId": "a398c5e1-afce-4068-92dc-0117eaa56360"
      },
      "outputs": [
        {
          "output_type": "display_data",
          "data": {
            "text/plain": [
              "<Figure size 640x480 with 1 Axes>"
            ],
            "image/png": "[encoded data removed]"
          },
          "metadata": {}
        }
      ],
      "source": [
        "plt.title(\"Loss for Neural Net Training\")\n",
        "plt.xlabel(\"Number of epochs\")\n",
        "plt.ylabel(\"Loss\")\n",
        "plt.plot(e_losses)\n",
        "plt.show()"
      ]
    },
    {
      "cell_type": "markdown",
      "metadata": {
        "id": "ex2uZGk-843Z"
      },
      "source": [
        "That little loss plot is useful for us to see how our model improves with each epoch. We did 200 epochs like the Keras example. Unlike scikit-learn or Keras objects, we don't have a predict method, but instead pass the test data directly to the net. The little function below that converts the results into a way which we can feed into a metric function."
      ]
    },
    {
      "cell_type": "code",
      "execution_count": 50,
      "metadata": {
        "id": "woweXacG843a"
      },
      "outputs": [],
      "source": [
        "output = net(torch.tensor(X_test).float())"
      ]
    },
    {
      "cell_type": "code",
      "execution_count": 51,
      "metadata": {
        "id": "yY49xGZviuXF"
      },
      "outputs": [],
      "source": [
        "y_classes = output.argmax(axis=-1)"
      ]
    },
    {
      "cell_type": "code",
      "execution_count": 52,
      "metadata": {
        "colab": {
          "base_uri": "https://localhost:8080/"
        },
        "id": "HHXAtUGt843a",
        "outputId": "bd2b048f-9d0f-4e48-b8d0-a72d39c6ac19",
        "scrolled": true
      },
      "outputs": [
        {
          "output_type": "execute_result",
          "data": {
            "text/plain": [
              "0.8520578420467185"
            ]
          },
          "metadata": {},
          "execution_count": 52
        }
      ],
      "source": [
        "sklearn.metrics.accuracy_score(y_test, y_classes)"
      ]
    },
    {
      "cell_type": "markdown",
      "metadata": {
        "id": "zD-c630M843a"
      },
      "source": [
        "Cool! So our PyTorch neural net did a bit better than both Keras and logistic regression. This is a demonstration of how neural networks which are similar in structure can still end up as divergently performing models because of random weights initialisation between different libraries.\n",
        "\n",
        "Let us now make our networks deep, and see if that helps!\n",
        "\n",
        "### Keras Deep Net\n",
        "\n",
        "Making a neural net deeper simply means adding more layers or complexity. Lets add an extra layer and increase the number of units and see how it does! In the last example, we added each layer line by line. Here, we use a single list.\n",
        "\n",
        "For this simple neural network, we use a virtual example based on make_classification function of sklearn package.\n"
      ]
    },
    {
      "cell_type": "code",
      "execution_count": 53,
      "metadata": {
        "colab": {
          "base_uri": "https://localhost:8080/",
          "height": 452
        },
        "id": "UzwUrp5OZG2d",
        "outputId": "d0ed1247-d2b2-40ff-e5c3-50b10f07572f"
      },
      "outputs": [
        {
          "output_type": "display_data",
          "data": {
            "text/plain": [
              "<Figure size 640x480 with 1 Axes>"
            ],
            "image/png": "[encoded data removed]"
          },
          "metadata": {}
        }
      ],
      "source": [
        "import matplotlib.pyplot as plt\n",
        "\n",
        "X, y = sklearn.datasets.make_classification(n_samples=200, n_features=200, n_informative=100, n_classes=2, random_state=40)\n",
        "plt.title(\"Plot of first two features of classification dataset\")\n",
        "plt.scatter(X[:, 0], X[:, 1], marker='o', c=y, s=25, edgecolor='k')\n",
        "plt.show()"
      ]
    },
    {
      "cell_type": "code",
      "execution_count": 54,
      "metadata": {
        "id": "sFbXca80ZzsV"
      },
      "outputs": [],
      "source": [
        "X_train, X_test, y_train, y_test = sklearn.model_selection.train_test_split(X, y)"
      ]
    },
    {
      "cell_type": "code",
      "execution_count": 55,
      "metadata": {
        "id": "XCExN1bx843b"
      },
      "outputs": [],
      "source": [
        "model = keras.models.Sequential([keras.layers.Dense(200, input_dim=200, activation='relu'),\n",
        "                                 keras.layers.Dense(200, activation='relu'),\n",
        "                                 keras.layers.Dense(1, activation='sigmoid')])"
      ]
    },
    {
      "cell_type": "code",
      "execution_count": 56,
      "metadata": {
        "id": "bNnZUBSd843b"
      },
      "outputs": [],
      "source": [
        "model.compile(loss=\"binary_crossentropy\", optimizer=\"adam\")"
      ]
    },
    {
      "cell_type": "code",
      "execution_count": 57,
      "metadata": {
        "colab": {
          "base_uri": "https://localhost:8080/"
        },
        "id": "rNFgL3_l843c",
        "outputId": "d48cfbeb-1906-4e74-97ea-f82819018f4a"
      },
      "outputs": [
        {
          "output_type": "stream",
          "name": "stdout",
          "text": [
            "Epoch 1/200\n",
            "5/5 [==============================] - 2s 5ms/step - loss: 1.3799\n",
            "Epoch 2/200\n",
            "5/5 [==============================] - 0s 4ms/step - loss: 0.4191\n",
            "Epoch 3/200\n",
            "5/5 [==============================] - 0s 3ms/step - loss: 0.1440\n",
            "Epoch 4/200\n",
            "5/5 [==============================] - 0s 4ms/step - loss: 0.0409\n",
            "Epoch 5/200\n",
            "5/5 [==============================] - 0s 4ms/step - loss: 0.0293\n",
            "Epoch 6/200\n",
            "5/5 [==============================] - 0s 3ms/step - loss: 0.0145\n",
            "Epoch 7/200\n",
            "5/5 [==============================] - 0s 3ms/step - loss: 0.0094\n",
            "Epoch 8/200\n",
            "5/5 [==============================] - 0s 4ms/step - loss: 0.0077\n",
            "Epoch 9/200\n",
            "5/5 [==============================] - 0s 4ms/step - loss: 0.0061\n",
            "Epoch 10/200\n",
            "5/5 [==============================] - 0s 3ms/step - loss: 0.0047\n",
            "Epoch 11/200\n",
            "5/5 [==============================] - 0s 4ms/step - loss: 0.0039\n",
            "Epoch 12/200\n",
            "5/5 [==============================] - 0s 4ms/step - loss: 0.0035\n",
            "Epoch 13/200\n",
            "5/5 [==============================] - 0s 4ms/step - loss: 0.0032\n",
            "Epoch 14/200\n",
            "5/5 [==============================] - 0s 4ms/step - loss: 0.0029\n",
            "Epoch 15/200\n",
            "5/5 [==============================] - 0s 4ms/step - loss: 0.0027\n",
            "Epoch 16/200\n",
            "5/5 [==============================] - 0s 3ms/step - loss: 0.0025\n",
            "Epoch 17/200\n",
            "5/5 [==============================] - 0s 5ms/step - loss: 0.0024\n",
            "Epoch 18/200\n",
            "5/5 [==============================] - 0s 4ms/step - loss: 0.0022\n",
            "Epoch 19/200\n",
            "5/5 [==============================] - 0s 3ms/step - loss: 0.0021\n",
            "Epoch 20/200\n",
            "5/5 [==============================] - 0s 3ms/step - loss: 0.0020\n",
            "Epoch 21/200\n",
            "5/5 [==============================] - 0s 3ms/step - loss: 0.0019\n",
            "Epoch 22/200\n",
            "5/5 [==============================] - 0s 4ms/step - loss: 0.0018\n",
            "Epoch 23/200\n",
            "5/5 [==============================] - 0s 3ms/step - loss: 0.0017\n",
            "Epoch 24/200\n",
            "5/5 [==============================] - 0s 4ms/step - loss: 0.0016\n",
            "Epoch 25/200\n",
            "5/5 [==============================] - 0s 4ms/step - loss: 0.0015\n",
            "Epoch 26/200\n",
            "5/5 [==============================] - 0s 4ms/step - loss: 0.0015\n",
            "Epoch 27/200\n",
            "5/5 [==============================] - 0s 4ms/step - loss: 0.0014\n",
            "Epoch 28/200\n",
            "5/5 [==============================] - 0s 4ms/step - loss: 0.0013\n",
            "Epoch 29/200\n",
            "5/5 [==============================] - 0s 3ms/step - loss: 0.0013\n",
            "Epoch 30/200\n",
            "5/5 [==============================] - 0s 4ms/step - loss: 0.0012\n",
            "Epoch 31/200\n",
            "5/5 [==============================] - 0s 4ms/step - loss: 0.0012\n",
            "Epoch 32/200\n",
            "5/5 [==============================] - 0s 4ms/step - loss: 0.0011\n",
            "Epoch 33/200\n",
            "5/5 [==============================] - 0s 3ms/step - loss: 0.0011\n",
            "Epoch 34/200\n",
            "5/5 [==============================] - 0s 3ms/step - loss: 0.0010\n",
            "Epoch 35/200\n",
            "5/5 [==============================] - 0s 5ms/step - loss: 9.6348e-04\n",
            "Epoch 36/200\n",
            "5/5 [==============================] - 0s 4ms/step - loss: 9.2329e-04\n",
            "Epoch 37/200\n",
            "5/5 [==============================] - 0s 3ms/step - loss: 8.8338e-04\n",
            "Epoch 38/200\n",
            "5/5 [==============================] - 0s 3ms/step - loss: 8.4736e-04\n",
            "Epoch 39/200\n",
            "5/5 [==============================] - 0s 4ms/step - loss: 8.1315e-04\n",
            "Epoch 40/200\n",
            "5/5 [==============================] - 0s 4ms/step - loss: 7.8080e-04\n",
            "Epoch 41/200\n",
            "5/5 [==============================] - 0s 4ms/step - loss: 7.4956e-04\n",
            "Epoch 42/200\n",
            "5/5 [==============================] - 0s 4ms/step - loss: 7.1962e-04\n",
            "Epoch 43/200\n",
            "5/5 [==============================] - 0s 3ms/step - loss: 6.9272e-04\n",
            "Epoch 44/200\n",
            "5/5 [==============================] - 0s 4ms/step - loss: 6.6655e-04\n",
            "Epoch 45/200\n",
            "5/5 [==============================] - 0s 3ms/step - loss: 6.4059e-04\n",
            "Epoch 46/200\n",
            "5/5 [==============================] - 0s 3ms/step - loss: 6.1554e-04\n",
            "Epoch 47/200\n",
            "5/5 [==============================] - 0s 3ms/step - loss: 5.9405e-04\n",
            "Epoch 48/200\n",
            "5/5 [==============================] - 0s 4ms/step - loss: 5.7257e-04\n",
            "Epoch 49/200\n",
            "5/5 [==============================] - 0s 4ms/step - loss: 5.5149e-04\n",
            "Epoch 50/200\n",
            "5/5 [==============================] - 0s 4ms/step - loss: 5.2959e-04\n",
            "Epoch 51/200\n",
            "5/5 [==============================] - 0s 4ms/step - loss: 5.1064e-04\n",
            "Epoch 52/200\n",
            "5/5 [==============================] - 0s 3ms/step - loss: 4.9160e-04\n",
            "Epoch 53/200\n",
            "5/5 [==============================] - 0s 3ms/step - loss: 4.7405e-04\n",
            "Epoch 54/200\n",
            "5/5 [==============================] - 0s 4ms/step - loss: 4.5807e-04\n",
            "Epoch 55/200\n",
            "5/5 [==============================] - 0s 4ms/step - loss: 4.4178e-04\n",
            "Epoch 56/200\n",
            "5/5 [==============================] - 0s 4ms/step - loss: 4.2623e-04\n",
            "Epoch 57/200\n",
            "5/5 [==============================] - 0s 4ms/step - loss: 4.1267e-04\n",
            "Epoch 58/200\n",
            "5/5 [==============================] - 0s 4ms/step - loss: 4.0004e-04\n",
            "Epoch 59/200\n",
            "5/5 [==============================] - 0s 5ms/step - loss: 3.8657e-04\n",
            "Epoch 60/200\n",
            "5/5 [==============================] - 0s 4ms/step - loss: 3.7502e-04\n",
            "Epoch 61/200\n",
            "5/5 [==============================] - 0s 3ms/step - loss: 3.6393e-04\n",
            "Epoch 62/200\n",
            "5/5 [==============================] - 0s 5ms/step - loss: 3.5248e-04\n",
            "Epoch 63/200\n",
            "5/5 [==============================] - 0s 3ms/step - loss: 3.4137e-04\n",
            "Epoch 64/200\n",
            "5/5 [==============================] - 0s 4ms/step - loss: 3.3087e-04\n",
            "Epoch 65/200\n",
            "5/5 [==============================] - 0s 4ms/step - loss: 3.1990e-04\n",
            "Epoch 66/200\n",
            "5/5 [==============================] - 0s 3ms/step - loss: 3.0903e-04\n",
            "Epoch 67/200\n",
            "5/5 [==============================] - 0s 3ms/step - loss: 2.9964e-04\n",
            "Epoch 68/200\n",
            "5/5 [==============================] - 0s 4ms/step - loss: 2.8969e-04\n",
            "Epoch 69/200\n",
            "5/5 [==============================] - 0s 3ms/step - loss: 2.8034e-04\n",
            "Epoch 70/200\n",
            "5/5 [==============================] - 0s 4ms/step - loss: 2.7157e-04\n",
            "Epoch 71/200\n",
            "5/5 [==============================] - 0s 3ms/step - loss: 2.6304e-04\n",
            "Epoch 72/200\n",
            "5/5 [==============================] - 0s 5ms/step - loss: 2.5568e-04\n",
            "Epoch 73/200\n",
            "5/5 [==============================] - 0s 4ms/step - loss: 2.4810e-04\n",
            "Epoch 74/200\n",
            "5/5 [==============================] - 0s 4ms/step - loss: 2.4149e-04\n",
            "Epoch 75/200\n",
            "5/5 [==============================] - 0s 4ms/step - loss: 2.3412e-04\n",
            "Epoch 76/200\n",
            "5/5 [==============================] - 0s 4ms/step - loss: 2.2783e-04\n",
            "Epoch 77/200\n",
            "5/5 [==============================] - 0s 3ms/step - loss: 2.2135e-04\n",
            "Epoch 78/200\n",
            "5/5 [==============================] - 0s 4ms/step - loss: 2.1561e-04\n",
            "Epoch 79/200\n",
            "5/5 [==============================] - 0s 4ms/step - loss: 2.0999e-04\n",
            "Epoch 80/200\n",
            "5/5 [==============================] - 0s 4ms/step - loss: 2.0462e-04\n",
            "Epoch 81/200\n",
            "5/5 [==============================] - 0s 4ms/step - loss: 1.9966e-04\n",
            "Epoch 82/200\n",
            "5/5 [==============================] - 0s 4ms/step - loss: 1.9396e-04\n",
            "Epoch 83/200\n",
            "5/5 [==============================] - 0s 3ms/step - loss: 1.8910e-04\n",
            "Epoch 84/200\n",
            "5/5 [==============================] - 0s 4ms/step - loss: 1.8406e-04\n",
            "Epoch 85/200\n",
            "5/5 [==============================] - 0s 3ms/step - loss: 1.7945e-04\n",
            "Epoch 86/200\n",
            "5/5 [==============================] - 0s 4ms/step - loss: 1.7473e-04\n",
            "Epoch 87/200\n",
            "5/5 [==============================] - 0s 4ms/step - loss: 1.7057e-04\n",
            "Epoch 88/200\n",
            "5/5 [==============================] - 0s 3ms/step - loss: 1.6573e-04\n",
            "Epoch 89/200\n",
            "5/5 [==============================] - 0s 4ms/step - loss: 1.6146e-04\n",
            "Epoch 90/200\n",
            "5/5 [==============================] - 0s 4ms/step - loss: 1.5677e-04\n",
            "Epoch 91/200\n",
            "5/5 [==============================] - 0s 4ms/step - loss: 1.5295e-04\n",
            "Epoch 92/200\n",
            "5/5 [==============================] - 0s 3ms/step - loss: 1.4906e-04\n",
            "Epoch 93/200\n",
            "5/5 [==============================] - 0s 4ms/step - loss: 1.4540e-04\n",
            "Epoch 94/200\n",
            "5/5 [==============================] - 0s 6ms/step - loss: 1.4169e-04\n",
            "Epoch 95/200\n",
            "5/5 [==============================] - 0s 3ms/step - loss: 1.3823e-04\n",
            "Epoch 96/200\n",
            "5/5 [==============================] - 0s 4ms/step - loss: 1.3489e-04\n",
            "Epoch 97/200\n",
            "5/5 [==============================] - 0s 4ms/step - loss: 1.3190e-04\n",
            "Epoch 98/200\n",
            "5/5 [==============================] - 0s 4ms/step - loss: 1.2870e-04\n",
            "Epoch 99/200\n",
            "5/5 [==============================] - 0s 4ms/step - loss: 1.2581e-04\n",
            "Epoch 100/200\n",
            "5/5 [==============================] - 0s 4ms/step - loss: 1.2313e-04\n",
            "Epoch 101/200\n",
            "5/5 [==============================] - 0s 4ms/step - loss: 1.2025e-04\n",
            "Epoch 102/200\n",
            "5/5 [==============================] - 0s 6ms/step - loss: 1.1758e-04\n",
            "Epoch 103/200\n",
            "5/5 [==============================] - 0s 4ms/step - loss: 1.1507e-04\n",
            "Epoch 104/200\n",
            "5/5 [==============================] - 0s 3ms/step - loss: 1.1262e-04\n",
            "Epoch 105/200\n",
            "5/5 [==============================] - 0s 4ms/step - loss: 1.1028e-04\n",
            "Epoch 106/200\n",
            "5/5 [==============================] - 0s 4ms/step - loss: 1.0808e-04\n",
            "Epoch 107/200\n",
            "5/5 [==============================] - 0s 4ms/step - loss: 1.0588e-04\n",
            "Epoch 108/200\n",
            "5/5 [==============================] - 0s 4ms/step - loss: 1.0365e-04\n",
            "Epoch 109/200\n",
            "5/5 [==============================] - 0s 4ms/step - loss: 1.0150e-04\n",
            "Epoch 110/200\n",
            "5/5 [==============================] - 0s 4ms/step - loss: 9.9711e-05\n",
            "Epoch 111/200\n",
            "5/5 [==============================] - 0s 4ms/step - loss: 9.7673e-05\n",
            "Epoch 112/200\n",
            "5/5 [==============================] - 0s 4ms/step - loss: 9.5743e-05\n",
            "Epoch 113/200\n",
            "5/5 [==============================] - 0s 6ms/step - loss: 9.4021e-05\n",
            "Epoch 114/200\n",
            "5/5 [==============================] - 0s 3ms/step - loss: 9.2173e-05\n",
            "Epoch 115/200\n",
            "5/5 [==============================] - 0s 4ms/step - loss: 9.0514e-05\n",
            "Epoch 116/200\n",
            "5/5 [==============================] - 0s 4ms/step - loss: 8.8840e-05\n",
            "Epoch 117/200\n",
            "5/5 [==============================] - 0s 4ms/step - loss: 8.7166e-05\n",
            "Epoch 118/200\n",
            "5/5 [==============================] - 0s 4ms/step - loss: 8.5602e-05\n",
            "Epoch 119/200\n",
            "5/5 [==============================] - 0s 4ms/step - loss: 8.4094e-05\n",
            "Epoch 120/200\n",
            "5/5 [==============================] - 0s 4ms/step - loss: 8.2685e-05\n",
            "Epoch 121/200\n",
            "5/5 [==============================] - 0s 5ms/step - loss: 8.1121e-05\n",
            "Epoch 122/200\n",
            "5/5 [==============================] - 0s 4ms/step - loss: 7.9713e-05\n",
            "Epoch 123/200\n",
            "5/5 [==============================] - 0s 3ms/step - loss: 7.8301e-05\n",
            "Epoch 124/200\n",
            "5/5 [==============================] - 0s 4ms/step - loss: 7.7001e-05\n",
            "Epoch 125/200\n",
            "5/5 [==============================] - 0s 4ms/step - loss: 7.5751e-05\n",
            "Epoch 126/200\n",
            "5/5 [==============================] - 0s 4ms/step - loss: 7.4443e-05\n",
            "Epoch 127/200\n",
            "5/5 [==============================] - 0s 4ms/step - loss: 7.3157e-05\n",
            "Epoch 128/200\n",
            "5/5 [==============================] - 0s 4ms/step - loss: 7.1762e-05\n",
            "Epoch 129/200\n",
            "5/5 [==============================] - 0s 4ms/step - loss: 7.0380e-05\n",
            "Epoch 130/200\n",
            "5/5 [==============================] - 0s 4ms/step - loss: 6.8943e-05\n",
            "Epoch 131/200\n",
            "5/5 [==============================] - 0s 4ms/step - loss: 6.7876e-05\n",
            "Epoch 132/200\n",
            "5/5 [==============================] - 0s 4ms/step - loss: 6.6376e-05\n",
            "Epoch 133/200\n",
            "5/5 [==============================] - 0s 4ms/step - loss: 6.5129e-05\n",
            "Epoch 134/200\n",
            "5/5 [==============================] - 0s 4ms/step - loss: 6.4005e-05\n",
            "Epoch 135/200\n",
            "5/5 [==============================] - 0s 4ms/step - loss: 6.2798e-05\n",
            "Epoch 136/200\n",
            "5/5 [==============================] - 0s 4ms/step - loss: 6.1730e-05\n",
            "Epoch 137/200\n",
            "5/5 [==============================] - 0s 4ms/step - loss: 6.0684e-05\n",
            "Epoch 138/200\n",
            "5/5 [==============================] - 0s 4ms/step - loss: 5.9549e-05\n",
            "Epoch 139/200\n",
            "5/5 [==============================] - 0s 4ms/step - loss: 5.8615e-05\n",
            "Epoch 140/200\n",
            "5/5 [==============================] - 0s 5ms/step - loss: 5.7639e-05\n",
            "Epoch 141/200\n",
            "5/5 [==============================] - 0s 3ms/step - loss: 5.6635e-05\n",
            "Epoch 142/200\n",
            "5/5 [==============================] - 0s 4ms/step - loss: 5.5640e-05\n",
            "Epoch 143/200\n",
            "5/5 [==============================] - 0s 5ms/step - loss: 5.4788e-05\n",
            "Epoch 144/200\n",
            "5/5 [==============================] - 0s 4ms/step - loss: 5.3978e-05\n",
            "Epoch 145/200\n",
            "5/5 [==============================] - 0s 4ms/step - loss: 5.3101e-05\n",
            "Epoch 146/200\n",
            "5/5 [==============================] - 0s 3ms/step - loss: 5.2246e-05\n",
            "Epoch 147/200\n",
            "5/5 [==============================] - 0s 4ms/step - loss: 5.1492e-05\n",
            "Epoch 148/200\n",
            "5/5 [==============================] - 0s 4ms/step - loss: 5.0688e-05\n",
            "Epoch 149/200\n",
            "5/5 [==============================] - 0s 4ms/step - loss: 4.9997e-05\n",
            "Epoch 150/200\n",
            "5/5 [==============================] - 0s 4ms/step - loss: 4.9216e-05\n",
            "Epoch 151/200\n",
            "5/5 [==============================] - 0s 4ms/step - loss: 4.8480e-05\n",
            "Epoch 152/200\n",
            "5/5 [==============================] - 0s 4ms/step - loss: 4.7768e-05\n",
            "Epoch 153/200\n",
            "5/5 [==============================] - 0s 4ms/step - loss: 4.7087e-05\n",
            "Epoch 154/200\n",
            "5/5 [==============================] - 0s 4ms/step - loss: 4.6416e-05\n",
            "Epoch 155/200\n",
            "5/5 [==============================] - 0s 5ms/step - loss: 4.5765e-05\n",
            "Epoch 156/200\n",
            "5/5 [==============================] - 0s 4ms/step - loss: 4.5076e-05\n",
            "Epoch 157/200\n",
            "5/5 [==============================] - 0s 4ms/step - loss: 4.4439e-05\n",
            "Epoch 158/200\n",
            "5/5 [==============================] - 0s 4ms/step - loss: 4.3862e-05\n",
            "Epoch 159/200\n",
            "5/5 [==============================] - 0s 4ms/step - loss: 4.3232e-05\n",
            "Epoch 160/200\n",
            "5/5 [==============================] - 0s 4ms/step - loss: 4.2616e-05\n",
            "Epoch 161/200\n",
            "5/5 [==============================] - 0s 4ms/step - loss: 4.1967e-05\n",
            "Epoch 162/200\n",
            "5/5 [==============================] - 0s 5ms/step - loss: 4.1432e-05\n",
            "Epoch 163/200\n",
            "5/5 [==============================] - 0s 3ms/step - loss: 4.0768e-05\n",
            "Epoch 164/200\n",
            "5/5 [==============================] - 0s 5ms/step - loss: 4.0055e-05\n",
            "Epoch 165/200\n",
            "5/5 [==============================] - 0s 4ms/step - loss: 3.9388e-05\n",
            "Epoch 166/200\n",
            "5/5 [==============================] - 0s 4ms/step - loss: 3.8711e-05\n",
            "Epoch 167/200\n",
            "5/5 [==============================] - 0s 4ms/step - loss: 3.8132e-05\n",
            "Epoch 168/200\n",
            "5/5 [==============================] - 0s 4ms/step - loss: 3.7540e-05\n",
            "Epoch 169/200\n",
            "5/5 [==============================] - 0s 4ms/step - loss: 3.6896e-05\n",
            "Epoch 170/200\n",
            "5/5 [==============================] - 0s 4ms/step - loss: 3.6324e-05\n",
            "Epoch 171/200\n",
            "5/5 [==============================] - 0s 4ms/step - loss: 3.5759e-05\n",
            "Epoch 172/200\n",
            "5/5 [==============================] - 0s 4ms/step - loss: 3.5184e-05\n",
            "Epoch 173/200\n",
            "5/5 [==============================] - 0s 4ms/step - loss: 3.4696e-05\n",
            "Epoch 174/200\n",
            "5/5 [==============================] - 0s 4ms/step - loss: 3.4135e-05\n",
            "Epoch 175/200\n",
            "5/5 [==============================] - 0s 4ms/step - loss: 3.3667e-05\n",
            "Epoch 176/200\n",
            "5/5 [==============================] - 0s 3ms/step - loss: 3.3176e-05\n",
            "Epoch 177/200\n",
            "5/5 [==============================] - 0s 4ms/step - loss: 3.2707e-05\n",
            "Epoch 178/200\n",
            "5/5 [==============================] - 0s 4ms/step - loss: 3.2263e-05\n",
            "Epoch 179/200\n",
            "5/5 [==============================] - 0s 4ms/step - loss: 3.1790e-05\n",
            "Epoch 180/200\n",
            "5/5 [==============================] - 0s 4ms/step - loss: 3.1409e-05\n",
            "Epoch 181/200\n",
            "5/5 [==============================] - 0s 4ms/step - loss: 3.0941e-05\n",
            "Epoch 182/200\n",
            "5/5 [==============================] - 0s 4ms/step - loss: 3.0542e-05\n",
            "Epoch 183/200\n",
            "5/5 [==============================] - 0s 4ms/step - loss: 3.0122e-05\n",
            "Epoch 184/200\n",
            "5/5 [==============================] - 0s 4ms/step - loss: 2.9701e-05\n",
            "Epoch 185/200\n",
            "5/5 [==============================] - 0s 5ms/step - loss: 2.9328e-05\n",
            "Epoch 186/200\n",
            "5/5 [==============================] - 0s 4ms/step - loss: 2.8937e-05\n",
            "Epoch 187/200\n",
            "5/5 [==============================] - 0s 4ms/step - loss: 2.8554e-05\n",
            "Epoch 188/200\n",
            "5/5 [==============================] - 0s 4ms/step - loss: 2.8178e-05\n",
            "Epoch 189/200\n",
            "5/5 [==============================] - 0s 5ms/step - loss: 2.7824e-05\n",
            "Epoch 190/200\n",
            "5/5 [==============================] - 0s 4ms/step - loss: 2.7467e-05\n",
            "Epoch 191/200\n",
            "5/5 [==============================] - 0s 3ms/step - loss: 2.7138e-05\n",
            "Epoch 192/200\n",
            "5/5 [==============================] - 0s 4ms/step - loss: 2.6792e-05\n",
            "Epoch 193/200\n",
            "5/5 [==============================] - 0s 4ms/step - loss: 2.6478e-05\n",
            "Epoch 194/200\n",
            "5/5 [==============================] - 0s 4ms/step - loss: 2.6136e-05\n",
            "Epoch 195/200\n",
            "5/5 [==============================] - 0s 4ms/step - loss: 2.5813e-05\n",
            "Epoch 196/200\n",
            "5/5 [==============================] - 0s 4ms/step - loss: 2.5498e-05\n",
            "Epoch 197/200\n",
            "5/5 [==============================] - 0s 4ms/step - loss: 2.5191e-05\n",
            "Epoch 198/200\n",
            "5/5 [==============================] - 0s 3ms/step - loss: 2.4896e-05\n",
            "Epoch 199/200\n",
            "5/5 [==============================] - 0s 5ms/step - loss: 2.4586e-05\n",
            "Epoch 200/200\n",
            "5/5 [==============================] - 0s 4ms/step - loss: 2.4312e-05\n"
          ]
        }
      ],
      "source": [
        "history = model.fit(X_train, y_train, epochs=200)"
      ]
    },
    {
      "cell_type": "code",
      "execution_count": 58,
      "metadata": {
        "colab": {
          "base_uri": "https://localhost:8080/"
        },
        "id": "9EXENhBuamNM",
        "outputId": "dd0dbfbb-8e79-4184-fd9c-6d4da2ac3c27"
      },
      "outputs": [
        {
          "output_type": "stream",
          "name": "stdout",
          "text": [
            "2/2 [==============================] - 0s 5ms/step\n"
          ]
        },
        {
          "output_type": "execute_result",
          "data": {
            "text/plain": [
              "0.44"
            ]
          },
          "metadata": {},
          "execution_count": 58
        }
      ],
      "source": [
        "y_predict = np.argmax(model.predict(X_test), axis=1)\n",
        "sklearn.metrics.accuracy_score(y_test, y_predict)"
      ]
    },
    {
      "cell_type": "markdown",
      "metadata": {
        "id": "TzqUaqB3h-JA"
      },
      "source": [
        "So our deep(er) Keras model does better than the single layer Keras, and matches the PyTorch deep net."
      ]
    },
    {
      "cell_type": "markdown",
      "metadata": {
        "id": "U7USLd3V843d"
      },
      "source": [
        "### PyTorch deep net\n",
        "\n",
        "Very similar to our first example, except we add an extra hidden unit layer for the tensors to go through."
      ]
    },
    {
      "cell_type": "code",
      "execution_count": 59,
      "metadata": {
        "id": "gHYXi4Ux843d"
      },
      "outputs": [],
      "source": [
        "class DeepNetwork(nn.Module):\n",
        "    def __init__(self):\n",
        "        super().__init__()\n",
        "        # Inputs to hidden layer linear transformation\n",
        "        self.hidden = nn.Linear(200, 200)\n",
        "        # Output layer\n",
        "        self.output = nn.Linear(200, 1)\n",
        "        # Define sigmoid activation and softmax output\n",
        "        self.relu = nn.ReLU()\n",
        "        self.sigmoid = nn.Sigmoid()\n",
        "\n",
        "    def forward(self, x):\n",
        "        # Pass the input tensor through each of our operations\n",
        "        x = self.hidden(x)\n",
        "        x = self.relu(x)\n",
        "        # notice how we just add another hidden unit layer\n",
        "        x = self.hidden(x)\n",
        "        x = self.relu(x)\n",
        "        x = self.output(x)\n",
        "        x = self.sigmoid(x)\n",
        "        return x"
      ]
    },
    {
      "cell_type": "code",
      "execution_count": 60,
      "metadata": {
        "id": "1q3KPeQM843e"
      },
      "outputs": [],
      "source": [
        "net = DeepNetwork()\n",
        "opt = optim.Adam(net.parameters(), lr=0.001, betas=(0.9, 0.999))\n",
        "criterion = nn.BCELoss()"
      ]
    },
    {
      "cell_type": "code",
      "execution_count": 61,
      "metadata": {
        "id": "kaYXB993Z8Vg"
      },
      "outputs": [],
      "source": [
        "X_train_tensor = torch.tensor(X_train)\n",
        "y_train_tensor = torch.tensor(y_train).type(torch.LongTensor).unsqueeze(1)"
      ]
    },
    {
      "cell_type": "code",
      "execution_count": 62,
      "metadata": {
        "id": "GoiHhML9843e"
      },
      "outputs": [],
      "source": [
        "e_losses = []\n",
        "num_epochs = 200\n",
        "for e in range(num_epochs):\n",
        "    e_losses += train_epoch(net, opt, criterion, X_train_tensor.float(), y_train_tensor.float())"
      ]
    },
    {
      "cell_type": "code",
      "execution_count": 63,
      "metadata": {
        "colab": {
          "base_uri": "https://localhost:8080/",
          "height": 472
        },
        "id": "cAXJe8rUiuXH",
        "outputId": "b6a39897-b46d-4a2c-e43c-2b96dce0193b"
      },
      "outputs": [
        {
          "output_type": "display_data",
          "data": {
            "text/plain": [
              "<Figure size 640x480 with 1 Axes>"
            ],
            "image/png": "[encoded data removed]"
          },
          "metadata": {}
        }
      ],
      "source": [
        "plt.title(\"Loss for Neural Net Training\")\n",
        "plt.xlabel(\"Number of epochs\")\n",
        "plt.ylabel(\"Loss\")\n",
        "plt.plot(e_losses)\n",
        "plt.show()"
      ]
    },
    {
      "cell_type": "code",
      "execution_count": 64,
      "metadata": {
        "id": "9w4AzfR8843e"
      },
      "outputs": [],
      "source": [
        "output = net(torch.tensor(X_test).float())"
      ]
    },
    {
      "cell_type": "code",
      "execution_count": 65,
      "metadata": {
        "id": "nxdnR-MCcr0B"
      },
      "outputs": [],
      "source": [
        "y_pred = (output.detach().numpy() > 0.5).astype(\"int32\")"
      ]
    },
    {
      "cell_type": "code",
      "execution_count": 66,
      "metadata": {
        "colab": {
          "base_uri": "https://localhost:8080/"
        },
        "id": "O_zKo9pc843f",
        "outputId": "829ba9bd-e69c-4e26-cc87-f74be0102922"
      },
      "outputs": [
        {
          "output_type": "execute_result",
          "data": {
            "text/plain": [
              "0.72"
            ]
          },
          "metadata": {},
          "execution_count": 66
        }
      ],
      "source": [
        "sklearn.metrics.accuracy_score(y_test, y_pred)"
      ]
    },
    {
      "cell_type": "markdown",
      "metadata": {
        "id": "NW27TEcp843f"
      },
      "source": [
        "Adding just one layer improved model accuracies for both our Keras and PyTorch implementations!\n",
        "Adding depth adds non-linearity and is able to capture more complex relations. Keras and PyTorch have different set ups and formats, and you would want to switch things around as you see fit.\n",
        "\n",
        "Let's try and add one more layer, and try out different optimisers and loss functions to see what happens.\n",
        "\n"
      ]
    },
    {
      "cell_type": "code",
      "execution_count": 67,
      "metadata": {
        "id": "prpAwmf3igPf"
      },
      "outputs": [],
      "source": [
        "class DeeperNetwork(nn.Module):\n",
        "    def __init__(self):\n",
        "        super().__init__()\n",
        "        # Inputs to hidden layer linear transformation\n",
        "        self.hidden = nn.Linear(200, 200)\n",
        "        # Output layer\n",
        "        self.output = nn.Linear(200, 1)\n",
        "        # Define sigmoid activation and softmax output\n",
        "        self.relu = nn.ReLU()\n",
        "        self.sigmoid = nn.Sigmoid()\n",
        "\n",
        "\n",
        "    def forward(self, x):\n",
        "        # Pass the input tensor through each of our operations\n",
        "        x = self.hidden(x)\n",
        "        x = self.relu(x)\n",
        "        # notice how we just add another hidden unit layer\n",
        "        x = self.hidden(x)\n",
        "        x = self.relu(x)\n",
        "        # adding another layer\n",
        "        x = self.hidden(x)\n",
        "        x = self.relu(x)\n",
        "\n",
        "        x = self.output(x)\n",
        "        x = self.sigmoid(x)\n",
        "        return x"
      ]
    },
    {
      "cell_type": "code",
      "execution_count": 68,
      "metadata": {
        "id": "Q4d7HJQwkutV"
      },
      "outputs": [],
      "source": [
        "net = DeeperNetwork()\n",
        "opt = optim.Adagrad(net.parameters(), lr=0.01, lr_decay=0, weight_decay=0, initial_accumulator_value=0, eps=1e-10)\n",
        "criterion = nn.PoissonNLLLoss()"
      ]
    },
    {
      "cell_type": "code",
      "execution_count": 69,
      "metadata": {
        "id": "qIoy_19ald5c"
      },
      "outputs": [],
      "source": [
        "e_losses = []\n",
        "num_epochs = 200\n",
        "for e in range(num_epochs):\n",
        "    e_losses += train_epoch(net, opt, criterion, X_train_tensor.float(), y_train_tensor.float())"
      ]
    },
    {
      "cell_type": "code",
      "execution_count": 70,
      "metadata": {
        "colab": {
          "base_uri": "https://localhost:8080/",
          "height": 472
        },
        "id": "nMB1Editlv-H",
        "outputId": "8ce0a8bd-8a73-420e-93ae-de960e0c96cf"
      },
      "outputs": [
        {
          "output_type": "display_data",
          "data": {
            "text/plain": [
              "<Figure size 640x480 with 1 Axes>"
            ],
            "image/png": "[encoded data removed]"
          },
          "metadata": {}
        }
      ],
      "source": [
        "plt.title(\"Loss for Neural Net Training\")\n",
        "plt.xlabel(\"Number of epochs\")\n",
        "plt.ylabel(\"Loss\")\n",
        "plt.plot(e_losses)\n",
        "plt.show()"
      ]
    },
    {
      "cell_type": "code",
      "execution_count": 71,
      "metadata": {
        "id": "txKf4ezml1Ej"
      },
      "outputs": [],
      "source": [
        "output = net(torch.tensor(X_test).float())"
      ]
    },
    {
      "cell_type": "code",
      "execution_count": 72,
      "metadata": {
        "id": "2AxY7ZMZl4Az"
      },
      "outputs": [],
      "source": [
        "y_pred = (output.detach().numpy() > 0.5).astype(\"int32\")"
      ]
    },
    {
      "cell_type": "code",
      "execution_count": 73,
      "metadata": {
        "colab": {
          "base_uri": "https://localhost:8080/"
        },
        "id": "rFUC99W4l6-C",
        "outputId": "f5c6330c-e913-4793-ccd7-06cd9a638ef4"
      },
      "outputs": [
        {
          "output_type": "execute_result",
          "data": {
            "text/plain": [
              "0.44"
            ]
          },
          "metadata": {},
          "execution_count": 73
        }
      ],
      "source": [
        "sklearn.metrics.accuracy_score(y_test, y_pred)"
      ]
    },
    {
      "cell_type": "markdown",
      "metadata": {
        "id": "OGjlRcr8n80l"
      },
      "source": [
        "Uh oh - the loss function is dramatically failing, and our Poisson experiment did not end well. Which makes absolute sense, it isn't one suited for our task at hand. Let's change our loss and see if we fare better."
      ]
    },
    {
      "cell_type": "code",
      "execution_count": 74,
      "metadata": {
        "id": "140Wp3ieoPM1"
      },
      "outputs": [],
      "source": [
        "net = DeeperNetwork()\n",
        "opt = optim.Adagrad(net.parameters(), lr=0.01, lr_decay=0, weight_decay=0, initial_accumulator_value=0, eps=1e-10)\n",
        "criterion = nn.BCELoss()"
      ]
    },
    {
      "cell_type": "code",
      "execution_count": 75,
      "metadata": {
        "id": "YEuhD3_Mohhu"
      },
      "outputs": [],
      "source": [
        "e_losses = []\n",
        "num_epochs = 200\n",
        "for e in range(num_epochs):\n",
        "    e_losses += train_epoch(net, opt, criterion, X_train_tensor.float(), y_train_tensor.float())"
      ]
    },
    {
      "cell_type": "code",
      "execution_count": 76,
      "metadata": {
        "colab": {
          "base_uri": "https://localhost:8080/",
          "height": 472
        },
        "id": "xy0jf25QouKf",
        "outputId": "05669e0e-c419-4186-f61c-612195670904"
      },
      "outputs": [
        {
          "output_type": "display_data",
          "data": {
            "text/plain": [
              "<Figure size 640x480 with 1 Axes>"
            ],
            "image/png": "[encoded data removed]"
          },
          "metadata": {}
        }
      ],
      "source": [
        "plt.title(\"Loss for Neural Net Training\")\n",
        "plt.xlabel(\"Number of epochs\")\n",
        "plt.ylabel(\"Loss\")\n",
        "plt.plot(e_losses)\n",
        "plt.show()"
      ]
    },
    {
      "cell_type": "code",
      "execution_count": 77,
      "metadata": {
        "id": "20ay6Wlbov02"
      },
      "outputs": [],
      "source": [
        "output = net(torch.tensor(X_test).float())"
      ]
    },
    {
      "cell_type": "code",
      "execution_count": 78,
      "metadata": {
        "id": "uU296-VmoyH-"
      },
      "outputs": [],
      "source": [
        "y_pred = (output.detach().numpy() > 0.5).astype(\"int32\")"
      ]
    },
    {
      "cell_type": "code",
      "execution_count": 79,
      "metadata": {
        "colab": {
          "base_uri": "https://localhost:8080/"
        },
        "id": "qST5b9TWox7h",
        "outputId": "17381aa4-06be-4fbb-e16b-8479939eb8ce"
      },
      "outputs": [
        {
          "output_type": "execute_result",
          "data": {
            "text/plain": [
              "0.7"
            ]
          },
          "metadata": {},
          "execution_count": 79
        }
      ],
      "source": [
        "sklearn.metrics.accuracy_score(y_test, y_pred)"
      ]
    },
    {
      "cell_type": "markdown",
      "metadata": {
        "id": "onHrGWd6o6Ij"
      },
      "source": [
        "So the loss is suited for the task, but it seems like the extra layer and Adargrad didn't necessarily do the trick. In your homework, you will experiment similarly with archistecture design and state your results, analysis, and explanations."
      ]
    },
    {
      "cell_type": "markdown",
      "metadata": {
        "id": "ULW3oWMNeDTS"
      },
      "source": [
        "###  Interpretability in Neural Networks\n",
        "Traditionally, neural networks have been taken as \"black boxes\" good at prediction but not accessible for interpretation. However, in recent years, with the development of AI, people have begun to think about the possibility of interpreting neural networks outcomes for theoretical insight. In this section, we introduce a library--Captum, which aims to interpret the outcomes of feedforward neural networks in terms of input feature importances, layers and neurons that contribute most to the ultimate prediction."
      ]
    },
    {
      "cell_type": "markdown",
      "metadata": {
        "id": "5B7gVtUPeDXX"
      },
      "source": [
        "We first install the packages. In this section, we demonstrate two examples. In the first, a deep neural network is trained on data with PyTorch, and Captum is used to understand which of the features were most important and how the network reached its prediction. In the second example, a simple DNN model trained on a sub-sample of a well-known Boston house prices dataset. Captum is used to understand important features, layers / neurons that contribute to the prediction. More details can be found in the official documentations of Captum.\n",
        "\n",
        "https://captum.ai/tutorials/\n",
        "\n",
        "Let's begin!"
      ]
    },
    {
      "cell_type": "markdown",
      "metadata": {
        "id": "L6oEWVJrnjDO"
      },
      "source": [
        "**Example 1: Titanic survival Classification**"
      ]
    },
    {
      "cell_type": "code",
      "execution_count": 80,
      "metadata": {
        "colab": {
          "base_uri": "https://localhost:8080/"
        },
        "id": "RxR9qNjriyXv",
        "outputId": "fdcc8e63-17c1-43b0-acea-42939d695c89"
      },
      "outputs": [
        {
          "output_type": "stream",
          "name": "stdout",
          "text": [
            "Collecting captum\n",
            "  Downloading captum-0.7.0-py3-none-any.whl (1.3 MB)\n",
            "\u001b[2K     \u001b[90m━━━━━━━━━━━━━━━━━━━━━━━━━━━━━━━━━━━━━━━━\u001b[0m \u001b[32m1.3/1.3 MB\u001b[0m \u001b[31m6.4 MB/s\u001b[0m eta \u001b[36m0:00:00\u001b[0m\n",
            "\u001b[?25hRequirement already satisfied: matplotlib in /usr/local/lib/python3.10/dist-packages (from captum) (3.7.1)\n",
            "Requirement already satisfied: numpy in /usr/local/lib/python3.10/dist-packages (from captum) (1.25.2)\n",
            "Requirement already satisfied: torch>=1.6 in /usr/local/lib/python3.10/dist-packages (from captum) (2.2.1+cu121)\n",
            "Requirement already satisfied: tqdm in /usr/local/lib/python3.10/dist-packages (from captum) (4.66.2)\n",
            "Requirement already satisfied: filelock in /usr/local/lib/python3.10/dist-packages (from torch>=1.6->captum) (3.13.1)\n",
            "Requirement already satisfied: typing-extensions>=4.8.0 in /usr/local/lib/python3.10/dist-packages (from torch>=1.6->captum) (4.10.0)\n",
            "Requirement already satisfied: sympy in /usr/local/lib/python3.10/dist-packages (from torch>=1.6->captum) (1.12)\n",
            "Requirement already satisfied: networkx in /usr/local/lib/python3.10/dist-packages (from torch>=1.6->captum) (3.2.1)\n",
            "Requirement already satisfied: jinja2 in /usr/local/lib/python3.10/dist-packages (from torch>=1.6->captum) (3.1.3)\n",
            "Requirement already satisfied: fsspec in /usr/local/lib/python3.10/dist-packages (from torch>=1.6->captum) (2023.6.0)\n",
            "Collecting nvidia-cuda-nvrtc-cu12==12.1.105 (from torch>=1.6->captum)\n",
            "  Downloading nvidia_cuda_nvrtc_cu12-12.1.105-py3-none-manylinux1_x86_64.whl (23.7 MB)\n",
            "\u001b[2K     \u001b[90m━━━━━━━━━━━━━━━━━━━━━━━━━━━━━━━━━━━━━━━━\u001b[0m \u001b[32m23.7/23.7 MB\u001b[0m \u001b[31m57.1 MB/s\u001b[0m eta \u001b[36m0:00:00\u001b[0m\n",
            "\u001b[?25hCollecting nvidia-cuda-runtime-cu12==12.1.105 (from torch>=1.6->captum)\n",
            "  Downloading nvidia_cuda_runtime_cu12-12.1.105-py3-none-manylinux1_x86_64.whl (823 kB)\n",
            "\u001b[2K     \u001b[90m━━━━━━━━━━━━━━━━━━━━━━━━━━━━━━━━━━━━━━━━\u001b[0m \u001b[32m823.6/823.6 kB\u001b[0m \u001b[31m46.2 MB/s\u001b[0m eta \u001b[36m0:00:00\u001b[0m\n",
            "\u001b[?25hCollecting nvidia-cuda-cupti-cu12==12.1.105 (from torch>=1.6->captum)\n",
            "  Downloading nvidia_cuda_cupti_cu12-12.1.105-py3-none-manylinux1_x86_64.whl (14.1 MB)\n",
            "\u001b[2K     \u001b[90m━━━━━━━━━━━━━━━━━━━━━━━━━━━━━━━━━━━━━━━━\u001b[0m \u001b[32m14.1/14.1 MB\u001b[0m \u001b[31m90.7 MB/s\u001b[0m eta \u001b[36m0:00:00\u001b[0m\n",
            "\u001b[?25hCollecting nvidia-cudnn-cu12==8.9.2.26 (from torch>=1.6->captum)\n",
            "  Downloading nvidia_cudnn_cu12-8.9.2.26-py3-none-manylinux1_x86_64.whl (731.7 MB)\n",
            "\u001b[2K     \u001b[90m━━━━━━━━━━━━━━━━━━━━━━━━━━━━━━━━━━━━━━━━\u001b[0m \u001b[32m731.7/731.7 MB\u001b[0m \u001b[31m2.3 MB/s\u001b[0m eta \u001b[36m0:00:00\u001b[0m\n",
            "\u001b[?25hCollecting nvidia-cublas-cu12==12.1.3.1 (from torch>=1.6->captum)\n",
            "  Downloading nvidia_cublas_cu12-12.1.3.1-py3-none-manylinux1_x86_64.whl (410.6 MB)\n",
            "\u001b[2K     \u001b[90m━━━━━━━━━━━━━━━━━━━━━━━━━━━━━━━━━━━━━━━━\u001b[0m \u001b[32m410.6/410.6 MB\u001b[0m \u001b[31m2.7 MB/s\u001b[0m eta \u001b[36m0:00:00\u001b[0m\n",
            "\u001b[?25hCollecting nvidia-cufft-cu12==11.0.2.54 (from torch>=1.6->captum)\n",
            "  Downloading nvidia_cufft_cu12-11.0.2.54-py3-none-manylinux1_x86_64.whl (121.6 MB)\n",
            "\u001b[2K     \u001b[90m━━━━━━━━━━━━━━━━━━━━━━━━━━━━━━━━━━━━━━━━\u001b[0m \u001b[32m121.6/121.6 MB\u001b[0m \u001b[31m8.4 MB/s\u001b[0m eta \u001b[36m0:00:00\u001b[0m\n",
            "\u001b[?25hCollecting nvidia-curand-cu12==10.3.2.106 (from torch>=1.6->captum)\n",
            "  Downloading nvidia_curand_cu12-10.3.2.106-py3-none-manylinux1_x86_64.whl (56.5 MB)\n",
            "\u001b[2K     \u001b[90m━━━━━━━━━━━━━━━━━━━━━━━━━━━━━━━━━━━━━━━━\u001b[0m \u001b[32m56.5/56.5 MB\u001b[0m \u001b[31m11.5 MB/s\u001b[0m eta \u001b[36m0:00:00\u001b[0m\n",
            "\u001b[?25hCollecting nvidia-cusolver-cu12==11.4.5.107 (from torch>=1.6->captum)\n",
            "  Downloading nvidia_cusolver_cu12-11.4.5.107-py3-none-manylinux1_x86_64.whl (124.2 MB)\n",
            "\u001b[2K     \u001b[90m━━━━━━━━━━━━━━━━━━━━━━━━━━━━━━━━━━━━━━━━\u001b[0m \u001b[32m124.2/124.2 MB\u001b[0m \u001b[31m8.7 MB/s\u001b[0m eta \u001b[36m0:00:00\u001b[0m\n",
            "\u001b[?25hCollecting nvidia-cusparse-cu12==12.1.0.106 (from torch>=1.6->captum)\n",
            "  Downloading nvidia_cusparse_cu12-12.1.0.106-py3-none-manylinux1_x86_64.whl (196.0 MB)\n",
            "\u001b[2K     \u001b[90m━━━━━━━━━━━━━━━━━━━━━━━━━━━━━━━━━━━━━━━━\u001b[0m \u001b[32m196.0/196.0 MB\u001b[0m \u001b[31m6.7 MB/s\u001b[0m eta \u001b[36m0:00:00\u001b[0m\n",
            "\u001b[?25hCollecting nvidia-nccl-cu12==2.19.3 (from torch>=1.6->captum)\n",
            "  Downloading nvidia_nccl_cu12-2.19.3-py3-none-manylinux1_x86_64.whl (166.0 MB)\n",
            "\u001b[2K     \u001b[90m━━━━━━━━━━━━━━━━━━━━━━━━━━━━━━━━━━━━━━━━\u001b[0m \u001b[32m166.0/166.0 MB\u001b[0m \u001b[31m6.4 MB/s\u001b[0m eta \u001b[36m0:00:00\u001b[0m\n",
            "\u001b[?25hCollecting nvidia-nvtx-cu12==12.1.105 (from torch>=1.6->captum)\n",
            "  Downloading nvidia_nvtx_cu12-12.1.105-py3-none-manylinux1_x86_64.whl (99 kB)\n",
            "\u001b[2K     \u001b[90m━━━━━━━━━━━━━━━━━━━━━━━━━━━━━━━━━━━━━━━━\u001b[0m \u001b[32m99.1/99.1 kB\u001b[0m \u001b[31m14.8 MB/s\u001b[0m eta \u001b[36m0:00:00\u001b[0m\n",
            "\u001b[?25hRequirement already satisfied: triton==2.2.0 in /usr/local/lib/python3.10/dist-packages (from torch>=1.6->captum) (2.2.0)\n",
            "Collecting nvidia-nvjitlink-cu12 (from nvidia-cusolver-cu12==11.4.5.107->torch>=1.6->captum)\n",
            "  Downloading nvidia_nvjitlink_cu12-12.4.99-py3-none-manylinux2014_x86_64.whl (21.1 MB)\n",
            "\u001b[2K     \u001b[90m━━━━━━━━━━━━━━━━━━━━━━━━━━━━━━━━━━━━━━━━\u001b[0m \u001b[32m21.1/21.1 MB\u001b[0m \u001b[31m78.8 MB/s\u001b[0m eta \u001b[36m0:00:00\u001b[0m\n",
            "\u001b[?25hRequirement already satisfied: contourpy>=1.0.1 in /usr/local/lib/python3.10/dist-packages (from matplotlib->captum) (1.2.0)\n",
            "Requirement already satisfied: cycler>=0.10 in /usr/local/lib/python3.10/dist-packages (from matplotlib->captum) (0.12.1)\n",
            "Requirement already satisfied: fonttools>=4.22.0 in /usr/local/lib/python3.10/dist-packages (from matplotlib->captum) (4.50.0)\n",
            "Requirement already satisfied: kiwisolver>=1.0.1 in /usr/local/lib/python3.10/dist-packages (from matplotlib->captum) (1.4.5)\n",
            "Requirement already satisfied: packaging>=20.0 in /usr/local/lib/python3.10/dist-packages (from matplotlib->captum) (24.0)\n",
            "Requirement already satisfied: pillow>=6.2.0 in /usr/local/lib/python3.10/dist-packages (from matplotlib->captum) (9.4.0)\n",
            "Requirement already satisfied: pyparsing>=2.3.1 in /usr/local/lib/python3.10/dist-packages (from matplotlib->captum) (3.1.2)\n",
            "Requirement already satisfied: python-dateutil>=2.7 in /usr/local/lib/python3.10/dist-packages (from matplotlib->captum) (2.8.2)\n",
            "Requirement already satisfied: six>=1.5 in /usr/local/lib/python3.10/dist-packages (from python-dateutil>=2.7->matplotlib->captum) (1.16.0)\n",
            "Requirement already satisfied: MarkupSafe>=2.0 in /usr/local/lib/python3.10/dist-packages (from jinja2->torch>=1.6->captum) (2.1.5)\n",
            "Requirement already satisfied: mpmath>=0.19 in /usr/local/lib/python3.10/dist-packages (from sympy->torch>=1.6->captum) (1.3.0)\n",
            "Installing collected packages: nvidia-nvtx-cu12, nvidia-nvjitlink-cu12, nvidia-nccl-cu12, nvidia-curand-cu12, nvidia-cufft-cu12, nvidia-cuda-runtime-cu12, nvidia-cuda-nvrtc-cu12, nvidia-cuda-cupti-cu12, nvidia-cublas-cu12, nvidia-cusparse-cu12, nvidia-cudnn-cu12, nvidia-cusolver-cu12, captum\n",
            "Successfully installed captum-0.7.0 nvidia-cublas-cu12-12.1.3.1 nvidia-cuda-cupti-cu12-12.1.105 nvidia-cuda-nvrtc-cu12-12.1.105 nvidia-cuda-runtime-cu12-12.1.105 nvidia-cudnn-cu12-8.9.2.26 nvidia-cufft-cu12-11.0.2.54 nvidia-curand-cu12-10.3.2.106 nvidia-cusolver-cu12-11.4.5.107 nvidia-cusparse-cu12-12.1.0.106 nvidia-nccl-cu12-2.19.3 nvidia-nvjitlink-cu12-12.4.99 nvidia-nvtx-cu12-12.1.105\n"
          ]
        }
      ],
      "source": [
        "!pip install captum"
      ]
    },
    {
      "cell_type": "code",
      "execution_count": 81,
      "metadata": {
        "id": "buf_2E-Di9dl"
      },
      "outputs": [],
      "source": [
        "# Initial imports\n",
        "import numpy as np\n",
        "\n",
        "import torch\n",
        "\n",
        "from captum.attr import IntegratedGradients\n",
        "from captum.attr import LayerConductance\n",
        "from captum.attr import NeuronConductance\n",
        "\n",
        "import matplotlib\n",
        "import matplotlib.pyplot as plt\n",
        "%matplotlib inline\n",
        "\n",
        "from scipy import stats\n",
        "import pandas as pd"
      ]
    },
    {
      "cell_type": "markdown",
      "metadata": {
        "id": "MzVDejYAjIFo"
      },
      "source": [
        "Download the dataset from https://biostat.app.vumc.org/wiki/pub/Main/DataSets/titanic3.csv and update the cell below with the path to the dataset csv."
      ]
    },
    {
      "cell_type": "code",
      "source": [
        "from google.colab import drive\n",
        "drive.mount('/content/drive')"
      ],
      "metadata": {
        "id": "i2w_g-Q4qqPd",
        "outputId": "105730b6-fd43-43f1-f870-d4d1eda3773e",
        "colab": {
          "base_uri": "https://localhost:8080/"
        }
      },
      "execution_count": 83,
      "outputs": [
        {
          "output_type": "stream",
          "name": "stdout",
          "text": [
            "Mounted at /content/drive\n"
          ]
        }
      ]
    },
    {
      "cell_type": "code",
      "execution_count": 86,
      "metadata": {
        "id": "v5VYH2UVjAfX"
      },
      "outputs": [],
      "source": [
        "dataset_path = \"/content/drive/MyDrive/MACS 37000/titanic3.csv\"\n",
        "titanic_data = pd.read_csv(dataset_path)\n",
        "titanic_data = pd.concat([titanic_data,\n",
        "                          pd.get_dummies(titanic_data['sex']),\n",
        "                          pd.get_dummies(titanic_data['embarked'],prefix=\"embark\"),\n",
        "                          pd.get_dummies(titanic_data['pclass'],prefix=\"class\")], axis=1)\n",
        "titanic_data[\"age\"] = titanic_data[\"age\"].fillna(titanic_data[\"age\"].mean())\n",
        "titanic_data[\"fare\"] = titanic_data[\"fare\"].fillna(titanic_data[\"fare\"].mean())\n",
        "titanic_data = titanic_data.drop(['name','ticket','cabin','boat','body','home.dest','sex','embarked','pclass'], axis=1)"
      ]
    },
    {
      "cell_type": "markdown",
      "metadata": {
        "id": "gBoBhQY1jXRK"
      },
      "source": [
        "After processing, the features we have are:\n",
        "\n",
        "Age - Passenger Age\n",
        "\n",
        "Sibsp - Number of Siblings / Spouses Aboard\n",
        "\n",
        "Parch - Number of Parents / Children Aboard\n",
        "\n",
        "Fare - Fare Amount Paid in British Pounds\n",
        "\n",
        "Female - Binary variable indicating whether passenger is female\n",
        "\n",
        "Male - Binary variable indicating whether passenger is male\n",
        "\n",
        "EmbarkC - Binary variable indicating whether passenger\n",
        "embarked at Cherbourg\n",
        "\n",
        "EmbarkQ - Binary variable indicating whether passenger embarked at Queenstown\n",
        "\n",
        "EmbarkS - Binary variable indicating whether passenger embarked at Southampton\n",
        "\n",
        "Class1 - Binary variable indicating whether passenger was in first class\n",
        "\n",
        "Class2 - Binary variable indicating whether passenger was in second class\n",
        "\n",
        "Class3 - Binary variable indicating whether passenger was in third class"
      ]
    },
    {
      "cell_type": "code",
      "execution_count": 87,
      "metadata": {
        "id": "3A3s8lYOjSPH"
      },
      "outputs": [],
      "source": [
        "#We now convert the data to numpy arrays and separate the training and test sets.\n",
        "\n",
        "np.random.seed(131254)\n",
        "\n",
        "# Convert features and labels to numpy arrays.\n",
        "labels = titanic_data[\"survived\"].to_numpy()\n",
        "titanic_data = titanic_data.drop(['survived'], axis=1)\n",
        "feature_names = list(titanic_data.columns)\n",
        "data = titanic_data.to_numpy()\n",
        "\n",
        "# Separate training and test sets using\n",
        "train_indices = np.random.choice(len(labels), int(0.7*len(labels)), replace=False)\n",
        "test_indices = list(set(range(len(labels))) - set(train_indices))\n",
        "train_features = data[train_indices]\n",
        "train_labels = labels[train_indices]\n",
        "test_features = data[test_indices]\n",
        "test_labels = labels[test_indices]"
      ]
    },
    {
      "cell_type": "markdown",
      "metadata": {
        "id": "45akWcKrjtmW"
      },
      "source": [
        "Here, the authors of Captum have defined a simple architecture using 2 hidden layers, the first with 12 hidden units and the second with 8 hidden units, each with Sigmoid non-linearity. The final layer performs a softmax operation and has 2 units, corresponding to the outputs of either survived (1) or not survived (0)."
      ]
    },
    {
      "cell_type": "code",
      "execution_count": 88,
      "metadata": {
        "id": "MHLyAq4VjkUS"
      },
      "outputs": [],
      "source": [
        "\n",
        "import torch\n",
        "import torch.nn as nn\n",
        "torch.manual_seed(1)  # Set seed for reproducibility.\n",
        "class TitanicSimpleNNModel(nn.Module):\n",
        "    def __init__(self):\n",
        "        super().__init__()\n",
        "        self.linear1 = nn.Linear(12, 12)\n",
        "        self.sigmoid1 = nn.Sigmoid()\n",
        "        self.linear2 = nn.Linear(12, 8)\n",
        "        self.sigmoid2 = nn.Sigmoid()\n",
        "        self.linear3 = nn.Linear(8, 2)\n",
        "        self.softmax = nn.Softmax(dim=1)\n",
        "\n",
        "    def forward(self, x):\n",
        "        lin1_out = self.linear1(x)\n",
        "        sigmoid_out1 = self.sigmoid1(lin1_out)\n",
        "        sigmoid_out2 = self.sigmoid2(self.linear2(sigmoid_out1))\n",
        "        return self.softmax(self.linear3(sigmoid_out2))"
      ]
    },
    {
      "cell_type": "markdown",
      "metadata": {
        "id": "d2u7ps2Ij3R1"
      },
      "source": [
        "The pretrained model can be downloaded here: https://github.com/pytorch/captum/blob/master/tutorials/models/titanic_model.pt"
      ]
    },
    {
      "cell_type": "code",
      "execution_count": 89,
      "metadata": {
        "colab": {
          "base_uri": "https://localhost:8080/"
        },
        "id": "7Vre5qvGjvXZ",
        "outputId": "39b19054-8eca-45c1-bf1a-c72c1217451a"
      },
      "outputs": [
        {
          "output_type": "stream",
          "name": "stdout",
          "text": [
            "Epoch 1/200 => Loss: 0.70\n",
            "Epoch 21/200 => Loss: 0.55\n",
            "Epoch 41/200 => Loss: 0.50\n",
            "Epoch 61/200 => Loss: 0.49\n",
            "Epoch 81/200 => Loss: 0.49\n",
            "Epoch 101/200 => Loss: 0.48\n",
            "Epoch 121/200 => Loss: 0.48\n",
            "Epoch 141/200 => Loss: 0.48\n",
            "Epoch 161/200 => Loss: 0.47\n",
            "Epoch 181/200 => Loss: 0.47\n"
          ]
        }
      ],
      "source": [
        "net = TitanicSimpleNNModel()\n",
        "USE_PRETRAINED_MODEL = False\n",
        "\n",
        "if USE_PRETRAINED_MODEL:\n",
        "    net.load_state_dict(torch.load('/content/titanic_model.pt'))\n",
        "    print(\"Model Loaded!\")\n",
        "else:\n",
        "    criterion = nn.CrossEntropyLoss()\n",
        "    num_epochs = 200\n",
        "\n",
        "    optimizer = torch.optim.Adam(net.parameters(), lr=0.1)\n",
        "    input_tensor = torch.from_numpy(train_features).type(torch.FloatTensor)\n",
        "    label_tensor = torch.from_numpy(train_labels)\n",
        "    for epoch in range(num_epochs):\n",
        "        output = net(input_tensor)\n",
        "        loss = criterion(output, label_tensor)\n",
        "        optimizer.zero_grad()\n",
        "        loss.backward()\n",
        "        optimizer.step()\n",
        "        if epoch % 20 == 0:\n",
        "            print ('Epoch {}/{} => Loss: {:.2f}'.format(epoch+1, num_epochs, loss.item()))\n",
        "\n",
        "    torch.save(net.state_dict(), '/content/titanic_model_trained.pt')"
      ]
    },
    {
      "cell_type": "code",
      "execution_count": 90,
      "metadata": {
        "colab": {
          "base_uri": "https://localhost:8080/"
        },
        "id": "d6HoGevkj_l4",
        "outputId": "19a30cb3-4b39-4eea-8553-1709a8aa7dc6"
      },
      "outputs": [
        {
          "output_type": "stream",
          "name": "stdout",
          "text": [
            "Train Accuracy: 0.8253275109170306\n"
          ]
        }
      ],
      "source": [
        "# model evaluation\n",
        "out_probs = net(input_tensor).detach().numpy()\n",
        "out_classes = np.argmax(out_probs, axis=1)\n",
        "print(\"Train Accuracy:\", sum(out_classes == train_labels) / len(train_labels))"
      ]
    },
    {
      "cell_type": "code",
      "execution_count": 91,
      "metadata": {
        "colab": {
          "base_uri": "https://localhost:8080/"
        },
        "id": "BpO6JkfLkW57",
        "outputId": "938edd4f-ba29-4e09-973f-54a6c6826cb0"
      },
      "outputs": [
        {
          "output_type": "stream",
          "name": "stdout",
          "text": [
            "Test Accuracy: 0.7862595419847328\n"
          ]
        }
      ],
      "source": [
        "test_input_tensor = torch.from_numpy(test_features).type(torch.FloatTensor)\n",
        "out_probs = net(test_input_tensor).detach().numpy()\n",
        "out_classes = np.argmax(out_probs, axis=1)\n",
        "print(\"Test Accuracy:\", sum(out_classes == test_labels) / len(test_labels))"
      ]
    },
    {
      "cell_type": "markdown",
      "metadata": {
        "id": "DTB2LNXIk5G8"
      },
      "source": [
        "The first question we can ask is which of the features were actually important to the model to reach this decision? This is the first main component of Captum, the ability to obtain **Feature Attributions**. Here we apply Integrated Gradients, one of the Feature Attribution methods included in Captum, which assigns an importance score to each input feature by approximating the integral of gradients of the model’s output with respect to inputs along the straight-line path from given baselines to inputs (see https://arxiv.org/abs/1703.01365).\n",
        "\n",
        "The method takes tensor(s) of input examples (matching the forward function of the model), and returns the input attributions for the given examples. After we get the attribution for each feature, we can visualize it."
      ]
    },
    {
      "cell_type": "code",
      "execution_count": 92,
      "metadata": {
        "colab": {
          "base_uri": "https://localhost:8080/",
          "height": 803
        },
        "id": "31jX_1DylFn1",
        "outputId": "7867c352-8ed2-424c-fe93-acf57456041a"
      },
      "outputs": [
        {
          "output_type": "stream",
          "name": "stdout",
          "text": [
            "Average Feature Importances\n",
            "age :  -0.468\n",
            "sibsp :  -0.074\n",
            "parch :  -0.005\n",
            "fare :  -0.089\n",
            "female :  0.163\n",
            "male :  -0.329\n",
            "embark_C :  0.114\n",
            "embark_Q :  0.018\n",
            "embark_S :  -0.067\n",
            "class_1 :  0.113\n",
            "class_2 :  0.049\n",
            "class_3 :  -0.153\n"
          ]
        },
        {
          "output_type": "display_data",
          "data": {
            "text/plain": [
              "<Figure size 1200x600 with 1 Axes>"
            ],
            "image/png": "[encoded data removed]"
          },
          "metadata": {}
        }
      ],
      "source": [
        "ig = IntegratedGradients(net)\n",
        "test_input_tensor.requires_grad_()\n",
        "attr, delta = ig.attribute(test_input_tensor,target=1, return_convergence_delta=True)\n",
        "attr = attr.detach().numpy()\n",
        "\n",
        "def visualize_importances(feature_names, importances, title=\"Average Feature Importances\", plot=True, axis_title=\"Features\"):\n",
        "    print(title)\n",
        "    for i in range(len(feature_names)):\n",
        "        print(feature_names[i], \": \", '%.3f'%(importances[i]))\n",
        "    x_pos = (np.arange(len(feature_names)))\n",
        "    if plot:\n",
        "        plt.figure(figsize=(12,6))\n",
        "        plt.bar(x_pos, importances, align='center')\n",
        "        plt.xticks(x_pos, feature_names, wrap=True)\n",
        "        plt.xlabel(axis_title)\n",
        "        plt.title(title)\n",
        "visualize_importances(feature_names, np.mean(attr, axis=0))"
      ]
    },
    {
      "cell_type": "markdown",
      "metadata": {
        "id": "qVJq5sHnl10G"
      },
      "source": [
        "An important thing to note is that the average attributions over the test set don't necessarilly capture all information regarding feature importances. We should also look at the distribution of attributions for each feature. It is possible that features have very different attributions for different examples in the dataset.\n",
        "\n",
        "For instance, we can visualize the distribution of attributions for sibsp, the number of siblings / spouses."
      ]
    },
    {
      "cell_type": "code",
      "execution_count": 93,
      "metadata": {
        "colab": {
          "base_uri": "https://localhost:8080/",
          "height": 452
        },
        "id": "QOESEZ9YlMWx",
        "outputId": "f6f9bc46-82eb-43f5-f199-aea71897aa34"
      },
      "outputs": [
        {
          "output_type": "display_data",
          "data": {
            "text/plain": [
              "<Figure size 640x480 with 1 Axes>"
            ],
            "image/png": "[encoded data removed]"
          },
          "metadata": {}
        }
      ],
      "source": [
        "plt.hist(attr[:,1], 100);\n",
        "plt.title(\"Distribution of Sibsp Attribution Values\");"
      ]
    },
    {
      "cell_type": "markdown",
      "metadata": {
        "id": "Gl3gyZTomTbi"
      },
      "source": [
        "Now that we have a better understanding of the importance of different input features, another question we can ask regards the function of the neural network and how different neurons in each layer work together to reach the prediction. This leads us to the second type of attributions available in Captum, Layer Attributions. Layer attributions allow us to understand the importance of all the neurons in the output of a particular layer. For this example, we will be using Layer Conductance, one of the Layer Attribution methods in Captum, which computes conductance with respect to a given layer, with returned output in the shape of the layer’s output, showing the total conductance of each hidden layer neuron.\n",
        "\n",
        "The details of the approach can be found here: https://arxiv.org/abs/1805.12233 https://arxiv.org/pdf/1807.09946.pdf\n",
        "\n",
        "LayerConductance also requires a target index for networks with mutliple outputs, defining the index of the output for which gradients are computed. Similar to feature attributions, we provide target = 1, corresponding to survival."
      ]
    },
    {
      "cell_type": "code",
      "execution_count": 94,
      "metadata": {
        "colab": {
          "base_uri": "https://localhost:8080/",
          "height": 803
        },
        "id": "yeym3aLel9t6",
        "outputId": "a17269ce-ae1b-4698-a8c9-73cff7f9f75d"
      },
      "outputs": [
        {
          "output_type": "stream",
          "name": "stdout",
          "text": [
            "Average Neuron Importances\n",
            "0 :  0.002\n",
            "1 :  -0.200\n",
            "2 :  0.015\n",
            "3 :  0.006\n",
            "4 :  0.057\n",
            "5 :  -0.057\n",
            "6 :  0.027\n",
            "7 :  0.000\n",
            "8 :  -0.258\n",
            "9 :  -0.000\n",
            "10 :  -0.287\n",
            "11 :  0.008\n"
          ]
        },
        {
          "output_type": "display_data",
          "data": {
            "text/plain": [
              "<Figure size 1200x600 with 1 Axes>"
            ],
            "image/png": "[encoded data removed]"
          },
          "metadata": {}
        }
      ],
      "source": [
        "cond = LayerConductance(net, net.sigmoid1)\n",
        "\n",
        "cond_vals = cond.attribute(test_input_tensor,target=1)\n",
        "cond_vals = cond_vals.detach().numpy()\n",
        "\n",
        "visualize_importances(range(12),np.mean(cond_vals, axis=0),title=\"Average Neuron Importances\", axis_title=\"Neurons\")"
      ]
    },
    {
      "cell_type": "markdown",
      "metadata": {
        "id": "nvuvRLoqmypb"
      },
      "source": [
        "We can also look at the distribution of each neuron's attributions. Below we look at the distributions for neurons 7 and 9, and we can confirm that their attribution distributions are very close to 0, suggesting they are not learning substantial features."
      ]
    },
    {
      "cell_type": "code",
      "execution_count": 95,
      "metadata": {
        "colab": {
          "base_uri": "https://localhost:8080/",
          "height": 887
        },
        "id": "DDQ7mNEZmcrL",
        "outputId": "d776043d-b225-42c2-e3fe-9c2fb4b5aad3"
      },
      "outputs": [
        {
          "output_type": "display_data",
          "data": {
            "text/plain": [
              "<Figure size 640x480 with 1 Axes>"
            ],
            "image/png": "[encoded data removed]"
          },
          "metadata": {}
        },
        {
          "output_type": "display_data",
          "data": {
            "text/plain": [
              "<Figure size 640x480 with 1 Axes>"
            ],
            "image/png": "[encoded data removed]"
          },
          "metadata": {}
        }
      ],
      "source": [
        "plt.hist(cond_vals[:,9], 100);\n",
        "plt.title(\"Neuron 9 Distribution\")\n",
        "plt.figure()\n",
        "plt.hist(cond_vals[:,7], 100);\n",
        "plt.title(\"Neuron 7 Distribution\");"
      ]
    },
    {
      "cell_type": "markdown",
      "metadata": {
        "id": "DoGC7-IynEgP"
      },
      "source": [
        "The third type of attributions available in Captum, Neuron Attributions.  This allows us to understand what parts of the input contribute to activating a particular input neuron and so suggest the nature of the most used variable interactions in the best performing model."
      ]
    },
    {
      "cell_type": "code",
      "execution_count": 96,
      "metadata": {
        "colab": {
          "base_uri": "https://localhost:8080/",
          "height": 803
        },
        "id": "ES0LDwGgm2Du",
        "outputId": "92156980-1bd4-478f-8059-81bc15056308"
      },
      "outputs": [
        {
          "output_type": "stream",
          "name": "stdout",
          "text": [
            "Average Feature Importances for Neuron 0\n",
            "age :  0.002\n",
            "sibsp :  0.000\n",
            "parch :  0.000\n",
            "fare :  0.001\n",
            "female :  0.000\n",
            "male :  -0.000\n",
            "embark_C :  0.000\n",
            "embark_Q :  0.000\n",
            "embark_S :  0.000\n",
            "class_1 :  0.000\n",
            "class_2 :  0.000\n",
            "class_3 :  0.000\n"
          ]
        },
        {
          "output_type": "display_data",
          "data": {
            "text/plain": [
              "<Figure size 1200x600 with 1 Axes>"
            ],
            "image/png": "[encoded data removed]"
          },
          "metadata": {}
        }
      ],
      "source": [
        "neuron_cond = NeuronConductance(net, net.sigmoid1)\n",
        "neuron_cond_vals_0 = neuron_cond.attribute(test_input_tensor, neuron_selector=0, target=1)\n",
        "\n",
        "visualize_importances(feature_names, neuron_cond_vals_0.mean(dim=0).detach().numpy(), title=\"Average Feature Importances for Neuron 0\")"
      ]
    },
    {
      "cell_type": "markdown",
      "metadata": {
        "id": "eeS8EjarnchP"
      },
      "source": [
        "From the data above, it appears that the primary input features used by neuron 0 are age and fare, with limited importance for all other features."
      ]
    },
    {
      "cell_type": "markdown",
      "metadata": {
        "id": "2DDyKgWEntMz"
      },
      "source": [
        "**Example 2: Boston House Prices Prediction (Regression)**"
      ]
    },
    {
      "cell_type": "markdown",
      "metadata": {
        "id": "20_Z7hTjn37M"
      },
      "source": [
        "The Captum library can also be applied on regression models to understand important features. Here, a simple DNN model is trained on a sub-sample of a well-known Boston house prices dataset, and we try to use package to interpret it."
      ]
    },
    {
      "cell_type": "code",
      "execution_count": 97,
      "metadata": {
        "id": "gD5kTJs4nfee",
        "outputId": "93b4c14b-4590-4345-e8ad-617634c67bbb",
        "colab": {
          "base_uri": "https://localhost:8080/",
          "height": 1000
        }
      },
      "outputs": [
        {
          "output_type": "error",
          "ename": "ImportError",
          "evalue": "\n`load_boston` has been removed from scikit-learn since version 1.2.\n\nThe Boston housing prices dataset has an ethical problem: as\ninvestigated in [1], the authors of this dataset engineered a\nnon-invertible variable \"B\" assuming that racial self-segregation had a\npositive impact on house prices [2]. Furthermore the goal of the\nresearch that led to the creation of this dataset was to study the\nimpact of air quality but it did not give adequate demonstration of the\nvalidity of this assumption.\n\nThe scikit-learn maintainers therefore strongly discourage the use of\nthis dataset unless the purpose of the code is to study and educate\nabout ethical issues in data science and machine learning.\n\nIn this special case, you can fetch the dataset from the original\nsource::\n\n    import pandas as pd\n    import numpy as np\n\n    data_url = \"http://lib.stat.cmu.edu/datasets/boston\"\n    raw_df = pd.read_csv(data_url, sep=\"\\s+\", skiprows=22, header=None)\n    data = np.hstack([raw_df.values[::2, :], raw_df.values[1::2, :2]])\n    target = raw_df.values[1::2, 2]\n\nAlternative datasets include the California housing dataset and the\nAmes housing dataset. You can load the datasets as follows::\n\n    from sklearn.datasets import fetch_california_housing\n    housing = fetch_california_housing()\n\nfor the California housing dataset and::\n\n    from sklearn.datasets import fetch_openml\n    housing = fetch_openml(name=\"house_prices\", as_frame=True)\n\nfor the Ames housing dataset.\n\n[1] M Carlisle.\n\"Racist data destruction?\"\n<https://medium.com/@docintangible/racist-data-destruction-113e3eff54a8>\n\n[2] Harrison Jr, David, and Daniel L. Rubinfeld.\n\"Hedonic housing prices and the demand for clean air.\"\nJournal of environmental economics and management 5.1 (1978): 81-102.\n<https://www.researchgate.net/publication/4974606_Hedonic_housing_prices_and_the_demand_for_clean_air>\n",
          "traceback": [
            "\u001b[0;31m---------------------------------------------------------------------------\u001b[0m",
            "\u001b[0;31mImportError\u001b[0m                               Traceback (most recent call last)",
            "\u001b[0;32m<ipython-input-97-162d0c88df98>\u001b[0m in \u001b[0;36m<cell line: 10>\u001b[0;34m()\u001b[0m\n\u001b[1;32m      8\u001b[0m \u001b[0;31m#scikit-learn related imports\u001b[0m\u001b[0;34m\u001b[0m\u001b[0;34m\u001b[0m\u001b[0m\n\u001b[1;32m      9\u001b[0m \u001b[0;32mimport\u001b[0m \u001b[0msklearn\u001b[0m\u001b[0;34m\u001b[0m\u001b[0;34m\u001b[0m\u001b[0m\n\u001b[0;32m---> 10\u001b[0;31m \u001b[0;32mfrom\u001b[0m \u001b[0msklearn\u001b[0m\u001b[0;34m.\u001b[0m\u001b[0mdatasets\u001b[0m \u001b[0;32mimport\u001b[0m \u001b[0mload_boston\u001b[0m\u001b[0;34m\u001b[0m\u001b[0;34m\u001b[0m\u001b[0m\n\u001b[0m\u001b[1;32m     11\u001b[0m \u001b[0;32mfrom\u001b[0m \u001b[0msklearn\u001b[0m\u001b[0;34m.\u001b[0m\u001b[0mmodel_selection\u001b[0m \u001b[0;32mimport\u001b[0m \u001b[0mtrain_test_split\u001b[0m\u001b[0;34m\u001b[0m\u001b[0;34m\u001b[0m\u001b[0m\n\u001b[1;32m     12\u001b[0m \u001b[0;32mfrom\u001b[0m \u001b[0msklearn\u001b[0m\u001b[0;34m.\u001b[0m\u001b[0mmetrics\u001b[0m \u001b[0;32mimport\u001b[0m \u001b[0mmean_squared_error\u001b[0m\u001b[0;34m\u001b[0m\u001b[0;34m\u001b[0m\u001b[0m\n",
            "\u001b[0;32m/usr/local/lib/python3.10/dist-packages/sklearn/datasets/__init__.py\u001b[0m in \u001b[0;36m__getattr__\u001b[0;34m(name)\u001b[0m\n\u001b[1;32m    154\u001b[0m             \"\"\"\n\u001b[1;32m    155\u001b[0m         )\n\u001b[0;32m--> 156\u001b[0;31m         \u001b[0;32mraise\u001b[0m \u001b[0mImportError\u001b[0m\u001b[0;34m(\u001b[0m\u001b[0mmsg\u001b[0m\u001b[0;34m)\u001b[0m\u001b[0;34m\u001b[0m\u001b[0;34m\u001b[0m\u001b[0m\n\u001b[0m\u001b[1;32m    157\u001b[0m     \u001b[0;32mtry\u001b[0m\u001b[0;34m:\u001b[0m\u001b[0;34m\u001b[0m\u001b[0;34m\u001b[0m\u001b[0m\n\u001b[1;32m    158\u001b[0m         \u001b[0;32mreturn\u001b[0m \u001b[0mglobals\u001b[0m\u001b[0;34m(\u001b[0m\u001b[0;34m)\u001b[0m\u001b[0;34m[\u001b[0m\u001b[0mname\u001b[0m\u001b[0;34m]\u001b[0m\u001b[0;34m\u001b[0m\u001b[0;34m\u001b[0m\u001b[0m\n",
            "\u001b[0;31mImportError\u001b[0m: \n`load_boston` has been removed from scikit-learn since version 1.2.\n\nThe Boston housing prices dataset has an ethical problem: as\ninvestigated in [1], the authors of this dataset engineered a\nnon-invertible variable \"B\" assuming that racial self-segregation had a\npositive impact on house prices [2]. Furthermore the goal of the\nresearch that led to the creation of this dataset was to study the\nimpact of air quality but it did not give adequate demonstration of the\nvalidity of this assumption.\n\nThe scikit-learn maintainers therefore strongly discourage the use of\nthis dataset unless the purpose of the code is to study and educate\nabout ethical issues in data science and machine learning.\n\nIn this special case, you can fetch the dataset from the original\nsource::\n\n    import pandas as pd\n    import numpy as np\n\n    data_url = \"http://lib.stat.cmu.edu/datasets/boston\"\n    raw_df = pd.read_csv(data_url, sep=\"\\s+\", skiprows=22, header=None)\n    data = np.hstack([raw_df.values[::2, :], raw_df.values[1::2, :2]])\n    target = raw_df.values[1::2, 2]\n\nAlternative datasets include the California housing dataset and the\nAmes housing dataset. You can load the datasets as follows::\n\n    from sklearn.datasets import fetch_california_housing\n    housing = fetch_california_housing()\n\nfor the California housing dataset and::\n\n    from sklearn.datasets import fetch_openml\n    housing = fetch_openml(name=\"house_prices\", as_frame=True)\n\nfor the Ames housing dataset.\n\n[1] M Carlisle.\n\"Racist data destruction?\"\n<https://medium.com/@docintangible/racist-data-destruction-113e3eff54a8>\n\n[2] Harrison Jr, David, and Daniel L. Rubinfeld.\n\"Hedonic housing prices and the demand for clean air.\"\nJournal of environmental economics and management 5.1 (1978): 81-102.\n<https://www.researchgate.net/publication/4974606_Hedonic_housing_prices_and_the_demand_for_clean_air>\n",
            "",
            "\u001b[0;31m---------------------------------------------------------------------------\u001b[0;32m\nNOTE: If your import is failing due to a missing package, you can\nmanually install dependencies using either !pip or !apt.\n\nTo view examples of installing some common dependencies, click the\n\"Open Examples\" button below.\n\u001b[0;31m---------------------------------------------------------------------------\u001b[0m\n"
          ],
          "errorDetails": {
            "actions": [
              {
                "action": "open_url",
                "actionText": "Open Examples",
                "url": "/notebooks/snippets/importing_libraries.ipynb"
              }
            ]
          }
        }
      ],
      "source": [
        "import numpy as np\n",
        "\n",
        "from os import path\n",
        "\n",
        "\n",
        "import matplotlib.pyplot as plt\n",
        "\n",
        "#scikit-learn related imports\n",
        "import sklearn\n",
        "from sklearn.datasets import load_boston\n",
        "from sklearn.model_selection import train_test_split\n",
        "from sklearn.metrics import mean_squared_error\n",
        "\n",
        "# pytorch relates imports\n",
        "import torch\n",
        "import torch.nn as nn\n",
        "import torch.optim as optim\n",
        "\n",
        "# imports from captum library\n",
        "from captum.attr import LayerConductance, LayerActivation, LayerIntegratedGradients\n",
        "from captum.attr import IntegratedGradients, DeepLift, GradientShap, NoiseTunnel, FeatureAblation"
      ]
    },
    {
      "cell_type": "code",
      "execution_count": null,
      "metadata": {
        "colab": {
          "base_uri": "https://localhost:8080/"
        },
        "id": "vI2ByaM-oLAo",
        "outputId": "67e62e8c-d76b-4ebf-b8ee-cce9d0810ffd"
      },
      "outputs": [
        {
          "name": "stderr",
          "output_type": "stream",
          "text": [
            "/usr/local/lib/python3.7/dist-packages/sklearn/utils/deprecation.py:87: FutureWarning: Function load_boston is deprecated; `load_boston` is deprecated in 1.0 and will be removed in 1.2.\n",
            "\n",
            "    The Boston housing prices dataset has an ethical problem. You can refer to\n",
            "    the documentation of this function for further details.\n",
            "\n",
            "    The scikit-learn maintainers therefore strongly discourage the use of this\n",
            "    dataset unless the purpose of the code is to study and educate about\n",
            "    ethical issues in data science and machine learning.\n",
            "\n",
            "    In this special case, you can fetch the dataset from the original\n",
            "    source::\n",
            "\n",
            "        import pandas as pd\n",
            "        import numpy as np\n",
            "\n",
            "\n",
            "        data_url = \"http://lib.stat.cmu.edu/datasets/boston\"\n",
            "        raw_df = pd.read_csv(data_url, sep=\"\\s+\", skiprows=22, header=None)\n",
            "        data = np.hstack([raw_df.values[::2, :], raw_df.values[1::2, :2]])\n",
            "        target = raw_df.values[1::2, 2]\n",
            "\n",
            "    Alternative datasets include the California housing dataset (i.e.\n",
            "    :func:`~sklearn.datasets.fetch_california_housing`) and the Ames housing\n",
            "    dataset. You can load the datasets as follows::\n",
            "\n",
            "        from sklearn.datasets import fetch_california_housing\n",
            "        housing = fetch_california_housing()\n",
            "\n",
            "    for the California housing dataset and::\n",
            "\n",
            "        from sklearn.datasets import fetch_openml\n",
            "        housing = fetch_openml(name=\"house_prices\", as_frame=True)\n",
            "\n",
            "    for the Ames housing dataset.\n",
            "    \n",
            "  warnings.warn(msg, category=FutureWarning)\n"
          ]
        }
      ],
      "source": [
        "# Data Preparation\n",
        "\n",
        "boston = load_boston()\n",
        "\n",
        "# feature_names -> ['CRIM', 'ZN', 'INDUS', 'CHAS', 'NOX', 'RM', 'AGE', 'DIS', 'RAD', 'TAX', 'PTRATIO', 'B', 'LSTAT']\n",
        "feature_names = boston.feature_names\n",
        "\n",
        "X = boston.data\n",
        "y = boston.target\n",
        "\n",
        "torch.manual_seed(1234)\n",
        "np.random.seed(1234)\n",
        "\n",
        "X_train, X_test, y_train, y_test = train_test_split(X, y, test_size=0.3, random_state=0)"
      ]
    },
    {
      "cell_type": "markdown",
      "metadata": {
        "id": "rxZUbv-3obFG"
      },
      "source": [
        "First, we can explore the data and visualize dependent variable vs. each independent variable in separate plots."
      ]
    },
    {
      "cell_type": "code",
      "execution_count": null,
      "metadata": {
        "colab": {
          "base_uri": "https://localhost:8080/",
          "height": 640
        },
        "id": "H4RdcOiMoX93",
        "outputId": "51e676d8-9626-40fa-cba1-17191c314c71"
      },
      "outputs": [
        {
          "data": {
            "image/png": "[encoded data removed]",
            "text/plain": [
              "<Figure size 2160x1440 with 15 Axes>"
            ]
          },
          "metadata": {
            "needs_background": "light"
          },
          "output_type": "display_data"
        }
      ],
      "source": [
        "fig, axs = plt.subplots(nrows = 3, ncols=5, figsize=(30, 20))\n",
        "for i, (ax, col) in enumerate(zip(axs.flat, feature_names)):\n",
        "    x = X[:,i]\n",
        "    pf = np.polyfit(x, y, 1)\n",
        "    p = np.poly1d(pf)\n",
        "\n",
        "    ax.plot(x, y, 'o')\n",
        "    ax.plot(x, p(x),\"r--\")\n",
        "\n",
        "    ax.set_title(col + ' vs Prices')\n",
        "    ax.set_xlabel(col)\n",
        "    ax.set_ylabel('Prices')"
      ]
    },
    {
      "cell_type": "markdown",
      "metadata": {
        "id": "Phd_8TSlooLX"
      },
      "source": [
        "Then, we train a neural network and try to interpret the results.\n",
        "\n",
        "If you have run all the code in this notebook, you should be able to understand each line of code in the following block."
      ]
    },
    {
      "cell_type": "code",
      "execution_count": null,
      "metadata": {
        "colab": {
          "base_uri": "https://localhost:8080/"
        },
        "id": "FpFMTIjLonuz",
        "outputId": "74d91342-23b3-4d61-e121-db230b549008"
      },
      "outputs": [
        {
          "name": "stdout",
          "output_type": "stream",
          "text": [
            "Epoch [1]/[200] running accumulative loss across all batches: 53562.252\n",
            "Epoch [21]/[200] running accumulative loss across all batches: 19221.868\n",
            "Epoch [41]/[200] running accumulative loss across all batches: 18055.469\n",
            "Epoch [61]/[200] running accumulative loss across all batches: 16208.737\n",
            "Epoch [81]/[200] running accumulative loss across all batches: 14538.289\n",
            "Epoch [101]/[200] running accumulative loss across all batches: 12580.051\n",
            "Epoch [121]/[200] running accumulative loss across all batches: 11062.757\n",
            "Epoch [141]/[200] running accumulative loss across all batches: 10054.818\n",
            "Epoch [161]/[200] running accumulative loss across all batches: 9377.320\n",
            "Epoch [181]/[200] running accumulative loss across all batches: 8883.170\n",
            "Finished training the model. Saving the model to the path: /content/boston_model.pt\n"
          ]
        }
      ],
      "source": [
        "# Model setting and training\n",
        "\n",
        "X_train = torch.tensor(X_train).float()\n",
        "y_train = torch.tensor(y_train).view(-1, 1).float()\n",
        "\n",
        "X_test = torch.tensor(X_test).float()\n",
        "y_test = torch.tensor(y_test).view(-1, 1).float()\n",
        "\n",
        "datasets = torch.utils.data.TensorDataset(X_train, y_train)\n",
        "train_iter = torch.utils.data.DataLoader(datasets, batch_size=10, shuffle=True)\n",
        "\n",
        "batch_size = 50\n",
        "num_epochs = 200\n",
        "learning_rate = 0.0001\n",
        "size_hidden1 = 100\n",
        "size_hidden2 = 50\n",
        "size_hidden3 = 10\n",
        "size_hidden4 = 1\n",
        "\n",
        "class BostonModel(nn.Module):\n",
        "    def __init__(self):\n",
        "        super().__init__()\n",
        "        self.lin1 = nn.Linear(13, size_hidden1)\n",
        "        self.relu1 = nn.ReLU()\n",
        "        self.lin2 = nn.Linear(size_hidden1, size_hidden2)\n",
        "        self.relu2 = nn.ReLU()\n",
        "        self.lin3 = nn.Linear(size_hidden2, size_hidden3)\n",
        "        self.relu3 = nn.ReLU()\n",
        "        self.lin4 = nn.Linear(size_hidden3, size_hidden4)\n",
        "\n",
        "    def forward(self, input):\n",
        "        return self.lin4(self.relu3(self.lin3(self.relu2(self.lin2(self.relu1(self.lin1(input)))))))\n",
        "\n",
        "model = BostonModel()\n",
        "model.train()\n",
        "\n",
        "criterion = nn.MSELoss(reduction='sum')\n",
        "\n",
        "def train(model_inp, num_epochs = num_epochs):\n",
        "    optimizer = torch.optim.RMSprop(model_inp.parameters(), lr=learning_rate)\n",
        "    for epoch in range(num_epochs):  # loop over the dataset multiple times\n",
        "        running_loss = 0.0\n",
        "        for inputs, labels in train_iter:\n",
        "            # forward pass\n",
        "            outputs = model_inp(inputs)\n",
        "            # defining loss\n",
        "            loss = criterion(outputs, labels)\n",
        "            # zero the parameter gradients\n",
        "            optimizer.zero_grad()\n",
        "            # computing gradients\n",
        "            loss.backward()\n",
        "            # accumulating running loss\n",
        "            running_loss += loss.item()\n",
        "            # updated weights based on computed gradients\n",
        "            optimizer.step()\n",
        "        if epoch % 20 == 0:\n",
        "            print('Epoch [%d]/[%d] running accumulative loss across all batches: %.3f' %\n",
        "                  (epoch + 1, num_epochs, running_loss))\n",
        "        running_loss = 0.0\n",
        "\n",
        "model_path='/content/boston_model.pt'\n",
        "train(model)\n",
        "print('Finished training the model. Saving the model to the path: {}'.format(model_path))\n",
        "torch.save(model.state_dict(), model_path)"
      ]
    },
    {
      "cell_type": "code",
      "execution_count": null,
      "metadata": {
        "colab": {
          "base_uri": "https://localhost:8080/"
        },
        "id": "b_8Ps9uEprwr",
        "outputId": "489de4e0-0963-4cbb-f10d-37fa73da0ee9"
      },
      "outputs": [
        {
          "name": "stdout",
          "output_type": "stream",
          "text": [
            "model err:  5.4122243\n"
          ]
        }
      ],
      "source": [
        "# model evaluation\n",
        "\n",
        "model.eval()\n",
        "outputs = model(X_test)\n",
        "err = np.sqrt(mean_squared_error(outputs.detach().numpy(), y_test.detach().numpy()))\n",
        "\n",
        "print('model err: ', err)"
      ]
    },
    {
      "cell_type": "markdown",
      "metadata": {
        "id": "iMdtNWhDqIBM"
      },
      "source": [
        "Let's compute the attributions with respect to the inputs of the model using different attribution algorithms from core Captum library and visualize them. We use test dataset defined in the cells above for this purpose. For GradientSHAP specifically we use the entire training dataset as the distribution of baselines.\n",
        "\n",
        "SHAP is short for SHapley Additive exPlanations, first described by Lundberg and Lee in 2017 (here is the original paper: https://arxiv.org/abs/1705.07874) a method to reverse-engineer the output of any predictive algorithm. GradientShap approximates SHAP values by computing the expectations of gradients by randomly sampling from the distribution of baselines/references. It adds white noise to each input sample, selects a random baseline from baselines’ distribution and a random point along the path between the baseline and the input, and computes the gradient of outputs with respect to those selected random points. The final SHAP values represent the expected values of gradients * (inputs - baselines). GradientShap makes an assumption that the input features are independent and that the explanation model is linear, meaning that the explanations are modeled through the additive composition of feature effects. Under those assumptions, SHAP value can be approximated as the expectation of gradients computed for randomly generated input samples after adding gaussian noise to each input for different baselines/references.\n",
        "\n",
        "The execution of the cell below takes half a minute."
      ]
    },
    {
      "cell_type": "code",
      "execution_count": null,
      "metadata": {
        "colab": {
          "base_uri": "https://localhost:8080/"
        },
        "id": "G3Qnbjrbp4sl",
        "outputId": "5153b79c-2498-4fbc-f6b2-91cb24d26cdc"
      },
      "outputs": [
        {
          "name": "stderr",
          "output_type": "stream",
          "text": [
            "/usr/local/lib/python3.7/dist-packages/captum/_utils/gradient.py:59: UserWarning: Input Tensor 0 did not already require gradients, required_grads has been set automatically.\n",
            "  \"required_grads has been set automatically.\" % index\n",
            "/usr/local/lib/python3.7/dist-packages/captum/attr/_core/deep_lift.py:339: UserWarning: Setting forward, backward hooks and attributes on non-linear\n",
            "               activations. The hooks and attributes will be removed\n",
            "            after the attribution is finished\n",
            "  after the attribution is finished\"\"\"\n"
          ]
        }
      ],
      "source": [
        "ig = IntegratedGradients(model)\n",
        "ig_nt = NoiseTunnel(ig)\n",
        "dl = DeepLift(model)\n",
        "gs = GradientShap(model)\n",
        "fa = FeatureAblation(model)\n",
        "\n",
        "ig_attr_test = ig.attribute(X_test, n_steps=50)\n",
        "ig_nt_attr_test = ig_nt.attribute(X_test)\n",
        "dl_attr_test = dl.attribute(X_test)\n",
        "gs_attr_test = gs.attribute(X_test, X_train)\n",
        "fa_attr_test = fa.attribute(X_test)"
      ]
    },
    {
      "cell_type": "markdown",
      "metadata": {
        "id": "AGkbalJnry1m"
      },
      "source": [
        "In the next block, we visualize attribution scores with respect to inputs (using test dataset) for our simple model in one plot. This will help us to understand how similar or different the attribution scores assigned from different attribution algorithms are."
      ]
    },
    {
      "cell_type": "code",
      "execution_count": null,
      "metadata": {
        "colab": {
          "base_uri": "https://localhost:8080/",
          "height": 482
        },
        "id": "1S3ow--GrtzL",
        "outputId": "b8abf7bd-0a27-4769-ef7f-807f7c830d7f"
      },
      "outputs": [
        {
          "data": {
            "image/png": "[encoded data removed]",
            "text/plain": [
              "<Figure size 1440x720 with 1 Axes>"
            ]
          },
          "metadata": {
            "needs_background": "light"
          },
          "output_type": "display_data"
        }
      ],
      "source": [
        "# prepare attributions for visualization\n",
        "\n",
        "x_axis_data = np.arange(X_test.shape[1])\n",
        "x_axis_data_labels = list(map(lambda idx: feature_names[idx], x_axis_data))\n",
        "\n",
        "ig_attr_test_sum = ig_attr_test.detach().numpy().sum(0)\n",
        "ig_attr_test_norm_sum = ig_attr_test_sum / np.linalg.norm(ig_attr_test_sum, ord=1)\n",
        "\n",
        "ig_nt_attr_test_sum = ig_nt_attr_test.detach().numpy().sum(0)\n",
        "ig_nt_attr_test_norm_sum = ig_nt_attr_test_sum / np.linalg.norm(ig_nt_attr_test_sum, ord=1)\n",
        "\n",
        "dl_attr_test_sum = dl_attr_test.detach().numpy().sum(0)\n",
        "dl_attr_test_norm_sum = dl_attr_test_sum / np.linalg.norm(dl_attr_test_sum, ord=1)\n",
        "\n",
        "gs_attr_test_sum = gs_attr_test.detach().numpy().sum(0)\n",
        "gs_attr_test_norm_sum = gs_attr_test_sum / np.linalg.norm(gs_attr_test_sum, ord=1)\n",
        "\n",
        "fa_attr_test_sum = fa_attr_test.detach().numpy().sum(0)\n",
        "fa_attr_test_norm_sum = fa_attr_test_sum / np.linalg.norm(fa_attr_test_sum, ord=1)\n",
        "\n",
        "lin_weight = model.lin1.weight[0].detach().numpy()\n",
        "y_axis_lin_weight = lin_weight / np.linalg.norm(lin_weight, ord=1)\n",
        "\n",
        "width = 0.14\n",
        "legends = ['Int Grads', 'Int Grads w/SmoothGrad','DeepLift', 'GradientSHAP', 'Feature Ablation', 'Weights']\n",
        "\n",
        "plt.figure(figsize=(20, 10))\n",
        "\n",
        "ax = plt.subplot()\n",
        "ax.set_title('Comparing input feature importances across multiple algorithms and learned weights')\n",
        "ax.set_ylabel('Attributions')\n",
        "\n",
        "FONT_SIZE = 16\n",
        "plt.rc('font', size=FONT_SIZE)            # fontsize of the text sizes\n",
        "plt.rc('axes', titlesize=FONT_SIZE)       # fontsize of the axes title\n",
        "plt.rc('axes', labelsize=FONT_SIZE)       # fontsize of the x and y labels\n",
        "plt.rc('legend', fontsize=FONT_SIZE - 4)  # fontsize of the legend\n",
        "\n",
        "ax.bar(x_axis_data, ig_attr_test_norm_sum, width, align='center', alpha=0.8, color='#eb5e7c')\n",
        "ax.bar(x_axis_data + width, ig_nt_attr_test_norm_sum, width, align='center', alpha=0.7, color='#A90000')\n",
        "ax.bar(x_axis_data + 2 * width, dl_attr_test_norm_sum, width, align='center', alpha=0.6, color='#34b8e0')\n",
        "ax.bar(x_axis_data + 3 * width, gs_attr_test_norm_sum, width, align='center',  alpha=0.8, color='#4260f5')\n",
        "ax.bar(x_axis_data + 4 * width, fa_attr_test_norm_sum, width, align='center', alpha=1.0, color='#49ba81')\n",
        "ax.bar(x_axis_data + 5 * width, y_axis_lin_weight, width, align='center', alpha=1.0, color='grey')\n",
        "ax.autoscale_view()\n",
        "plt.tight_layout()\n",
        "\n",
        "ax.set_xticks(x_axis_data + 0.5)\n",
        "ax.set_xticklabels(x_axis_data_labels)\n",
        "\n",
        "plt.legend(legends, loc=3)\n",
        "plt.show()"
      ]
    },
    {
      "cell_type": "markdown",
      "metadata": {
        "id": "C_2PhRtksMvo"
      },
      "source": [
        "The magnitudes of learned model weights tell us about the correlations between the dependent variable Price and each independent variable. Zero weight means no correlation, whereas positive weights indicate positive correlations and negatives the opposite.\n",
        "\n",
        "Attribution algorithms sometimes disagree on assigning importance scores and that they are not always aligned with weights. However, the top important three features: LSTAT, RM and PTRATIO are considered to be important based on both most attribution algorithms and weight scores.\n",
        "\n",
        "Captum also allows us to attribute to the layers of the model and understand which neurons appear to be more important. In the cell below, we will attribute to the inputs of the fourth hidden layer of our model. Similar to the previous case, the attribution is performed on the test dataset."
      ]
    },
    {
      "cell_type": "code",
      "execution_count": null,
      "metadata": {
        "id": "aoD9w1cKsGiR"
      },
      "outputs": [],
      "source": [
        "# Compute the attributions of the output with respect to the inputs of the fourth linear layer\n",
        "lc = LayerConductance(model, model.lin4)\n",
        "lc_attr_test = lc.attribute(X_test, n_steps=100, attribute_to_layer_input=True)\n",
        "\n",
        "# shape: test_examples x size_hidden\n",
        "lc_attr_test = lc_attr_test[0]\n",
        "\n",
        "# weights from forth linear layer\n",
        "# shape: size_hidden4 x size_hidden3\n",
        "lin4_weight = model.lin4.weight"
      ]
    },
    {
      "cell_type": "markdown",
      "metadata": {
        "id": "plqE4N0Ys1tr"
      },
      "source": [
        "In the cell below we normalize and visualize attributions and learned model weights for all 10 neurons in the fourth hidden layer."
      ]
    },
    {
      "cell_type": "code",
      "execution_count": null,
      "metadata": {
        "colab": {
          "base_uri": "https://localhost:8080/",
          "height": 512
        },
        "id": "7nboU4USpQrU",
        "outputId": "a1ecd684-f641-4bb6-d197-7d6d4c0d34de"
      },
      "outputs": [
        {
          "data": {
            "image/png": "[encoded data removed]",
            "text/plain": [
              "<Figure size 1080x576 with 1 Axes>"
            ]
          },
          "metadata": {
            "needs_background": "light"
          },
          "output_type": "display_data"
        }
      ],
      "source": [
        "plt.figure(figsize=(15, 8))\n",
        "\n",
        "lc = LayerConductance(model, model.lin4)\n",
        "lc_attr_test = lc.attribute(X_test, n_steps=100, attribute_to_layer_input=True)\n",
        "\n",
        "x_axis_data = np.arange(lc_attr_test.shape[1])\n",
        "\n",
        "y_axis_lc_attr_test = lc_attr_test.mean(0).detach().numpy()\n",
        "y_axis_lc_attr_test = y_axis_lc_attr_test / np.linalg.norm(y_axis_lc_attr_test, ord=1)\n",
        "\n",
        "y_axis_lin4_weight = lin4_weight[0].detach().numpy()\n",
        "y_axis_lin4_weight = y_axis_lin4_weight / np.linalg.norm(y_axis_lin4_weight, ord=1)\n",
        "\n",
        "width = 0.25\n",
        "legends = ['Attributions','Weights']\n",
        "x_axis_labels = [ 'Neuron {}'.format(i) for i in range(len(y_axis_lin4_weight))]\n",
        "\n",
        "ax = plt.subplot()\n",
        "ax.set_title('Aggregated neuron importances and learned weights in the last linear layer of the model')\n",
        "\n",
        "ax.bar(x_axis_data + width, y_axis_lc_attr_test, width, align='center', alpha=0.5, color='red')\n",
        "ax.bar(x_axis_data + 2 * width, y_axis_lin4_weight, width, align='center', alpha=0.5, color='green')\n",
        "plt.legend(legends, loc=2, prop={'size': 20})\n",
        "ax.autoscale_view()\n",
        "plt.tight_layout()\n",
        "\n",
        "ax.set_xticks(x_axis_data + 0.5)\n",
        "ax.set_xticklabels(x_axis_labels)\n",
        "\n",
        "plt.show()"
      ]
    },
    {
      "cell_type": "markdown",
      "metadata": {
        "id": "x7AtkOqltjLo"
      },
      "source": [
        "It is interesting to observe that the weights and attribution scores are well aligned for all 10 neurons in the last layer. Meaning that the neurons with negative weights also have negative attribution scores and we can observe the same for the positive weights and attributions."
      ]
    },
    {
      "cell_type": "markdown",
      "metadata": {
        "id": "RRAhu1h3DCd4"
      },
      "source": [
        "## <span style=\"color:red\">*Homework Exercise*</span>\n",
        "\n",
        "<span style=\"color:red\"> Similar to tutorial 1.1, your task here is to use the deep learning models we experimented with on synthetic data but instead using a real world dataset.\n",
        "\n",
        "Immediately below each of the following prompts, add Colab cells that:\n",
        "\n",
        "**1)** Find and load a dataset (with more than 500 data points) into both Keras and PyTorch formats, either (a) related to your research or thesis, (b) curated from a popular data repository, or (c) associated with one of the class projects that students will undertake, which explores a social scientific area of your interest  (e.g., the dataset you used for homework 1.1). [kaggle.com](https://www.kaggle.com/datasets) is a popular website for machine learning related datasets, and you can find a good resource for social science datasets [here](https://guides.emich.edu/data/free-data)."
      ]
    },
    {
      "cell_type": "markdown",
      "metadata": {
        "id": "wx8cPoZpvuSF"
      },
      "source": [
        "**2)** Perform a binary classification task (e.g., predicting the presence of absence of a certain state or code) with a ReLU activation for the hidden layers and a sigmoid activation for the output layer (as demonstrated above) using Keras & Pytorch."
      ]
    },
    {
      "cell_type": "code",
      "source": [
        "import pandas as pd\n",
        "\n",
        "# Load the dataset\n",
        "file_path = '/content/drive/MyDrive/MACS 37000/bank-clean.csv'\n",
        "data = pd.read_csv(file_path)\n",
        "# Drop the 'Unnamed: 0' column\n",
        "data = data.drop(columns=['Unnamed: 0'])\n",
        "\n",
        "feature_x = data.drop(columns=['y'])\n",
        "\n",
        "# Display the first few rows of the dataset to understand its structure\n",
        "data.head()\n"
      ],
      "metadata": {
        "id": "e09L8VnMsdad",
        "outputId": "f8ec3fb4-4e0b-4d08-88f9-2dc45b1a26a7",
        "colab": {
          "base_uri": "https://localhost:8080/",
          "height": 256
        }
      },
      "execution_count": 141,
      "outputs": [
        {
          "output_type": "execute_result",
          "data": {
            "text/plain": [
              "   age  default  balance  housing  loan  contact  duration  campaign  pdays  \\\n",
              "0   58        0     2143        1     0        2       261         1     -1   \n",
              "1   44        0       29        1     0        2       151         1     -1   \n",
              "2   33        0        2        1     1        2        76         1     -1   \n",
              "3   47        0     1506        1     0        2        92         1     -1   \n",
              "4   33        0        1        0     0        2       198         1     -1   \n",
              "\n",
              "   previous  ...  month_dec  month_feb  month_jan  month_jul  month_jun  \\\n",
              "0         0  ...          0          0          0          0          0   \n",
              "1         0  ...          0          0          0          0          0   \n",
              "2         0  ...          0          0          0          0          0   \n",
              "3         0  ...          0          0          0          0          0   \n",
              "4         0  ...          0          0          0          0          0   \n",
              "\n",
              "   month_mar  month_may  month_nov  month_oct  month_sep  \n",
              "0          0          1          0          0          0  \n",
              "1          0          1          0          0          0  \n",
              "2          0          1          0          0          0  \n",
              "3          0          1          0          0          0  \n",
              "4          0          1          0          0          0  \n",
              "\n",
              "[5 rows x 71 columns]"
            ],
            "text/html": [
              "\n",
              "  <div id=\"df-4a3a6c00-3059-4e84-b29c-8f40ffd3ce9f\" class=\"colab-df-container\">\n",
              "    <div>\n",
              "<style scoped>\n",
              "    .dataframe tbody tr th:only-of-type {\n",
              "        vertical-align: middle;\n",
              "    }\n",
              "\n",
              "    .dataframe tbody tr th {\n",
              "        vertical-align: top;\n",
              "    }\n",
              "\n",
              "    .dataframe thead th {\n",
              "        text-align: right;\n",
              "    }\n",
              "</style>\n",
              "<table border=\"1\" class=\"dataframe\">\n",
              "  <thead>\n",
              "    <tr style=\"text-align: right;\">\n",
              "      <th></th>\n",
              "      <th>age</th>\n",
              "      <th>default</th>\n",
              "      <th>balance</th>\n",
              "      <th>housing</th>\n",
              "      <th>loan</th>\n",
              "      <th>contact</th>\n",
              "      <th>duration</th>\n",
              "      <th>campaign</th>\n",
              "      <th>pdays</th>\n",
              "      <th>previous</th>\n",
              "      <th>...</th>\n",
              "      <th>month_dec</th>\n",
              "      <th>month_feb</th>\n",
              "      <th>month_jan</th>\n",
              "      <th>month_jul</th>\n",
              "      <th>month_jun</th>\n",
              "      <th>month_mar</th>\n",
              "      <th>month_may</th>\n",
              "      <th>month_nov</th>\n",
              "      <th>month_oct</th>\n",
              "      <th>month_sep</th>\n",
              "    </tr>\n",
              "  </thead>\n",
              "  <tbody>\n",
              "    <tr>\n",
              "      <th>0</th>\n",
              "      <td>58</td>\n",
              "      <td>0</td>\n",
              "      <td>2143</td>\n",
              "      <td>1</td>\n",
              "      <td>0</td>\n",
              "      <td>2</td>\n",
              "      <td>261</td>\n",
              "      <td>1</td>\n",
              "      <td>-1</td>\n",
              "      <td>0</td>\n",
              "      <td>...</td>\n",
              "      <td>0</td>\n",
              "      <td>0</td>\n",
              "      <td>0</td>\n",
              "      <td>0</td>\n",
              "      <td>0</td>\n",
              "      <td>0</td>\n",
              "      <td>1</td>\n",
              "      <td>0</td>\n",
              "      <td>0</td>\n",
              "      <td>0</td>\n",
              "    </tr>\n",
              "    <tr>\n",
              "      <th>1</th>\n",
              "      <td>44</td>\n",
              "      <td>0</td>\n",
              "      <td>29</td>\n",
              "      <td>1</td>\n",
              "      <td>0</td>\n",
              "      <td>2</td>\n",
              "      <td>151</td>\n",
              "      <td>1</td>\n",
              "      <td>-1</td>\n",
              "      <td>0</td>\n",
              "      <td>...</td>\n",
              "      <td>0</td>\n",
              "      <td>0</td>\n",
              "      <td>0</td>\n",
              "      <td>0</td>\n",
              "      <td>0</td>\n",
              "      <td>0</td>\n",
              "      <td>1</td>\n",
              "      <td>0</td>\n",
              "      <td>0</td>\n",
              "      <td>0</td>\n",
              "    </tr>\n",
              "    <tr>\n",
              "      <th>2</th>\n",
              "      <td>33</td>\n",
              "      <td>0</td>\n",
              "      <td>2</td>\n",
              "      <td>1</td>\n",
              "      <td>1</td>\n",
              "      <td>2</td>\n",
              "      <td>76</td>\n",
              "      <td>1</td>\n",
              "      <td>-1</td>\n",
              "      <td>0</td>\n",
              "      <td>...</td>\n",
              "      <td>0</td>\n",
              "      <td>0</td>\n",
              "      <td>0</td>\n",
              "      <td>0</td>\n",
              "      <td>0</td>\n",
              "      <td>0</td>\n",
              "      <td>1</td>\n",
              "      <td>0</td>\n",
              "      <td>0</td>\n",
              "      <td>0</td>\n",
              "    </tr>\n",
              "    <tr>\n",
              "      <th>3</th>\n",
              "      <td>47</td>\n",
              "      <td>0</td>\n",
              "      <td>1506</td>\n",
              "      <td>1</td>\n",
              "      <td>0</td>\n",
              "      <td>2</td>\n",
              "      <td>92</td>\n",
              "      <td>1</td>\n",
              "      <td>-1</td>\n",
              "      <td>0</td>\n",
              "      <td>...</td>\n",
              "      <td>0</td>\n",
              "      <td>0</td>\n",
              "      <td>0</td>\n",
              "      <td>0</td>\n",
              "      <td>0</td>\n",
              "      <td>0</td>\n",
              "      <td>1</td>\n",
              "      <td>0</td>\n",
              "      <td>0</td>\n",
              "      <td>0</td>\n",
              "    </tr>\n",
              "    <tr>\n",
              "      <th>4</th>\n",
              "      <td>33</td>\n",
              "      <td>0</td>\n",
              "      <td>1</td>\n",
              "      <td>0</td>\n",
              "      <td>0</td>\n",
              "      <td>2</td>\n",
              "      <td>198</td>\n",
              "      <td>1</td>\n",
              "      <td>-1</td>\n",
              "      <td>0</td>\n",
              "      <td>...</td>\n",
              "      <td>0</td>\n",
              "      <td>0</td>\n",
              "      <td>0</td>\n",
              "      <td>0</td>\n",
              "      <td>0</td>\n",
              "      <td>0</td>\n",
              "      <td>1</td>\n",
              "      <td>0</td>\n",
              "      <td>0</td>\n",
              "      <td>0</td>\n",
              "    </tr>\n",
              "  </tbody>\n",
              "</table>\n",
              "<p>5 rows × 71 columns</p>\n",
              "</div>\n",
              "    <div class=\"colab-df-buttons\">\n",
              "\n",
              "  <div class=\"colab-df-container\">\n",
              "    <button class=\"colab-df-convert\" onclick=\"convertToInteractive('df-4a3a6c00-3059-4e84-b29c-8f40ffd3ce9f')\"\n",
              "            title=\"Convert this dataframe to an interactive table.\"\n",
              "            style=\"display:none;\">\n",
              "\n",
              "  <svg xmlns=\"http://www.w3.org/2000/svg\" height=\"24px\" viewBox=\"0 -960 960 960\">\n",
              "    <path d=\"M120-120v-720h720v720H120Zm60-500h600v-160H180v160Zm220 220h160v-160H400v160Zm0 220h160v-160H400v160ZM180-400h160v-160H180v160Zm440 0h160v-160H620v160ZM180-180h160v-160H180v160Zm440 0h160v-160H620v160Z\"/>\n",
              "  </svg>\n",
              "    </button>\n",
              "\n",
              "  <style>\n",
              "    .colab-df-container {\n",
              "      display:flex;\n",
              "      gap: 12px;\n",
              "    }\n",
              "\n",
              "    .colab-df-convert {\n",
              "      background-color: #E8F0FE;\n",
              "      border: none;\n",
              "      border-radius: 50%;\n",
              "      cursor: pointer;\n",
              "      display: none;\n",
              "      fill: #1967D2;\n",
              "      height: 32px;\n",
              "      padding: 0 0 0 0;\n",
              "      width: 32px;\n",
              "    }\n",
              "\n",
              "    .colab-df-convert:hover {\n",
              "      background-color: #E2EBFA;\n",
              "      box-shadow: 0px 1px 2px rgba(60, 64, 67, 0.3), 0px 1px 3px 1px rgba(60, 64, 67, 0.15);\n",
              "      fill: #174EA6;\n",
              "    }\n",
              "\n",
              "    .colab-df-buttons div {\n",
              "      margin-bottom: 4px;\n",
              "    }\n",
              "\n",
              "    [theme=dark] .colab-df-convert {\n",
              "      background-color: #3B4455;\n",
              "      fill: #D2E3FC;\n",
              "    }\n",
              "\n",
              "    [theme=dark] .colab-df-convert:hover {\n",
              "      background-color: #434B5C;\n",
              "      box-shadow: 0px 1px 3px 1px rgba(0, 0, 0, 0.15);\n",
              "      filter: drop-shadow(0px 1px 2px rgba(0, 0, 0, 0.3));\n",
              "      fill: #FFFFFF;\n",
              "    }\n",
              "  </style>\n",
              "\n",
              "    <script>\n",
              "      const buttonEl =\n",
              "        document.querySelector('#df-4a3a6c00-3059-4e84-b29c-8f40ffd3ce9f button.colab-df-convert');\n",
              "      buttonEl.style.display =\n",
              "        google.colab.kernel.accessAllowed ? 'block' : 'none';\n",
              "\n",
              "      async function convertToInteractive(key) {\n",
              "        const element = document.querySelector('#df-4a3a6c00-3059-4e84-b29c-8f40ffd3ce9f');\n",
              "        const dataTable =\n",
              "          await google.colab.kernel.invokeFunction('convertToInteractive',\n",
              "                                                    [key], {});\n",
              "        if (!dataTable) return;\n",
              "\n",
              "        const docLinkHtml = 'Like what you see? Visit the ' +\n",
              "          '<a target=\"_blank\" href=https://colab.research.google.com/notebooks/data_table.ipynb>data table notebook</a>'\n",
              "          + ' to learn more about interactive tables.';\n",
              "        element.innerHTML = '';\n",
              "        dataTable['output_type'] = 'display_data';\n",
              "        await google.colab.output.renderOutput(dataTable, element);\n",
              "        const docLink = document.createElement('div');\n",
              "        docLink.innerHTML = docLinkHtml;\n",
              "        element.appendChild(docLink);\n",
              "      }\n",
              "    </script>\n",
              "  </div>\n",
              "\n",
              "\n",
              "<div id=\"df-90bacc00-ab5f-4a3c-9c89-9cbd08ff37e8\">\n",
              "  <button class=\"colab-df-quickchart\" onclick=\"quickchart('df-90bacc00-ab5f-4a3c-9c89-9cbd08ff37e8')\"\n",
              "            title=\"Suggest charts\"\n",
              "            style=\"display:none;\">\n",
              "\n",
              "<svg xmlns=\"http://www.w3.org/2000/svg\" height=\"24px\"viewBox=\"0 0 24 24\"\n",
              "     width=\"24px\">\n",
              "    <g>\n",
              "        <path d=\"M19 3H5c-1.1 0-2 .9-2 2v14c0 1.1.9 2 2 2h14c1.1 0 2-.9 2-2V5c0-1.1-.9-2-2-2zM9 17H7v-7h2v7zm4 0h-2V7h2v10zm4 0h-2v-4h2v4z\"/>\n",
              "    </g>\n",
              "</svg>\n",
              "  </button>\n",
              "\n",
              "<style>\n",
              "  .colab-df-quickchart {\n",
              "      --bg-color: #E8F0FE;\n",
              "      --fill-color: #1967D2;\n",
              "      --hover-bg-color: #E2EBFA;\n",
              "      --hover-fill-color: #174EA6;\n",
              "      --disabled-fill-color: #AAA;\n",
              "      --disabled-bg-color: #DDD;\n",
              "  }\n",
              "\n",
              "  [theme=dark] .colab-df-quickchart {\n",
              "      --bg-color: #3B4455;\n",
              "      --fill-color: #D2E3FC;\n",
              "      --hover-bg-color: #434B5C;\n",
              "      --hover-fill-color: #FFFFFF;\n",
              "      --disabled-bg-color: #3B4455;\n",
              "      --disabled-fill-color: #666;\n",
              "  }\n",
              "\n",
              "  .colab-df-quickchart {\n",
              "    background-color: var(--bg-color);\n",
              "    border: none;\n",
              "    border-radius: 50%;\n",
              "    cursor: pointer;\n",
              "    display: none;\n",
              "    fill: var(--fill-color);\n",
              "    height: 32px;\n",
              "    padding: 0;\n",
              "    width: 32px;\n",
              "  }\n",
              "\n",
              "  .colab-df-quickchart:hover {\n",
              "    background-color: var(--hover-bg-color);\n",
              "    box-shadow: 0 1px 2px rgba(60, 64, 67, 0.3), 0 1px 3px 1px rgba(60, 64, 67, 0.15);\n",
              "    fill: var(--button-hover-fill-color);\n",
              "  }\n",
              "\n",
              "  .colab-df-quickchart-complete:disabled,\n",
              "  .colab-df-quickchart-complete:disabled:hover {\n",
              "    background-color: var(--disabled-bg-color);\n",
              "    fill: var(--disabled-fill-color);\n",
              "    box-shadow: none;\n",
              "  }\n",
              "\n",
              "  .colab-df-spinner {\n",
              "    border: 2px solid var(--fill-color);\n",
              "    border-color: transparent;\n",
              "    border-bottom-color: var(--fill-color);\n",
              "    animation:\n",
              "      spin 1s steps(1) infinite;\n",
              "  }\n",
              "\n",
              "  @keyframes spin {\n",
              "    0% {\n",
              "      border-color: transparent;\n",
              "      border-bottom-color: var(--fill-color);\n",
              "      border-left-color: var(--fill-color);\n",
              "    }\n",
              "    20% {\n",
              "      border-color: transparent;\n",
              "      border-left-color: var(--fill-color);\n",
              "      border-top-color: var(--fill-color);\n",
              "    }\n",
              "    30% {\n",
              "      border-color: transparent;\n",
              "      border-left-color: var(--fill-color);\n",
              "      border-top-color: var(--fill-color);\n",
              "      border-right-color: var(--fill-color);\n",
              "    }\n",
              "    40% {\n",
              "      border-color: transparent;\n",
              "      border-right-color: var(--fill-color);\n",
              "      border-top-color: var(--fill-color);\n",
              "    }\n",
              "    60% {\n",
              "      border-color: transparent;\n",
              "      border-right-color: var(--fill-color);\n",
              "    }\n",
              "    80% {\n",
              "      border-color: transparent;\n",
              "      border-right-color: var(--fill-color);\n",
              "      border-bottom-color: var(--fill-color);\n",
              "    }\n",
              "    90% {\n",
              "      border-color: transparent;\n",
              "      border-bottom-color: var(--fill-color);\n",
              "    }\n",
              "  }\n",
              "</style>\n",
              "\n",
              "  <script>\n",
              "    async function quickchart(key) {\n",
              "      const quickchartButtonEl =\n",
              "        document.querySelector('#' + key + ' button');\n",
              "      quickchartButtonEl.disabled = true;  // To prevent multiple clicks.\n",
              "      quickchartButtonEl.classList.add('colab-df-spinner');\n",
              "      try {\n",
              "        const charts = await google.colab.kernel.invokeFunction(\n",
              "            'suggestCharts', [key], {});\n",
              "      } catch (error) {\n",
              "        console.error('Error during call to suggestCharts:', error);\n",
              "      }\n",
              "      quickchartButtonEl.classList.remove('colab-df-spinner');\n",
              "      quickchartButtonEl.classList.add('colab-df-quickchart-complete');\n",
              "    }\n",
              "    (() => {\n",
              "      let quickchartButtonEl =\n",
              "        document.querySelector('#df-90bacc00-ab5f-4a3c-9c89-9cbd08ff37e8 button');\n",
              "      quickchartButtonEl.style.display =\n",
              "        google.colab.kernel.accessAllowed ? 'block' : 'none';\n",
              "    })();\n",
              "  </script>\n",
              "</div>\n",
              "\n",
              "    </div>\n",
              "  </div>\n"
            ],
            "application/vnd.google.colaboratory.intrinsic+json": {
              "type": "dataframe",
              "variable_name": "data"
            }
          },
          "metadata": {},
          "execution_count": 141
        }
      ]
    },
    {
      "cell_type": "code",
      "source": [
        "from sklearn.model_selection import train_test_split\n",
        "from sklearn.preprocessing import StandardScaler\n",
        "\n",
        "target_column = 'y'\n",
        "\n",
        "# Drop the 'Unnamed: 0' column\n",
        "data = data.drop(columns=['Unnamed: 0'])\n",
        "\n",
        "# Split the dataset into features and target variable\n",
        "X = data.drop(columns=[target_column])\n",
        "y = data[target_column]\n",
        "\n",
        "# Normalize the numerical features\n",
        "scaler = StandardScaler()\n",
        "X_scaled = scaler.fit_transform(X)\n",
        "\n",
        "# Split the data into training and test sets\n",
        "X_train, X_test, y_train, y_test = train_test_split(X_scaled, y, test_size=0.2, random_state=42)\n",
        "\n",
        "# Check the final shape of the datasets\n",
        "X_train.shape, X_test.shape, y_train.shape, y_test.shape\n"
      ],
      "metadata": {
        "id": "igivbySptKJx",
        "outputId": "6abf0d79-fdf9-4082-8726-a1da0a9a6e4a",
        "colab": {
          "base_uri": "https://localhost:8080/"
        }
      },
      "execution_count": 105,
      "outputs": [
        {
          "output_type": "execute_result",
          "data": {
            "text/plain": [
              "((36168, 70), (9043, 70), (36168,), (9043,))"
            ]
          },
          "metadata": {},
          "execution_count": 105
        }
      ]
    },
    {
      "cell_type": "code",
      "source": [
        "from tensorflow.keras.models import Sequential\n",
        "from tensorflow.keras.layers import Dense\n",
        "from tensorflow.keras.optimizers import Adam\n",
        "\n",
        "# Build the Keras model\n",
        "keras_model = Sequential([\n",
        "    Dense(64, activation='relu', input_shape=(X_train.shape[1],)),\n",
        "    Dense(64, activation='relu'),\n",
        "    Dense(1, activation='sigmoid')\n",
        "])\n",
        "\n",
        "# Compile the model\n",
        "keras_model.compile(optimizer=Adam(), loss='binary_crossentropy', metrics=['accuracy'])\n",
        "\n",
        "# Train the model\n",
        "keras_history = keras_model.fit(X_train, y_train, validation_split=0.2, epochs=50, batch_size=32, verbose=0)\n",
        "\n",
        "# Evaluate the model on the test set\n",
        "keras_test_loss, keras_test_accuracy = keras_model.evaluate(X_test, y_test, verbose=0)\n",
        "\n",
        "keras_test_accuracy\n"
      ],
      "metadata": {
        "id": "xlByH_WxtSH7",
        "outputId": "df633597-d892-4995-8dff-ce74e10d7094",
        "colab": {
          "base_uri": "https://localhost:8080/"
        }
      },
      "execution_count": 109,
      "outputs": [
        {
          "output_type": "execute_result",
          "data": {
            "text/plain": [
              "0.8821187615394592"
            ]
          },
          "metadata": {},
          "execution_count": 109
        }
      ]
    },
    {
      "cell_type": "code",
      "source": [
        "import matplotlib.pyplot as plt\n",
        "\n",
        "# Extracting loss values for training and validation sets\n",
        "training_loss = keras_history.history['loss']\n",
        "validation_loss = keras_history.history['val_loss']\n",
        "\n",
        "# Setting up the range for the number of epochs\n",
        "epochs = range(1, len(training_loss) + 1)\n",
        "\n",
        "# Plotting the training and validation loss\n",
        "plt.figure(figsize=(10, 6))\n",
        "plt.plot(epochs, training_loss, label='Training Loss')\n",
        "plt.plot(epochs, validation_loss, label='Validation Loss')\n",
        "plt.title('Training and Validation Loss')\n",
        "plt.xlabel('Epochs')\n",
        "plt.ylabel('Loss')\n",
        "plt.legend()\n",
        "\n",
        "plt.show()\n"
      ],
      "metadata": {
        "id": "hMpPlruqt0in",
        "outputId": "a803777f-3b2e-492a-92e1-f6e2b19777c8",
        "colab": {
          "base_uri": "https://localhost:8080/",
          "height": 564
        }
      },
      "execution_count": 110,
      "outputs": [
        {
          "output_type": "display_data",
          "data": {
            "text/plain": [
              "<Figure size 1000x600 with 1 Axes>"
            ],
            "image/png": "[encoded data removed]"
          },
          "metadata": {}
        }
      ]
    },
    {
      "cell_type": "code",
      "source": [
        "import torch\n",
        "import torch.nn as nn\n",
        "import torch.nn.functional as F\n",
        "from torch.utils.data import DataLoader, TensorDataset\n",
        "from sklearn.metrics import accuracy_score\n",
        "\n",
        "# Convert the datasets to PyTorch tensors\n",
        "X_train_tensor = torch.tensor(X_train).float()\n",
        "y_train_tensor = torch.tensor(y_train.values).float().unsqueeze(1)  # Reshape for binary classification\n",
        "X_test_tensor = torch.tensor(X_test).float()\n",
        "y_test_tensor = torch.tensor(y_test.values).float()\n",
        "\n",
        "# Create TensorDatasets and DataLoaders\n",
        "train_dataset = TensorDataset(X_train_tensor, y_train_tensor)\n",
        "test_dataset = TensorDataset(X_test_tensor, y_test_tensor)\n",
        "train_loader = DataLoader(train_dataset, batch_size=32, shuffle=True)\n",
        "test_loader = DataLoader(test_dataset, batch_size=32, shuffle=False)\n",
        "\n",
        "# Define the PyTorch model\n",
        "class PyTorchModel(nn.Module):\n",
        "    def __init__(self):\n",
        "        super(PyTorchModel, self).__init__()\n",
        "        self.fc1 = nn.Linear(70, 64)  # Input layer\n",
        "        self.fc2 = nn.Linear(64, 64)  # Hidden layer\n",
        "        self.fc3 = nn.Linear(64, 1)   # Output layer\n",
        "\n",
        "    def forward(self, x):\n",
        "        x = F.relu(self.fc1(x))\n",
        "        x = F.relu(self.fc2(x))\n",
        "        x = torch.sigmoid(self.fc3(x))\n",
        "        return x\n",
        "\n",
        "# Initialize the model, loss function, and optimizer\n",
        "model = PyTorchModel()\n",
        "criterion = nn.BCELoss()\n",
        "optimizer = torch.optim.Adam(model.parameters(), lr=0.001)\n",
        "\n",
        "# Training loop\n",
        "epochs = 10\n",
        "for epoch in range(epochs):\n",
        "    for inputs, labels in train_loader:\n",
        "        optimizer.zero_grad()\n",
        "        outputs = model(inputs)\n",
        "        loss = criterion(outputs, labels)\n",
        "        loss.backward()\n",
        "        optimizer.step()\n",
        "\n",
        "# Evaluation\n",
        "model.eval()\n",
        "with torch.no_grad():\n",
        "    y_pred = model(X_test_tensor)\n",
        "    y_pred = y_pred.round()  # Convert probabilities to binary predictions\n",
        "    accuracy = accuracy_score(y_test_tensor.numpy(), y_pred.numpy())\n",
        "\n",
        "accuracy\n"
      ],
      "metadata": {
        "id": "Ly0Kkyl9tYe-",
        "outputId": "d763764a-c33d-42bc-e179-0a85497302cd",
        "colab": {
          "base_uri": "https://localhost:8080/"
        }
      },
      "execution_count": 107,
      "outputs": [
        {
          "output_type": "execute_result",
          "data": {
            "text/plain": [
              "0.9010284197721995"
            ]
          },
          "metadata": {},
          "execution_count": 107
        }
      ]
    },
    {
      "cell_type": "markdown",
      "metadata": {
        "id": "Va-qxtjPv013"
      },
      "source": [
        "**2b)** Which worked better (Keras or PyTorch)?\n",
        "\n"
      ]
    },
    {
      "cell_type": "code",
      "execution_count": null,
      "metadata": {
        "id": "P_B-w8ngwERa"
      },
      "outputs": [],
      "source": [
        "winner = 'Keras' #@param ['Select', 'PyTorch', 'Keras']"
      ]
    },
    {
      "cell_type": "markdown",
      "metadata": {
        "id": "CpzJrEjgZVwU"
      },
      "source": [
        "**3)** Create an alternative network that uses a different loss function using whichever package performed better on **2b**."
      ]
    },
    {
      "cell_type": "code",
      "source": [
        "from tensorflow.keras.models import Sequential\n",
        "from tensorflow.keras.layers import Dense\n",
        "from tensorflow.keras.optimizers import Adam\n",
        "\n",
        "# Build the Keras model\n",
        "keras_model = Sequential([\n",
        "    Dense(64, activation='relu', input_shape=(X_train.shape[1],)),\n",
        "    Dense(64, activation='relu'),\n",
        "    Dense(1, activation='sigmoid')\n",
        "])\n",
        "\n",
        "# Compile the model\n",
        "keras_model.compile(optimizer=Adam(), loss='mean_squared_error', metrics=['accuracy'])\n",
        "\n",
        "# Train the model\n",
        "keras_history = keras_model.fit(X_train, y_train, validation_split=0.2, epochs=10, batch_size=32, verbose=0)\n",
        "\n",
        "# Evaluate the model on the test set\n",
        "keras_test_loss, keras_test_accuracy = keras_model.evaluate(X_test, y_test, verbose=0)\n",
        "\n",
        "keras_test_accuracy\n"
      ],
      "metadata": {
        "id": "guc3sClauvQm",
        "outputId": "4460e26d-926c-417a-935a-4a6843f63834",
        "colab": {
          "base_uri": "https://localhost:8080/"
        }
      },
      "execution_count": 112,
      "outputs": [
        {
          "output_type": "execute_result",
          "data": {
            "text/plain": [
              "0.897710919380188"
            ]
          },
          "metadata": {},
          "execution_count": 112
        }
      ]
    },
    {
      "cell_type": "markdown",
      "metadata": {
        "id": "0LIGYWCjZ7FL"
      },
      "source": [
        "**3b)** Which loss worked better?"
      ]
    },
    {
      "cell_type": "code",
      "execution_count": null,
      "metadata": {
        "id": "z4tf9WFkZx4f"
      },
      "outputs": [],
      "source": [
        "bestloss = 'value' #@param {type:\"string\"}"
      ]
    },
    {
      "cell_type": "markdown",
      "metadata": {
        "id": "BuQIY-O7x5xD"
      },
      "source": [
        "**4)** Create at least 3 alternative neural networks that use a different activation function for the hidden layers (e.g., GELU, tanh, swish) using whichever package performed better on **2b**."
      ]
    },
    {
      "cell_type": "code",
      "source": [
        "from tensorflow.keras.models import Sequential\n",
        "from tensorflow.keras.layers import Dense\n",
        "from tensorflow.keras.activations import gelu\n",
        "\n",
        "# Build the model\n",
        "model_gelu = Sequential([\n",
        "    Dense(64, activation=gelu, input_shape=(X_train.shape[1],)),\n",
        "    Dense(64, activation=gelu),\n",
        "    Dense(1, activation='sigmoid')\n",
        "])\n",
        "\n",
        "model_gelu.compile(optimizer='adam', loss='binary_crossentropy', metrics=['accuracy'])\n",
        "\n",
        "# Train the model\n",
        "history_gelu = model_gelu.fit(X_train, y_train, validation_split=0.2, epochs=10, batch_size=32, verbose=1)\n",
        "\n",
        "# Evaluate the model on the test set\n",
        "\n",
        "keras_test_loss, keras_test_accuracy = model_gelu.evaluate(X_test, y_test, verbose=0)\n",
        "\n"
      ],
      "metadata": {
        "id": "UwOZMjzcvXNL",
        "outputId": "8a3bcda4-121a-49b9-f18f-476aedcb69cb",
        "colab": {
          "base_uri": "https://localhost:8080/"
        }
      },
      "execution_count": 114,
      "outputs": [
        {
          "output_type": "stream",
          "name": "stdout",
          "text": [
            "Epoch 1/10\n",
            "905/905 [==============================] - 9s 8ms/step - loss: 0.2428 - accuracy: 0.8981 - val_loss: 0.2125 - val_accuracy: 0.9052\n",
            "Epoch 2/10\n",
            "905/905 [==============================] - 7s 8ms/step - loss: 0.2040 - accuracy: 0.9075 - val_loss: 0.2069 - val_accuracy: 0.9043\n",
            "Epoch 3/10\n",
            "905/905 [==============================] - 8s 9ms/step - loss: 0.1932 - accuracy: 0.9118 - val_loss: 0.2048 - val_accuracy: 0.9046\n",
            "Epoch 4/10\n",
            "905/905 [==============================] - 4s 4ms/step - loss: 0.1856 - accuracy: 0.9150 - val_loss: 0.2039 - val_accuracy: 0.9077\n",
            "Epoch 5/10\n",
            "905/905 [==============================] - 3s 4ms/step - loss: 0.1787 - accuracy: 0.9195 - val_loss: 0.2066 - val_accuracy: 0.9053\n",
            "Epoch 6/10\n",
            "905/905 [==============================] - 4s 5ms/step - loss: 0.1737 - accuracy: 0.9219 - val_loss: 0.2058 - val_accuracy: 0.9050\n",
            "Epoch 7/10\n",
            "905/905 [==============================] - 4s 4ms/step - loss: 0.1675 - accuracy: 0.9255 - val_loss: 0.2098 - val_accuracy: 0.9063\n",
            "Epoch 8/10\n",
            "905/905 [==============================] - 4s 4ms/step - loss: 0.1606 - accuracy: 0.9295 - val_loss: 0.2118 - val_accuracy: 0.9043\n",
            "Epoch 9/10\n",
            "905/905 [==============================] - 4s 4ms/step - loss: 0.1541 - accuracy: 0.9318 - val_loss: 0.2169 - val_accuracy: 0.9052\n",
            "Epoch 10/10\n",
            "905/905 [==============================] - 4s 5ms/step - loss: 0.1486 - accuracy: 0.9353 - val_loss: 0.2235 - val_accuracy: 0.9019\n"
          ]
        }
      ]
    },
    {
      "cell_type": "code",
      "source": [
        "keras_test_accuracy"
      ],
      "metadata": {
        "id": "NbeKisEnwOJe",
        "outputId": "43570290-3b7e-48b4-b21c-9c1227c5ae5e",
        "colab": {
          "base_uri": "https://localhost:8080/"
        }
      },
      "execution_count": 116,
      "outputs": [
        {
          "output_type": "execute_result",
          "data": {
            "text/plain": [
              "0.8973791599273682"
            ]
          },
          "metadata": {},
          "execution_count": 116
        }
      ]
    },
    {
      "cell_type": "code",
      "source": [
        "# Build the model\n",
        "model_tanh = Sequential([\n",
        "    Dense(64, activation='tanh', input_shape=(X_train.shape[1],)),\n",
        "    Dense(64, activation='tanh'),\n",
        "    Dense(1, activation='sigmoid')\n",
        "])\n",
        "\n",
        "model_tanh.compile(optimizer='adam', loss='binary_crossentropy', metrics=['accuracy'])\n",
        "\n",
        "# Train the model\n",
        "history_tanh = model_tanh.fit(X_train, y_train, validation_split=0.2, epochs=10, batch_size=32, verbose=1)\n",
        "\n",
        "# Evaluate the model on the test set\n",
        "\n",
        "keras_test_loss, keras_test_accuracy = model_tanh.evaluate(X_test, y_test, verbose=0)\n",
        "\n",
        "keras_test_accuracy"
      ],
      "metadata": {
        "id": "em1pHHCevnkw",
        "outputId": "182883e2-2d69-40ee-f26a-d24e72efd112",
        "colab": {
          "base_uri": "https://localhost:8080/"
        }
      },
      "execution_count": 117,
      "outputs": [
        {
          "output_type": "stream",
          "name": "stdout",
          "text": [
            "Epoch 1/10\n",
            "905/905 [==============================] - 8s 8ms/step - loss: 0.2689 - accuracy: 0.8890 - val_loss: 0.2302 - val_accuracy: 0.9030\n",
            "Epoch 2/10\n",
            "905/905 [==============================] - 5s 5ms/step - loss: 0.2216 - accuracy: 0.9051 - val_loss: 0.2158 - val_accuracy: 0.9030\n",
            "Epoch 3/10\n",
            "905/905 [==============================] - 5s 5ms/step - loss: 0.2104 - accuracy: 0.9073 - val_loss: 0.2101 - val_accuracy: 0.9057\n",
            "Epoch 4/10\n",
            "905/905 [==============================] - 5s 6ms/step - loss: 0.2013 - accuracy: 0.9101 - val_loss: 0.2070 - val_accuracy: 0.9043\n",
            "Epoch 5/10\n",
            "905/905 [==============================] - 3s 4ms/step - loss: 0.1925 - accuracy: 0.9130 - val_loss: 0.2134 - val_accuracy: 0.9061\n",
            "Epoch 6/10\n",
            "905/905 [==============================] - 3s 4ms/step - loss: 0.1856 - accuracy: 0.9158 - val_loss: 0.2056 - val_accuracy: 0.9072\n",
            "Epoch 7/10\n",
            "905/905 [==============================] - 4s 4ms/step - loss: 0.1792 - accuracy: 0.9204 - val_loss: 0.2092 - val_accuracy: 0.9050\n",
            "Epoch 8/10\n",
            "905/905 [==============================] - 3s 4ms/step - loss: 0.1724 - accuracy: 0.9234 - val_loss: 0.2136 - val_accuracy: 0.9031\n",
            "Epoch 9/10\n",
            "905/905 [==============================] - 3s 3ms/step - loss: 0.1672 - accuracy: 0.9274 - val_loss: 0.2110 - val_accuracy: 0.9052\n",
            "Epoch 10/10\n",
            "905/905 [==============================] - 4s 4ms/step - loss: 0.1608 - accuracy: 0.9297 - val_loss: 0.2162 - val_accuracy: 0.9045\n"
          ]
        },
        {
          "output_type": "execute_result",
          "data": {
            "text/plain": [
              "0.9020236730575562"
            ]
          },
          "metadata": {},
          "execution_count": 117
        }
      ]
    },
    {
      "cell_type": "code",
      "source": [
        "from tensorflow.keras.layers import Activation\n",
        "from tensorflow.keras.utils import get_custom_objects\n",
        "from tensorflow.keras.backend import sigmoid\n",
        "\n",
        "def swish(x, beta=1):\n",
        "    return x * sigmoid(beta * x)\n",
        "\n",
        "get_custom_objects().update({'swish': Activation(swish)})\n",
        "\n",
        "# Build the model\n",
        "model_swish = Sequential([\n",
        "    Dense(64, activation='swish', input_shape=(X_train.shape[1],)),\n",
        "    Dense(64, activation='swish'),\n",
        "    Dense(1, activation='sigmoid')\n",
        "])\n",
        "\n",
        "model_swish.compile(optimizer='adam', loss='binary_crossentropy', metrics=['accuracy'])\n",
        "\n",
        "# Train the model\n",
        "history_swish = model_swish.fit(X_train, y_train, validation_split=0.2, epochs=10, batch_size=32, verbose=1)\n",
        "\n",
        "# Evaluate the model on the test set\n",
        "\n",
        "keras_test_loss, keras_test_accuracy = model_swish.evaluate(X_test, y_test, verbose=0)\n",
        "\n",
        "keras_test_accuracy"
      ],
      "metadata": {
        "id": "d077ehTMvsNj",
        "outputId": "60d54b4e-96ef-4fcf-de77-dadb98674e99",
        "colab": {
          "base_uri": "https://localhost:8080/"
        }
      },
      "execution_count": 118,
      "outputs": [
        {
          "output_type": "stream",
          "name": "stdout",
          "text": [
            "Epoch 1/10\n",
            "905/905 [==============================] - 5s 4ms/step - loss: 0.2473 - accuracy: 0.8958 - val_loss: 0.2130 - val_accuracy: 0.9036\n",
            "Epoch 2/10\n",
            "905/905 [==============================] - 4s 4ms/step - loss: 0.2094 - accuracy: 0.9052 - val_loss: 0.2074 - val_accuracy: 0.9036\n",
            "Epoch 3/10\n",
            "905/905 [==============================] - 4s 4ms/step - loss: 0.1998 - accuracy: 0.9087 - val_loss: 0.2046 - val_accuracy: 0.9056\n",
            "Epoch 4/10\n",
            "905/905 [==============================] - 4s 4ms/step - loss: 0.1922 - accuracy: 0.9128 - val_loss: 0.2029 - val_accuracy: 0.9077\n",
            "Epoch 5/10\n",
            "905/905 [==============================] - 4s 4ms/step - loss: 0.1866 - accuracy: 0.9146 - val_loss: 0.2043 - val_accuracy: 0.9056\n",
            "Epoch 6/10\n",
            "905/905 [==============================] - 3s 4ms/step - loss: 0.1813 - accuracy: 0.9171 - val_loss: 0.2050 - val_accuracy: 0.9082\n",
            "Epoch 7/10\n",
            "905/905 [==============================] - 4s 5ms/step - loss: 0.1763 - accuracy: 0.9198 - val_loss: 0.2036 - val_accuracy: 0.9067\n",
            "Epoch 8/10\n",
            "905/905 [==============================] - 3s 4ms/step - loss: 0.1719 - accuracy: 0.9220 - val_loss: 0.2086 - val_accuracy: 0.9067\n",
            "Epoch 9/10\n",
            "905/905 [==============================] - 3s 4ms/step - loss: 0.1675 - accuracy: 0.9240 - val_loss: 0.2104 - val_accuracy: 0.9083\n",
            "Epoch 10/10\n",
            "905/905 [==============================] - 4s 4ms/step - loss: 0.1621 - accuracy: 0.9266 - val_loss: 0.2124 - val_accuracy: 0.9042\n"
          ]
        },
        {
          "output_type": "execute_result",
          "data": {
            "text/plain": [
              "0.9013601541519165"
            ]
          },
          "metadata": {},
          "execution_count": 118
        }
      ]
    },
    {
      "cell_type": "markdown",
      "metadata": {
        "id": "ES-Nupg3yw3X"
      },
      "source": [
        "**4b)** Which activation worked best and what is your hypothesis as to why?"
      ]
    },
    {
      "cell_type": "code",
      "execution_count": null,
      "metadata": {
        "id": "v5Lwu0_Oy8ZB"
      },
      "outputs": [],
      "source": [
        "bestactivation = 'tanh' #@param {type:\"string\"}"
      ]
    },
    {
      "cell_type": "markdown",
      "metadata": {
        "id": "-C-yTusJxCpd"
      },
      "source": [
        "**5)** Create at least 3 *deeper* network models (between 4 and 20 layers), with more layers of whatever units performed best on **4b** (still using whatever package performed best on **2b**).  "
      ]
    },
    {
      "cell_type": "code",
      "source": [
        "from tensorflow.keras.models import Sequential\n",
        "from tensorflow.keras.layers import Dense\n",
        "\n",
        "# Build the model\n",
        "model_4_layers = Sequential([\n",
        "    Dense(128, activation='tanh', input_shape=(X_train.shape[1],)),\n",
        "    Dense(64, activation='tanh'),\n",
        "    Dense(32, activation='tanh'),\n",
        "    Dense(16, activation='tanh'),\n",
        "    Dense(1, activation='sigmoid')\n",
        "])\n",
        "\n",
        "model_4_layers.compile(optimizer='adam', loss='binary_crossentropy', metrics=['accuracy'])\n",
        "\n",
        "# Train the model\n",
        "history_4_layers = model_4_layers.fit(X_train, y_train, validation_split=0.2, epochs=10, batch_size=32, verbose=1)\n",
        "\n",
        "# Evaluate the model on the test set\n",
        "\n",
        "keras_test_loss, keras_test_accuracy = model_4_layers.evaluate(X_test, y_test, verbose=0)\n",
        "\n",
        "keras_test_accuracy"
      ],
      "metadata": {
        "id": "mQwogFe7wnSZ",
        "outputId": "c2db2943-05d2-4848-b695-aead63c017a9",
        "colab": {
          "base_uri": "https://localhost:8080/"
        }
      },
      "execution_count": 119,
      "outputs": [
        {
          "output_type": "stream",
          "name": "stdout",
          "text": [
            "Epoch 1/10\n",
            "905/905 [==============================] - 7s 4ms/step - loss: 0.2500 - accuracy: 0.8929 - val_loss: 0.2227 - val_accuracy: 0.9016\n",
            "Epoch 2/10\n",
            "905/905 [==============================] - 5s 5ms/step - loss: 0.2126 - accuracy: 0.9042 - val_loss: 0.2129 - val_accuracy: 0.9059\n",
            "Epoch 3/10\n",
            "905/905 [==============================] - 4s 4ms/step - loss: 0.2005 - accuracy: 0.9103 - val_loss: 0.2102 - val_accuracy: 0.9020\n",
            "Epoch 4/10\n",
            "905/905 [==============================] - 4s 4ms/step - loss: 0.1906 - accuracy: 0.9133 - val_loss: 0.2086 - val_accuracy: 0.9067\n",
            "Epoch 5/10\n",
            "905/905 [==============================] - 4s 5ms/step - loss: 0.1795 - accuracy: 0.9185 - val_loss: 0.2149 - val_accuracy: 0.8999\n",
            "Epoch 6/10\n",
            "905/905 [==============================] - 4s 4ms/step - loss: 0.1706 - accuracy: 0.9221 - val_loss: 0.2138 - val_accuracy: 0.9046\n",
            "Epoch 7/10\n",
            "905/905 [==============================] - 4s 4ms/step - loss: 0.1617 - accuracy: 0.9286 - val_loss: 0.2207 - val_accuracy: 0.8994\n",
            "Epoch 8/10\n",
            "905/905 [==============================] - 4s 5ms/step - loss: 0.1532 - accuracy: 0.9308 - val_loss: 0.2254 - val_accuracy: 0.9042\n",
            "Epoch 9/10\n",
            "905/905 [==============================] - 4s 4ms/step - loss: 0.1442 - accuracy: 0.9365 - val_loss: 0.2330 - val_accuracy: 0.9001\n",
            "Epoch 10/10\n",
            "905/905 [==============================] - 4s 4ms/step - loss: 0.1338 - accuracy: 0.9412 - val_loss: 0.2413 - val_accuracy: 0.8983\n"
          ]
        },
        {
          "output_type": "execute_result",
          "data": {
            "text/plain": [
              "0.893508791923523"
            ]
          },
          "metadata": {},
          "execution_count": 119
        }
      ]
    },
    {
      "cell_type": "code",
      "source": [
        "from tensorflow.keras.models import Sequential\n",
        "from tensorflow.keras.layers import Dense\n",
        "\n",
        "# Build the model\n",
        "model_10_layers = Sequential([\n",
        "    Dense(256, activation='relu', input_shape=(X_train.shape[1],)),\n",
        "    Dense(256, activation='relu'),\n",
        "    Dense(128, activation='relu'),\n",
        "    Dense(128, activation='relu'),\n",
        "    Dense(64, activation='relu'),\n",
        "    Dense(64, activation='relu'),\n",
        "    Dense(32, activation='relu'),\n",
        "    Dense(32, activation='relu'),\n",
        "    Dense(16, activation='relu'),\n",
        "    Dense(16, activation='relu'),\n",
        "    Dense(1, activation='sigmoid')\n",
        "])\n",
        "\n",
        "model_10_layers.compile(optimizer='adam', loss='binary_crossentropy', metrics=['accuracy'])\n",
        "\n",
        "# Train the model\n",
        "history_10_layers = model_10_layers.fit(X_train, y_train, validation_split=0.2, epochs=10, batch_size=32, verbose=1)\n",
        "\n",
        "# Evaluate the model on the test set\n",
        "\n",
        "keras_test_loss, keras_test_accuracy = model_10_layers.evaluate(X_test, y_test, verbose=0)\n",
        "\n",
        "keras_test_accuracy"
      ],
      "metadata": {
        "id": "f2MJ6p-mwzRh",
        "outputId": "f73900a1-2006-41c6-81f5-7cab257e10d1",
        "colab": {
          "base_uri": "https://localhost:8080/"
        }
      },
      "execution_count": 120,
      "outputs": [
        {
          "output_type": "stream",
          "name": "stdout",
          "text": [
            "Epoch 1/10\n",
            "905/905 [==============================] - 8s 6ms/step - loss: 0.2384 - accuracy: 0.8966 - val_loss: 0.2381 - val_accuracy: 0.9054\n",
            "Epoch 2/10\n",
            "905/905 [==============================] - 6s 7ms/step - loss: 0.2054 - accuracy: 0.9050 - val_loss: 0.2109 - val_accuracy: 0.9046\n",
            "Epoch 3/10\n",
            "905/905 [==============================] - 7s 7ms/step - loss: 0.1941 - accuracy: 0.9090 - val_loss: 0.2044 - val_accuracy: 0.9072\n",
            "Epoch 4/10\n",
            "905/905 [==============================] - 6s 7ms/step - loss: 0.1866 - accuracy: 0.9122 - val_loss: 0.2076 - val_accuracy: 0.9046\n",
            "Epoch 5/10\n",
            "905/905 [==============================] - 5s 6ms/step - loss: 0.1783 - accuracy: 0.9159 - val_loss: 0.2004 - val_accuracy: 0.9107\n",
            "Epoch 6/10\n",
            "905/905 [==============================] - 6s 7ms/step - loss: 0.1719 - accuracy: 0.9186 - val_loss: 0.2191 - val_accuracy: 0.9059\n",
            "Epoch 7/10\n",
            "905/905 [==============================] - 5s 6ms/step - loss: 0.1639 - accuracy: 0.9238 - val_loss: 0.2102 - val_accuracy: 0.9042\n",
            "Epoch 8/10\n",
            "905/905 [==============================] - 5s 6ms/step - loss: 0.1550 - accuracy: 0.9275 - val_loss: 0.2283 - val_accuracy: 0.9054\n",
            "Epoch 9/10\n",
            "905/905 [==============================] - 6s 6ms/step - loss: 0.1463 - accuracy: 0.9332 - val_loss: 0.2178 - val_accuracy: 0.8991\n",
            "Epoch 10/10\n",
            "905/905 [==============================] - 5s 6ms/step - loss: 0.1354 - accuracy: 0.9398 - val_loss: 0.2536 - val_accuracy: 0.9016\n"
          ]
        },
        {
          "output_type": "execute_result",
          "data": {
            "text/plain": [
              "0.9005860686302185"
            ]
          },
          "metadata": {},
          "execution_count": 120
        }
      ]
    },
    {
      "cell_type": "code",
      "source": [
        "# Build the model\n",
        "model_20_layers = Sequential([\n",
        "    Dense(512, activation='relu', input_shape=(X_train.shape[1],))]+\n",
        "    [Dense(256, activation='relu') for _ in range(6)]+\n",
        "    [Dense(128, activation='relu') for _ in range(4)]+\n",
        "    [Dense(64, activation='relu') for _ in range(4)]+\n",
        "    [Dense(32, activation='relu') for _ in range(4)]+\n",
        "    [Dense(16, activation='relu')]+\n",
        "    [Dense(1, activation='sigmoid')]\n",
        ")\n",
        "\n",
        "model_20_layers.compile(optimizer='adam', loss='binary_crossentropy', metrics=['accuracy'])\n",
        "\n",
        "# Train the model\n",
        "history_20_layers = model_20_layers.fit(X_train, y_train, validation_split=0.2, epochs=10, batch_size=32, verbose=1)\n",
        "\n",
        "# Evaluate the model on the test set\n",
        "\n",
        "keras_test_loss, keras_test_accuracy = model_20_layers.evaluate(X_test, y_test, verbose=0)\n",
        "\n",
        "keras_test_accuracy"
      ],
      "metadata": {
        "id": "Az995TGaw7De",
        "outputId": "805cbd01-abaa-44aa-a607-655970e7be5e",
        "colab": {
          "base_uri": "https://localhost:8080/"
        }
      },
      "execution_count": 121,
      "outputs": [
        {
          "output_type": "stream",
          "name": "stdout",
          "text": [
            "Epoch 1/10\n",
            "905/905 [==============================] - 13s 8ms/step - loss: 0.2491 - accuracy: 0.8898 - val_loss: 0.2215 - val_accuracy: 0.9035\n",
            "Epoch 2/10\n",
            "905/905 [==============================] - 8s 9ms/step - loss: 0.2144 - accuracy: 0.8983 - val_loss: 0.2230 - val_accuracy: 0.9012\n",
            "Epoch 3/10\n",
            "905/905 [==============================] - 8s 9ms/step - loss: 0.2046 - accuracy: 0.9036 - val_loss: 0.2071 - val_accuracy: 0.9025\n",
            "Epoch 4/10\n",
            "905/905 [==============================] - 7s 8ms/step - loss: 0.2006 - accuracy: 0.9045 - val_loss: 0.2123 - val_accuracy: 0.9048\n",
            "Epoch 5/10\n",
            "905/905 [==============================] - 9s 10ms/step - loss: 0.1920 - accuracy: 0.9089 - val_loss: 0.2054 - val_accuracy: 0.9061\n",
            "Epoch 6/10\n",
            "905/905 [==============================] - 8s 9ms/step - loss: 0.1871 - accuracy: 0.9112 - val_loss: 0.2100 - val_accuracy: 0.9059\n",
            "Epoch 7/10\n",
            "905/905 [==============================] - 8s 8ms/step - loss: 0.1825 - accuracy: 0.9137 - val_loss: 0.2085 - val_accuracy: 0.9061\n",
            "Epoch 8/10\n",
            "905/905 [==============================] - 8s 9ms/step - loss: 0.1771 - accuracy: 0.9156 - val_loss: 0.2125 - val_accuracy: 0.9045\n",
            "Epoch 9/10\n",
            "905/905 [==============================] - 7s 8ms/step - loss: 0.1718 - accuracy: 0.9187 - val_loss: 0.2098 - val_accuracy: 0.9053\n",
            "Epoch 10/10\n",
            "905/905 [==============================] - 8s 9ms/step - loss: 0.1639 - accuracy: 0.9237 - val_loss: 0.2264 - val_accuracy: 0.9006\n"
          ]
        },
        {
          "output_type": "execute_result",
          "data": {
            "text/plain": [
              "0.905009388923645"
            ]
          },
          "metadata": {},
          "execution_count": 121
        }
      ]
    },
    {
      "cell_type": "markdown",
      "metadata": {
        "id": "kzHd5AM6xtt5"
      },
      "source": [
        "**5b)** Which depth performed best?"
      ]
    },
    {
      "cell_type": "code",
      "execution_count": null,
      "metadata": {
        "id": "KT7-vNc2xhk7"
      },
      "outputs": [],
      "source": [
        "bestdepth = 20 #@param {type:\"number\"}"
      ]
    },
    {
      "cell_type": "markdown",
      "metadata": {
        "id": "Keny82CcwbKO"
      },
      "source": [
        "**6)** Perform a regression task on your data using a final linear unit, OR a multi-classification task using the softmax unit. You can use Keras OR PyTorch."
      ]
    },
    {
      "cell_type": "markdown",
      "metadata": {
        "id": "XnSeaHxzz1lB"
      },
      "source": [
        "#@markdown **6b)** Briefly explain what you are predicting, why, and your interpretation of your results.\n",
        "complexpredict = 'value' #@param {type:\"string\"}"
      ]
    },
    {
      "cell_type": "markdown",
      "metadata": {
        "id": "u-SYUuhRpvDA"
      },
      "source": [
        "**7)** Use the Captum library on your model (6 above) and use it to discover the relative importance of input features for the ultimate prediction, and the combination of those features in higher-order features (e.g., neurons) within the model."
      ]
    },
    {
      "cell_type": "code",
      "source": [
        "import torch\n",
        "import torch.nn as nn\n",
        "from captum.attr import IntegratedGradients\n",
        "from captum.attr import DeepLift\n",
        "from captum.attr import LayerConductance\n",
        "\n",
        "class FourLayerModel(nn.Module):\n",
        "    def __init__(self):\n",
        "        super(FourLayerModel, self).__init__()\n",
        "        self.fc1 = nn.Linear(X_train.shape[1], 128)  # Adjust input size as necessary\n",
        "        self.fc2 = nn.Linear(128, 64)\n",
        "        self.fc3 = nn.Linear(64, 32)\n",
        "        self.fc4 = nn.Linear(32, 16)\n",
        "        self.output = nn.Linear(16, 1)\n",
        "\n",
        "    def forward(self, x):\n",
        "        x = torch.relu(self.fc1(x))\n",
        "        x = torch.relu(self.fc2(x))\n",
        "        x = torch.relu(self.fc3(x))\n",
        "        x = torch.relu(self.fc4(x))\n",
        "        x = torch.sigmoid(self.output(x))\n",
        "        return x\n",
        "\n",
        "model = FourLayerModel()\n",
        "\n",
        "# Initialize IntegratedGradients\n",
        "ig = IntegratedGradients(model)\n",
        "\n",
        "# Optionally, use DeepLift and LayerConductance for different insights\n",
        "deep_lift = DeepLift(model)\n",
        "lc = LayerConductance(model, model.fc2)  # Example for second layer\n"
      ],
      "metadata": {
        "id": "OauHfhTWymf_"
      },
      "execution_count": 122,
      "outputs": []
    },
    {
      "cell_type": "code",
      "source": [
        "# Assuming you have a tensor for a single sample\n",
        "input_tensor = X_test_tensor[0].unsqueeze(0)  # Add batch dimension\n",
        "\n",
        "# Compute attributions using IntegratedGradients\n",
        "attributions_ig = ig.attribute(input_tensor, target=0)  # Assuming binary classification\n"
      ],
      "metadata": {
        "id": "eqJOc-Y7ytwy"
      },
      "execution_count": 123,
      "outputs": []
    },
    {
      "cell_type": "code",
      "source": [
        "# DeepLift attributions\n",
        "attributions_dl = deep_lift.attribute(input_tensor, target=0)\n",
        "\n",
        "# Layer conductance for second layer\n",
        "layer_cond = lc.attribute(input_tensor, target=0)\n"
      ],
      "metadata": {
        "id": "e3ZlNvz0yvaQ",
        "outputId": "6bad4eac-c9e7-490d-b6d7-57966fedc06b",
        "colab": {
          "base_uri": "https://localhost:8080/"
        }
      },
      "execution_count": 124,
      "outputs": [
        {
          "output_type": "stream",
          "name": "stderr",
          "text": [
            "/usr/local/lib/python3.10/dist-packages/captum/_utils/gradient.py:57: UserWarning: Input Tensor 0 did not already require gradients, required_grads has been set automatically.\n",
            "  warnings.warn(\n",
            "/usr/local/lib/python3.10/dist-packages/captum/attr/_core/deep_lift.py:304: UserWarning: Setting forward, backward hooks and attributes on non-linear\n",
            "               activations. The hooks and attributes will be removed\n",
            "            after the attribution is finished\n",
            "  warnings.warn(\n"
          ]
        }
      ]
    },
    {
      "cell_type": "code",
      "source": [
        "import matplotlib.pyplot as plt\n",
        "import numpy as np\n",
        "\n",
        "# Visualize the attributions\n",
        "attributions_list = attributions_ig.detach().numpy().flatten()\n",
        "\n",
        "if 'y' in attributions_list:\n",
        "    print('yes')\n",
        "\n",
        "attributions_list = [abs(x) for x in attributions_list]  # Convert to absolute values\n",
        "feature_names = feature_x.columns.to_list()\n",
        "feature_importances = zip(feature_names, attributions_list)\n",
        "feature_importances = sorted(feature_importances, key=lambda x: x[1], reverse=True)\n",
        "\n",
        "top_10_features = feature_importances[:10]\n",
        "\n",
        "for feature, importance in top_10_features:\n",
        "    print(f\"Feature: {feature}, Importance: {importance}\")\n",
        "\n",
        "\n"
      ],
      "metadata": {
        "id": "NRDQDMB7yxLp",
        "outputId": "d9ea1056-1b37-4b9f-e218-e979e89ecf50",
        "colab": {
          "base_uri": "https://localhost:8080/"
        }
      },
      "execution_count": 143,
      "outputs": [
        {
          "output_type": "stream",
          "name": "stdout",
          "text": [
            "Feature: education_secondary, Importance: 0.0006405194220798309\n",
            "Feature: month_may, Importance: 0.0004903010195054161\n",
            "Feature: job_blue-collar, Importance: 0.00045620325765075687\n",
            "Feature: housing, Importance: 0.00035165481397529463\n",
            "Feature: month_aug, Importance: 0.0003311992880958107\n",
            "Feature: loan, Importance: 0.00030009028011220875\n",
            "Feature: job_management, Importance: 0.00027387959611390974\n",
            "Feature: poutcome_unknown, Importance: 0.00024299677307256662\n",
            "Feature: campaign, Importance: 0.000217382651894215\n",
            "Feature: day_9, Importance: 0.0001736294710189696\n"
          ]
        }
      ]
    },
    {
      "cell_type": "code",
      "source": [
        "len(feature_x.columns.to_list()), len(attributions_list)"
      ],
      "metadata": {
        "id": "8ZYVAQpe13U6",
        "outputId": "6bfe1995-979b-485d-fed5-5d2fef645f2f",
        "colab": {
          "base_uri": "https://localhost:8080/"
        }
      },
      "execution_count": 145,
      "outputs": [
        {
          "output_type": "execute_result",
          "data": {
            "text/plain": [
              "(70, 70)"
            ]
          },
          "metadata": {},
          "execution_count": 145
        }
      ]
    },
    {
      "cell_type": "code",
      "execution_count": null,
      "metadata": {
        "id": "PhKzG59-pvDA"
      },
      "outputs": [],
      "source": [
        "#@markdown **7b)** Briefly explain your interpretation of what matters and why based on your Attribution results.\n",
        "complexpredict = 'education_secondary' #@param {type:\"string\"}"
      ]
    },
    {
      "cell_type": "markdown",
      "metadata": {
        "id": "7AGHPklPwwtw"
      },
      "source": [
        "## ***Hint***\n",
        "Here is a reasonably sized dataset that we load for you using pandas. You can use it for this homework, or follow the steps to load your own for use in the machine learning tasks above.\n",
        "\n",
        "Note that if using PyTorch you will be converting the values to Tensors.\n",
        "\n",
        "You can get the dataset by the link:\n",
        "\n",
        "https://drive.google.com/file/d/1XQrT4mAeOb79tmkNFFiPFIU4-N9JH7px/view?usp=sharing\n",
        "\n",
        "The dataset comes from Kaggle:\n",
        "\n",
        "https://www.kaggle.com/fedesoriano/company-bankruptcy-prediction"
      ]
    },
    {
      "cell_type": "code",
      "execution_count": null,
      "metadata": {
        "id": "PzxYiEVKuZx5"
      },
      "outputs": [],
      "source": [
        "import pandas as pd"
      ]
    },
    {
      "cell_type": "code",
      "execution_count": null,
      "metadata": {
        "id": "FzVXdGyWubfT"
      },
      "outputs": [],
      "source": [
        "bankruptcy_df = pd.read_csv(path_to_file)"
      ]
    },
    {
      "cell_type": "code",
      "execution_count": null,
      "metadata": {
        "id": "Unxhw9lbaelx"
      },
      "outputs": [],
      "source": [
        "#@markdown How many hours did it take you to complete this homework?\n",
        "hours = 3 #@param {type:\"number\"}"
      ]
    },
    {
      "cell_type": "code",
      "execution_count": null,
      "metadata": {
        "id": "2lxPrzNzakAA"
      },
      "outputs": [],
      "source": [
        "#@markdown How hard was this homework?\n",
        "too_easy_too_hard = 7.4 #@param {type:\"slider\", min:0, max:10, step:0.1}"
      ]
    }
  ],
  "metadata": {
    "accelerator": "GPU",
    "colab": {
      "collapsed_sections": [
        "RRAhu1h3DCd4"
      ],
      "name": "Tutorial_2_intro_neural_nets.ipynb",
      "provenance": []
    },
    "kernelspec": {
      "display_name": "Python 3 (ipykernel)",
      "language": "python",
      "name": "python3"
    },
    "language_info": {
      "codemirror_mode": {
        "name": "ipython",
        "version": 3
      },
      "file_extension": ".py",
      "mimetype": "text/x-python",
      "name": "python",
      "nbconvert_exporter": "python",
      "pygments_lexer": "ipython3",
      "version": "3.9.7"
    }
  },
  "nbformat": 4,
  "nbformat_minor": 0
}